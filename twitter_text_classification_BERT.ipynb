{
 "cells": [
  {
   "cell_type": "code",
   "execution_count": 0,
   "metadata": {
    "colab": {
     "base_uri": "https://localhost:8080/",
     "height": 159
    },
    "colab_type": "code",
    "id": "PRp9y-oCyMnY",
    "outputId": "be9d4f93-8ad4-4699-9bf0-dae40dd98235"
   },
   "outputs": [
    {
     "name": "stdout",
     "output_type": "stream",
     "text": [
      "Processing /root/.cache/pip/wheels/cf/3f/4d/79d7735015a5f523648df90d871ce8e89a7df8185f7703eeab/bert_for_tf2-0.14.4-cp36-none-any.whl\n",
      "Processing /root/.cache/pip/wheels/67/f5/19/b461849a50aefdf4bab47c4756596e82ee2118b8278e5a1980/py_params-0.9.7-cp36-none-any.whl\n",
      "Processing /root/.cache/pip/wheels/08/c8/7f/81c86b9ff2b86e2c477e3914175be03e679e596067dc630c06/params_flow-0.8.2-cp36-none-any.whl\n",
      "Requirement already satisfied: numpy in /usr/local/lib/python3.6/dist-packages (from params-flow>=0.8.0->bert-for-tf2) (1.18.5)\n",
      "Requirement already satisfied: tqdm in /usr/local/lib/python3.6/dist-packages (from params-flow>=0.8.0->bert-for-tf2) (4.41.1)\n",
      "Installing collected packages: py-params, params-flow, bert-for-tf2\n",
      "Successfully installed bert-for-tf2-0.14.4 params-flow-0.8.2 py-params-0.9.7\n"
     ]
    }
   ],
   "source": [
    "import numpy as np\n",
    "import pandas as pd\n",
    "import matplotlib.pyplot as plt\n",
    "import seaborn as sns\n",
    "\n",
    "import re\n",
    "import string\n",
    "import os\n",
    "import joblib\n",
    "import json\n",
    "\n",
    "pd.set_option('display.max_rows', 10)\n",
    "pd.set_option('display.max_columns', 10)\n",
    "\n",
    "!pip install bert-for-tf2 # TensorFlow 2.0 implementation of BERT\n",
    "import bert\n",
    "\n",
    "from sklearn.model_selection import StratifiedShuffleSplit\n",
    "from sklearn.metrics import precision_score, recall_score, f1_score, confusion_matrix\n",
    "\n",
    "import tensorflow as tf\n",
    "import tensorflow_hub as tf_hub # needed for importing BERT as a Keras Layer\n",
    "from tensorflow import keras\n",
    "from tensorflow.keras.optimizers import SGD\n",
    "from tensorflow.keras.layers import Dense, Input\n",
    "from tensorflow.keras.models import Model, load_model\n",
    "from tensorflow.keras.callbacks import ModelCheckpoint, EarlyStopping, Callback, ReduceLROnPlateau"
   ]
  },
  {
   "cell_type": "markdown",
   "metadata": {
    "colab_type": "text",
    "id": "gHdhQrY6swQT"
   },
   "source": [
    "# EDA"
   ]
  },
  {
   "cell_type": "code",
   "execution_count": 0,
   "metadata": {
    "colab": {
     "base_uri": "https://localhost:8080/",
     "height": 415
    },
    "colab_type": "code",
    "id": "gK9ctwfVswQU",
    "outputId": "c6cbb6ef-449e-4792-a0a7-d433bef17070"
   },
   "outputs": [
    {
     "data": {
      "text/html": [
       "<div>\n",
       "<style scoped>\n",
       "    .dataframe tbody tr th:only-of-type {\n",
       "        vertical-align: middle;\n",
       "    }\n",
       "\n",
       "    .dataframe tbody tr th {\n",
       "        vertical-align: top;\n",
       "    }\n",
       "\n",
       "    .dataframe thead th {\n",
       "        text-align: right;\n",
       "    }\n",
       "</style>\n",
       "<table border=\"1\" class=\"dataframe\">\n",
       "  <thead>\n",
       "    <tr style=\"text-align: right;\">\n",
       "      <th></th>\n",
       "      <th>id</th>\n",
       "      <th>keyword</th>\n",
       "      <th>location</th>\n",
       "      <th>text</th>\n",
       "      <th>target</th>\n",
       "    </tr>\n",
       "  </thead>\n",
       "  <tbody>\n",
       "    <tr>\n",
       "      <th>0</th>\n",
       "      <td>1</td>\n",
       "      <td>NaN</td>\n",
       "      <td>NaN</td>\n",
       "      <td>Our Deeds are the Reason of this #earthquake M...</td>\n",
       "      <td>1</td>\n",
       "    </tr>\n",
       "    <tr>\n",
       "      <th>1</th>\n",
       "      <td>4</td>\n",
       "      <td>NaN</td>\n",
       "      <td>NaN</td>\n",
       "      <td>Forest fire near La Ronge Sask. Canada</td>\n",
       "      <td>1</td>\n",
       "    </tr>\n",
       "    <tr>\n",
       "      <th>2</th>\n",
       "      <td>5</td>\n",
       "      <td>NaN</td>\n",
       "      <td>NaN</td>\n",
       "      <td>All residents asked to 'shelter in place' are ...</td>\n",
       "      <td>1</td>\n",
       "    </tr>\n",
       "    <tr>\n",
       "      <th>3</th>\n",
       "      <td>6</td>\n",
       "      <td>NaN</td>\n",
       "      <td>NaN</td>\n",
       "      <td>13,000 people receive #wildfires evacuation or...</td>\n",
       "      <td>1</td>\n",
       "    </tr>\n",
       "    <tr>\n",
       "      <th>4</th>\n",
       "      <td>7</td>\n",
       "      <td>NaN</td>\n",
       "      <td>NaN</td>\n",
       "      <td>Just got sent this photo from Ruby #Alaska as ...</td>\n",
       "      <td>1</td>\n",
       "    </tr>\n",
       "    <tr>\n",
       "      <th>...</th>\n",
       "      <td>...</td>\n",
       "      <td>...</td>\n",
       "      <td>...</td>\n",
       "      <td>...</td>\n",
       "      <td>...</td>\n",
       "    </tr>\n",
       "    <tr>\n",
       "      <th>7608</th>\n",
       "      <td>10869</td>\n",
       "      <td>NaN</td>\n",
       "      <td>NaN</td>\n",
       "      <td>Two giant cranes holding a bridge collapse int...</td>\n",
       "      <td>1</td>\n",
       "    </tr>\n",
       "    <tr>\n",
       "      <th>7609</th>\n",
       "      <td>10870</td>\n",
       "      <td>NaN</td>\n",
       "      <td>NaN</td>\n",
       "      <td>@aria_ahrary @TheTawniest The out of control w...</td>\n",
       "      <td>1</td>\n",
       "    </tr>\n",
       "    <tr>\n",
       "      <th>7610</th>\n",
       "      <td>10871</td>\n",
       "      <td>NaN</td>\n",
       "      <td>NaN</td>\n",
       "      <td>M1.94 [01:04 UTC]?5km S of Volcano Hawaii. htt...</td>\n",
       "      <td>1</td>\n",
       "    </tr>\n",
       "    <tr>\n",
       "      <th>7611</th>\n",
       "      <td>10872</td>\n",
       "      <td>NaN</td>\n",
       "      <td>NaN</td>\n",
       "      <td>Police investigating after an e-bike collided ...</td>\n",
       "      <td>1</td>\n",
       "    </tr>\n",
       "    <tr>\n",
       "      <th>7612</th>\n",
       "      <td>10873</td>\n",
       "      <td>NaN</td>\n",
       "      <td>NaN</td>\n",
       "      <td>The Latest: More Homes Razed by Northern Calif...</td>\n",
       "      <td>1</td>\n",
       "    </tr>\n",
       "  </tbody>\n",
       "</table>\n",
       "<p>7613 rows × 5 columns</p>\n",
       "</div>"
      ],
      "text/plain": [
       "         id keyword location  \\\n",
       "0         1     NaN      NaN   \n",
       "1         4     NaN      NaN   \n",
       "2         5     NaN      NaN   \n",
       "3         6     NaN      NaN   \n",
       "4         7     NaN      NaN   \n",
       "...     ...     ...      ...   \n",
       "7608  10869     NaN      NaN   \n",
       "7609  10870     NaN      NaN   \n",
       "7610  10871     NaN      NaN   \n",
       "7611  10872     NaN      NaN   \n",
       "7612  10873     NaN      NaN   \n",
       "\n",
       "                                                   text  target  \n",
       "0     Our Deeds are the Reason of this #earthquake M...       1  \n",
       "1                Forest fire near La Ronge Sask. Canada       1  \n",
       "2     All residents asked to 'shelter in place' are ...       1  \n",
       "3     13,000 people receive #wildfires evacuation or...       1  \n",
       "4     Just got sent this photo from Ruby #Alaska as ...       1  \n",
       "...                                                 ...     ...  \n",
       "7608  Two giant cranes holding a bridge collapse int...       1  \n",
       "7609  @aria_ahrary @TheTawniest The out of control w...       1  \n",
       "7610  M1.94 [01:04 UTC]?5km S of Volcano Hawaii. htt...       1  \n",
       "7611  Police investigating after an e-bike collided ...       1  \n",
       "7612  The Latest: More Homes Razed by Northern Calif...       1  \n",
       "\n",
       "[7613 rows x 5 columns]"
      ]
     },
     "execution_count": 4,
     "metadata": {
      "tags": []
     },
     "output_type": "execute_result"
    }
   ],
   "source": [
    "df = pd.read_csv('/content/drive/My Drive/Twitter/train.csv')\n",
    "df"
   ]
  },
  {
   "cell_type": "markdown",
   "metadata": {
    "colab_type": "text",
    "id": "QJiT2yJtswQZ"
   },
   "source": [
    "### Missing values"
   ]
  },
  {
   "cell_type": "code",
   "execution_count": 0,
   "metadata": {
    "colab": {
     "base_uri": "https://localhost:8080/",
     "height": 202
    },
    "colab_type": "code",
    "id": "RPNgImgnswQZ",
    "outputId": "e2c08b91-66b0-49b8-e1fc-4e7f12e51148"
   },
   "outputs": [
    {
     "data": {
      "text/html": [
       "<div>\n",
       "<style scoped>\n",
       "    .dataframe tbody tr th:only-of-type {\n",
       "        vertical-align: middle;\n",
       "    }\n",
       "\n",
       "    .dataframe tbody tr th {\n",
       "        vertical-align: top;\n",
       "    }\n",
       "\n",
       "    .dataframe thead th {\n",
       "        text-align: right;\n",
       "    }\n",
       "</style>\n",
       "<table border=\"1\" class=\"dataframe\">\n",
       "  <thead>\n",
       "    <tr style=\"text-align: right;\">\n",
       "      <th></th>\n",
       "      <th>% missing values</th>\n",
       "    </tr>\n",
       "  </thead>\n",
       "  <tbody>\n",
       "    <tr>\n",
       "      <th>id</th>\n",
       "      <td>0.00</td>\n",
       "    </tr>\n",
       "    <tr>\n",
       "      <th>keyword</th>\n",
       "      <td>0.80</td>\n",
       "    </tr>\n",
       "    <tr>\n",
       "      <th>location</th>\n",
       "      <td>33.27</td>\n",
       "    </tr>\n",
       "    <tr>\n",
       "      <th>text</th>\n",
       "      <td>0.00</td>\n",
       "    </tr>\n",
       "    <tr>\n",
       "      <th>target</th>\n",
       "      <td>0.00</td>\n",
       "    </tr>\n",
       "  </tbody>\n",
       "</table>\n",
       "</div>"
      ],
      "text/plain": [
       "          % missing values\n",
       "id                    0.00\n",
       "keyword               0.80\n",
       "location             33.27\n",
       "text                  0.00\n",
       "target                0.00"
      ]
     },
     "execution_count": 5,
     "metadata": {
      "tags": []
     },
     "output_type": "execute_result"
    }
   ],
   "source": [
    "missing = (df.isnull().sum()/len(df)*100).round(2)\n",
    "pd.DataFrame({'% missing values': missing})"
   ]
  },
  {
   "cell_type": "markdown",
   "metadata": {
    "colab_type": "text",
    "id": "6oM0WvLGswQd"
   },
   "source": [
    "### Remove unnecessary columns"
   ]
  },
  {
   "cell_type": "code",
   "execution_count": 0,
   "metadata": {
    "colab": {},
    "colab_type": "code",
    "id": "ERn7-y7ZswQf"
   },
   "outputs": [],
   "source": [
    "df.drop(['id','keyword','location'], axis=1, inplace = True) "
   ]
  },
  {
   "cell_type": "markdown",
   "metadata": {
    "colab_type": "text",
    "id": "DZFu70mtswQi"
   },
   "source": [
    "Although 'keywords' doesnt have alot of missing values, I'm dropping it because I dont think I will need it as an additional input. Text alone should be fine. Maybe in the future I might consider including keywords"
   ]
  },
  {
   "cell_type": "markdown",
   "metadata": {
    "colab_type": "text",
    "id": "q5c7y56tBqiA"
   },
   "source": [
    "### Class distribution"
   ]
  },
  {
   "cell_type": "code",
   "execution_count": 0,
   "metadata": {
    "colab": {
     "base_uri": "https://localhost:8080/",
     "height": 295
    },
    "colab_type": "code",
    "id": "ZR1byV5fArSB",
    "outputId": "3cd55cdb-3e16-4f49-9209-957cbc5834c0"
   },
   "outputs": [
    {
     "data": {
      "image/png": "[encoded data removed]",
      "text/plain": [
       "<Figure size 432x288 with 1 Axes>"
      ]
     },
     "metadata": {
      "needs_background": "light",
      "tags": []
     },
     "output_type": "display_data"
    }
   ],
   "source": [
    "ax = sns.countplot(x = 'target', data = df)\n",
    "ax.set(xlabel='Class', ylabel='Count', title = 'Class Distribution')\n",
    "plt.show()"
   ]
  },
  {
   "cell_type": "markdown",
   "metadata": {
    "colab_type": "text",
    "id": "S_aVYev1BEx8"
   },
   "source": [
    "There are more Non-disaster than Disaster tweets "
   ]
  },
  {
   "cell_type": "markdown",
   "metadata": {
    "colab_type": "text",
    "id": "Xh0LDU9TswQj"
   },
   "source": [
    "### Total number of words in each tweet"
   ]
  },
  {
   "cell_type": "code",
   "execution_count": 0,
   "metadata": {
    "colab": {
     "base_uri": "https://localhost:8080/",
     "height": 223
    },
    "colab_type": "code",
    "id": "UUWFM2btswQk",
    "outputId": "5059261d-34ff-49f7-cd6d-b3ca5f90c968"
   },
   "outputs": [
    {
     "data": {
      "image/png": "[encoded data removed]",
      "text/plain": [
       "<Figure size 1080x216 with 2 Axes>"
      ]
     },
     "metadata": {
      "needs_background": "light",
      "tags": []
     },
     "output_type": "display_data"
    }
   ],
   "source": [
    "df_len_0 = df[df['target']==0]['text'].str.split().map(lambda x: len(x))\n",
    "df_len_1 = df[df['target']==1]['text'].str.split().map(lambda x: len(x)) \n",
    "\n",
    "fig, axes = plt.subplots(1, 2, figsize=(15,3))\n",
    "\n",
    "sns.countplot(df_len_0, ax=axes[0], color='green')\n",
    "axes[0].set(xlabel='Number of words per tweet', ylabel='Number of tweets', title='Non-disaster tweets')\n",
    "\n",
    "sns.countplot(df_len_1, ax=axes[1], color='red')\n",
    "axes[1].set(xlabel='Number of words per tweet', ylabel='Number of tweets', title='Disaster tweets')\n",
    "\n",
    "plt.show()"
   ]
  },
  {
   "cell_type": "markdown",
   "metadata": {
    "colab_type": "text",
    "id": "HDRqDSC-swQt"
   },
   "source": [
    "The distribution for number of words per tweet looks similar between disaster and non-disaster tweets "
   ]
  },
  {
   "cell_type": "markdown",
   "metadata": {
    "colab_type": "text",
    "id": "weq5GgJIswQy"
   },
   "source": [
    "# Data Cleaning"
   ]
  },
  {
   "cell_type": "code",
   "execution_count": 0,
   "metadata": {
    "colab": {},
    "colab_type": "code",
    "id": "jIrYfdMrswQz"
   },
   "outputs": [],
   "source": [
    "def clean(text):\n",
    "    \n",
    "  text = text.lower()\n",
    "\n",
    "  #Read from JSON file to fix contractions, special characters, abbreviations, typos\n",
    "  file_r = open('/content/drive/My Drive/Twitter/clean_json.txt',\"r\",encoding=\"utf-8\")\n",
    "  clean_dict = json.load(file_r)\n",
    "  file_r.close()\n",
    "\n",
    "  for key in clean_dict:\n",
    "    text = re.sub(key, clean_dict[key], text) \n",
    "  \n",
    "  #Remove URL\n",
    "  pattern = re.compile('http[s]?://(?:[a-zA-Z]|[0-9]|[$-_@.&+]|[!*\\(\\),]|(?:%[0-9a-fA-F][0-9a-fA-F]))+') \n",
    "  text = pattern.sub('', text)    \n",
    "  \n",
    "  #Punctuations are separated from words\n",
    "  punctuations = '!\"#$%&\\'()*+,-./:;<=>?@[\\\\]^_`{|}~' # this list is from \"string.punctuation\"\n",
    "  for p in punctuations:\n",
    "    text = text.replace(p, f' {p} ') \n",
    "\n",
    "  # Separating ... and .. from words by adding spaces\n",
    "  text = text.replace('...', ' ... ')\n",
    "  if '...' not in text:\n",
    "    text = text.replace('..', ' ... ')   \n",
    "  \n",
    "  return text"
   ]
  },
  {
   "cell_type": "code",
   "execution_count": 0,
   "metadata": {
    "colab": {
     "base_uri": "https://localhost:8080/",
     "height": 55
    },
    "colab_type": "code",
    "id": "BZKJSAo9Rnz9",
    "outputId": "d0cc4eb0-bc3b-42dc-fb02-3a1f0094d473"
   },
   "outputs": [
    {
     "data": {
      "text/plain": [
       "\"check if punctuations such as  !  @  #  $  %  ^  &  *  (  )  _  +  =  -  [  ]  ;  '  \\\\  |  ~  `  .  /  ,  {  }  :  ?  >  <   .   .  .   .  .  .  are separated\""
      ]
     },
     "execution_count": 10,
     "metadata": {
      "tags": []
     },
     "output_type": "execute_result"
    }
   ],
   "source": [
    "sample_sentence = \"Check if punctuations such as !@#$%^&*()_+=-[];'\\|~`./,{}:?>< . .. ... are separated\"\n",
    "clean(sample_sentence)"
   ]
  },
  {
   "cell_type": "code",
   "execution_count": 0,
   "metadata": {
    "colab": {
     "base_uri": "https://localhost:8080/",
     "height": 35
    },
    "colab_type": "code",
    "id": "NmDfKOMkXBNb",
    "outputId": "cc2b474c-008b-4550-e3ae-983029d04dab"
   },
   "outputs": [
    {
     "data": {
      "text/plain": [
       "'check if url such as  are removed'"
      ]
     },
     "execution_count": 12,
     "metadata": {
      "tags": []
     },
     "output_type": "execute_result"
    }
   ],
   "source": [
    "sample_sentence = \"Check if URL such as https://www.kaggle.com/c/nlp-getting-started are removed\"\n",
    "clean(sample_sentence)"
   ]
  },
  {
   "cell_type": "code",
   "execution_count": 0,
   "metadata": {
    "colab": {
     "base_uri": "https://localhost:8080/",
     "height": 35
    },
    "colab_type": "code",
    "id": "gEWXmqdrw7kv",
    "outputId": "c35ba4b0-36d0-4e95-8f14-5118059b52da"
   },
   "outputs": [
    {
     "data": {
      "text/plain": [
       "'are not ,  america ,  16 year ,  mediterranean'"
      ]
     },
     "execution_count": 13,
     "metadata": {
      "tags": []
     },
     "output_type": "execute_result"
    }
   ],
   "source": [
    "# check if contractions, special characters, abbreviations, and typos are fixed\n",
    "sample_sentence = \"aren't, america\\x89ûªs, 16yr, mediterran\" \n",
    "clean(sample_sentence)"
   ]
  },
  {
   "cell_type": "code",
   "execution_count": 0,
   "metadata": {
    "colab": {},
    "colab_type": "code",
    "id": "gD3K4jhUswQ3"
   },
   "outputs": [],
   "source": [
    "df['text_cleaned'] = df['text'].apply(lambda series : clean(series))"
   ]
  },
  {
   "cell_type": "markdown",
   "metadata": {
    "colab_type": "text",
    "id": "oC8FH6mKswRj"
   },
   "source": [
    "# Train Model"
   ]
  },
  {
   "cell_type": "code",
   "execution_count": 0,
   "metadata": {
    "colab": {},
    "colab_type": "code",
    "id": "D7h6CNcq3J_q"
   },
   "outputs": [],
   "source": [
    "# import the pre-trained BERT model as Keras Layer\n",
    "bert_layer = tf_hub.KerasLayer('https://tfhub.dev/tensorflow/bert_en_uncased_L-12_H-768_A-12/2', trainable=True)"
   ]
  },
  {
   "cell_type": "code",
   "execution_count": 0,
   "metadata": {
    "colab": {},
    "colab_type": "code",
    "id": "EMLDB6Ab3KxM"
   },
   "outputs": [],
   "source": [
    "vocab_file = bert_layer.resolved_object.vocab_file.asset_path.numpy()\n",
    "do_lower_case = bert_layer.resolved_object.do_lower_case.numpy()\n",
    "tokenizer = bert.bert_tokenization.FullTokenizer(vocab_file, do_lower_case) "
   ]
  },
  {
   "cell_type": "code",
   "execution_count": 0,
   "metadata": {
    "colab": {},
    "colab_type": "code",
    "id": "SWG00ucG3N5b"
   },
   "outputs": [],
   "source": [
    "max_seq_len = 128"
   ]
  },
  {
   "cell_type": "code",
   "execution_count": 0,
   "metadata": {
    "colab": {},
    "colab_type": "code",
    "id": "tYbT9hD-3XAU"
   },
   "outputs": [],
   "source": [
    "def encode(texts, max_seq_length = max_seq_len): # function for encoding input tweets\n",
    "                \n",
    "    all_tokens = []\n",
    "    all_masks = []\n",
    "    all_segments = []\n",
    "\n",
    "    for text in texts: \n",
    "        text = tokenizer.tokenize(text) \n",
    "        text = text[:max_seq_length - 2] \n",
    "        input_sequence = ['[CLS]'] + text + ['[SEP]'] \n",
    "        pad_len = max_seq_length - len(input_sequence) \n",
    "\n",
    "        tokens = tokenizer.convert_tokens_to_ids(input_sequence) \n",
    "        tokens += [0] * pad_len \n",
    "        \n",
    "        pad_masks = [1] * len(input_sequence) + [0] * pad_len \n",
    "        \n",
    "        segment_ids = [0] * max_seq_length \n",
    "\n",
    "        all_tokens.append(tokens)\n",
    "        all_masks.append(pad_masks)\n",
    "        all_segments.append(segment_ids)\n",
    "\n",
    "    return np.array(all_tokens), np.array(all_masks), np.array(all_segments)"
   ]
  },
  {
   "cell_type": "code",
   "execution_count": 0,
   "metadata": {
    "colab": {},
    "colab_type": "code",
    "id": "DyszEayo3Y20"
   },
   "outputs": [],
   "source": [
    "def build_model(max_seq_length = max_seq_len): \n",
    "\n",
    "    # 3 Inputs\n",
    "    input_word_ids = Input(shape=(max_seq_length,), dtype=tf.int32, name='input_word_ids') \n",
    "    input_mask = Input(shape=(max_seq_length,), dtype=tf.int32, name='input_mask')\n",
    "    segment_ids = Input(shape=(max_seq_length,), dtype=tf.int32, name='segment_ids')    \n",
    " \n",
    "    # pass the 3 inputs to the BERT layer, and output contextual embeddings\n",
    "    pooled_embed, sequence_embed = bert_layer([input_word_ids, input_mask, segment_ids]) \n",
    "    \n",
    "    CLS_embed = sequence_embed[:,0,:] # embedding of [CLS] token\n",
    "    output = Dense(1, activation='sigmoid')(CLS_embed) # pass CLS_embed as input to the Output Layer\n",
    "    \n",
    "    model = Model(inputs=[input_word_ids, input_mask, segment_ids], \n",
    "                  outputs=output) \n",
    "\n",
    "    model.compile(loss='binary_crossentropy', \n",
    "                  optimizer=SGD(learning_rate=1e-4, momentum=0.8), \n",
    "                  metrics=['accuracy'])\n",
    "\n",
    "    return model"
   ]
  },
  {
   "cell_type": "code",
   "execution_count": 0,
   "metadata": {
    "colab": {},
    "colab_type": "code",
    "id": "7_gNimOE3d6L"
   },
   "outputs": [],
   "source": [
    "# Create validation set, stratified based on target class distribution\n",
    "s = StratifiedShuffleSplit(test_size=0.2, random_state=42)\n",
    "\n",
    "for train_index, val_index in s.split(df, df[\"target\"]): \n",
    "    train = df.loc[train_index]\n",
    "    val = df.loc[val_index]\n",
    "    \n",
    "train.reset_index(inplace=True, drop=True) \n",
    "val.reset_index(inplace=True, drop=True) "
   ]
  },
  {
   "cell_type": "code",
   "execution_count": 0,
   "metadata": {
    "colab": {},
    "colab_type": "code",
    "id": "RQ9Xjsh73eoC"
   },
   "outputs": [],
   "source": [
    "X_train_encoded = encode(train['text_cleaned'].str.lower()) # outputs a tuple of 3 arrays\n",
    "y_train = np.array(train['target'])\n",
    "\n",
    "X_val_encoded = encode(val['text_cleaned'].str.lower()) # outputs a tuple of 3 arrays\n",
    "y_val = np.array(val['target'])"
   ]
  },
  {
   "cell_type": "code",
   "execution_count": 0,
   "metadata": {
    "colab": {
     "base_uri": "https://localhost:8080/",
     "height": 523
    },
    "colab_type": "code",
    "id": "vnJmL2GG3fkU",
    "outputId": "a04b477b-349e-4bbf-e0e2-e8d78540c1af"
   },
   "outputs": [
    {
     "name": "stdout",
     "output_type": "stream",
     "text": [
      "Epoch 1/15\n",
      "INFO:tensorflow:Assets written to: /content/drive/My Drive/Twitter/bert_model_2/assets\n"
     ]
    },
    {
     "name": "stderr",
     "output_type": "stream",
     "text": [
      "INFO:tensorflow:Assets written to: /content/drive/My Drive/Twitter/bert_model_2/assets\n"
     ]
    },
    {
     "name": "stdout",
     "output_type": "stream",
     "text": [
      "191/191 - 311s - loss: 0.4599 - accuracy: 0.7961 - val_loss: 0.4222 - val_accuracy: 0.8221 - lr: 1.0000e-04\n",
      "Epoch 2/15\n",
      "191/191 - 299s - loss: 0.3959 - accuracy: 0.8397 - val_loss: 0.4359 - val_accuracy: 0.8148 - lr: 1.0000e-04\n",
      "Epoch 3/15\n",
      "INFO:tensorflow:Assets written to: /content/drive/My Drive/Twitter/bert_model_2/assets\n"
     ]
    },
    {
     "name": "stderr",
     "output_type": "stream",
     "text": [
      "INFO:tensorflow:Assets written to: /content/drive/My Drive/Twitter/bert_model_2/assets\n"
     ]
    },
    {
     "name": "stdout",
     "output_type": "stream",
     "text": [
      "191/191 - 310s - loss: 0.3926 - accuracy: 0.8353 - val_loss: 0.4167 - val_accuracy: 0.8267 - lr: 1.0000e-04\n",
      "Epoch 4/15\n",
      "INFO:tensorflow:Assets written to: /content/drive/My Drive/Twitter/bert_model_2/assets\n"
     ]
    },
    {
     "name": "stderr",
     "output_type": "stream",
     "text": [
      "INFO:tensorflow:Assets written to: /content/drive/My Drive/Twitter/bert_model_2/assets\n"
     ]
    },
    {
     "name": "stdout",
     "output_type": "stream",
     "text": [
      "191/191 - 310s - loss: 0.3797 - accuracy: 0.8438 - val_loss: 0.4138 - val_accuracy: 0.8280 - lr: 1.0000e-04\n",
      "Epoch 5/15\n",
      "INFO:tensorflow:Assets written to: /content/drive/My Drive/Twitter/bert_model_2/assets\n"
     ]
    },
    {
     "name": "stderr",
     "output_type": "stream",
     "text": [
      "INFO:tensorflow:Assets written to: /content/drive/My Drive/Twitter/bert_model_2/assets\n"
     ]
    },
    {
     "name": "stdout",
     "output_type": "stream",
     "text": [
      "191/191 - 310s - loss: 0.3690 - accuracy: 0.8509 - val_loss: 0.4073 - val_accuracy: 0.8240 - lr: 1.0000e-04\n",
      "Epoch 6/15\n",
      "191/191 - 298s - loss: 0.3640 - accuracy: 0.8535 - val_loss: 0.4167 - val_accuracy: 0.8234 - lr: 1.0000e-04\n",
      "Epoch 7/15\n",
      "191/191 - 298s - loss: 0.3588 - accuracy: 0.8589 - val_loss: 0.4120 - val_accuracy: 0.8260 - lr: 1.0000e-04\n",
      "Epoch 8/15\n",
      "\n",
      "Epoch 00008: ReduceLROnPlateau reducing learning rate to 4.999999873689376e-05.\n",
      "191/191 - 298s - loss: 0.3557 - accuracy: 0.8585 - val_loss: 0.4163 - val_accuracy: 0.8260 - lr: 1.0000e-04\n",
      "Epoch 9/15\n",
      "191/191 - 298s - loss: 0.3488 - accuracy: 0.8575 - val_loss: 0.4132 - val_accuracy: 0.8253 - lr: 5.0000e-05\n"
     ]
    }
   ],
   "source": [
    "# Callbacks\n",
    "checkpoint = ModelCheckpoint(\"/content/drive/My Drive/Twitter/bert_model_2\",                                                 \n",
    "                              monitor = 'val_loss',                                                \n",
    "                              save_best_only=True) # save the model with the lowest val_loss\n",
    "\n",
    "early_stop = EarlyStopping(monitor = 'val_loss', patience=4)\n",
    "\n",
    "lr_scheduler = ReduceLROnPlateau(monitor='val_loss', patience=3, cooldown=1, verbose=1, factor=0.5)\n",
    "\n",
    "# Model\n",
    "model = build_model()        \n",
    "history = model.fit(X_train_encoded, \n",
    "                    y_train, \n",
    "                    validation_data=(X_val_encoded, y_val), \n",
    "                    epochs=15, \n",
    "                    batch_size=32,\n",
    "                    callbacks=[checkpoint, early_stop, lr_scheduler],\n",
    "                    verbose=2)"
   ]
  },
  {
   "cell_type": "markdown",
   "metadata": {
    "colab_type": "text",
    "id": "lRVRTmN53yfM"
   },
   "source": [
    "# Evaluate Model"
   ]
  },
  {
   "cell_type": "markdown",
   "metadata": {
    "colab_type": "text",
    "id": "foOVrbOL383_"
   },
   "source": [
    "### Plot: Loss VS Epoch"
   ]
  },
  {
   "cell_type": "code",
   "execution_count": 0,
   "metadata": {
    "colab": {},
    "colab_type": "code",
    "id": "o9avwyr4swR3"
   },
   "outputs": [],
   "source": [
    "def plot_graphs(history, metric):\n",
    "    joblib.dump(history.history[metric], \"/content/drive/My Drive/Twitter/train_BERT\" + metric + \".pkl\") #save training metric\n",
    "    joblib.dump(history.history['val_' + metric], \"/content/drive/My Drive/Twitter/val_BERT\" + metric + \".pkl\") #save validation metric\n",
    "    plt.plot(history.history[metric])\n",
    "    plt.plot(history.history['val_' + metric])\n",
    "    plt.xlabel(\"Epochs\")\n",
    "    plt.ylabel(metric)\n",
    "    plt.legend(['train_' + metric, 'val_' + metric])"
   ]
  },
  {
   "cell_type": "code",
   "execution_count": 0,
   "metadata": {
    "colab": {
     "base_uri": "https://localhost:8080/",
     "height": 279
    },
    "colab_type": "code",
    "id": "M2G-0naUswR7",
    "outputId": "61f0d34e-5979-4b04-aa69-b8b950420aeb"
   },
   "outputs": [
    {
     "data": {
      "image/png": "[encoded data removed]",
      "text/plain": [
       "<Figure size 432x288 with 1 Axes>"
      ]
     },
     "metadata": {
      "needs_background": "light",
      "tags": []
     },
     "output_type": "display_data"
    }
   ],
   "source": [
    "plot_graphs(history, \"loss\")"
   ]
  },
  {
   "cell_type": "code",
   "execution_count": 0,
   "metadata": {
    "colab": {
     "base_uri": "https://localhost:8080/",
     "height": 279
    },
    "colab_type": "code",
    "id": "lb6ONFpAswR9",
    "outputId": "59728d80-ba8e-4b63-c553-675891c6486e"
   },
   "outputs": [
    {
     "data": {
      "image/png": "[encoded data removed]",
      "text/plain": [
       "<Figure size 432x288 with 1 Axes>"
      ]
     },
     "metadata": {
      "needs_background": "light",
      "tags": []
     },
     "output_type": "display_data"
    }
   ],
   "source": [
    "plot_graphs(history, \"accuracy\")"
   ]
  },
  {
   "cell_type": "markdown",
   "metadata": {
    "colab_type": "text",
    "id": "Na9tjmxz1TgN"
   },
   "source": [
    "### Confusion Matrix"
   ]
  },
  {
   "cell_type": "code",
   "execution_count": 0,
   "metadata": {
    "colab": {
     "base_uri": "https://localhost:8080/",
     "height": 52
    },
    "colab_type": "code",
    "id": "ZKMpnj8B1RCx",
    "outputId": "8d51bf0d-e845-43a3-c28f-37e38aea6741"
   },
   "outputs": [
    {
     "data": {
      "text/plain": [
       "array([[747, 122],\n",
       "       [144, 510]])"
      ]
     },
     "execution_count": 27,
     "metadata": {
      "tags": []
     },
     "output_type": "execute_result"
    }
   ],
   "source": [
    "y_pred = model.predict (X_val_encoded) \n",
    "y_pred = np.round(y_pred).astype(int).reshape((y_pred.shape[0])) # round to either 0 or 1\n",
    "\n",
    "y_true = y_val.reshape((y_val.shape[0])) \n",
    "\n",
    "conf = confusion_matrix (y_true, y_pred) \n",
    "conf"
   ]
  },
  {
   "cell_type": "code",
   "execution_count": 0,
   "metadata": {
    "colab": {
     "base_uri": "https://localhost:8080/",
     "height": 87
    },
    "colab_type": "code",
    "id": "N3Z54Dlh1ZG6",
    "outputId": "5fc7b372-b384-48b7-e673-28fad5134659"
   },
   "outputs": [
    {
     "name": "stdout",
     "output_type": "stream",
     "text": [
      "The model incorrectly classified 14% of the 869 non-disaster tweets and 22% of the 654 disaster tweets\n",
      "Precision score =: 0.81\n",
      "Recall score =: 0.78\n",
      "F1 score =: 0.79\n"
     ]
    }
   ],
   "source": [
    "TP = conf[1,1] # true positives\n",
    "TN = conf[0,0] # true negatives\n",
    "FP = conf[0,1] # false positives\n",
    "FN = conf[1,0] # false negatives\n",
    "\n",
    "print(f\"The model incorrectly classified {FP/(TN+FP)*100:.0f}% of the {val['target'].shape[0] - val['target'].sum()} non-disaster tweets and {FN/(FN+TP)*100:.0f}% of the {val['target'].sum()} disaster tweets\")\n",
    "\n",
    "print(f\"Precision score =: {precision_score(y_true,y_pred):.2f}\")\n",
    "print(f\"Recall score =: {recall_score(y_true,y_pred):.2f}\")\n",
    "print(f\"F1 score =: {f1_score(y_true,y_pred):.2f}\")"
   ]
  },
  {
   "cell_type": "markdown",
   "metadata": {
    "colab_type": "text",
    "id": "oZ-BCyfUQqry"
   },
   "source": [
    "### Write the misclassified tweets to CSV file to perform error analysis"
   ]
  },
  {
   "cell_type": "code",
   "execution_count": 0,
   "metadata": {
    "colab": {},
    "colab_type": "code",
    "id": "Y4fbX1gUpkF7"
   },
   "outputs": [],
   "source": [
    "# These setting below allow me to view the entire tweet\n",
    "pd.options.display.max_rows = 10\n",
    "pd.options.display.max_columns = 10\n",
    "pd.set_option('display.max_colwidth', 50)"
   ]
  },
  {
   "cell_type": "markdown",
   "metadata": {
    "colab_type": "text",
    "id": "gHVc5HrXPSWw"
   },
   "source": [
    "*tokenizer.convert_ids_to_tokens* only accepts single array of id. So, I had to perform a list comprehension *(see below)* to convert the id to token for each misclassified tweet"
   ]
  },
  {
   "cell_type": "code",
   "execution_count": 0,
   "metadata": {
    "colab": {},
    "colab_type": "code",
    "id": "Y1CwoSuvoEzT"
   },
   "outputs": [],
   "source": [
    "error_df = val[y_pred != y_true].reset_index(drop=True) # misclassified tweets \n",
    "\n",
    "id_array = X_val_encoded[0][y_pred != y_true] # array of id for all misclassified tweets\n",
    "\n",
    "# store the tokens of each misclassified tweets into a list\n",
    "token_list = [tokenizer.convert_ids_to_tokens(id_array[i]) for i in range (id_array.shape[0])] \n",
    "\n",
    "error_df.insert(1,'tokenized', token_list) \n",
    "\n",
    "error_df = error_df.rename(columns = {'text':'raw', 'target': 'y_true', 'text_cleaned':'cleaned'})\n",
    "error_df = error_df[[\"raw\", \"cleaned\", \"tokenized\", \"y_true\"]]\n",
    "\n",
    "error_df.to_csv('/content/drive/My Drive/Twitter/error_analysis_BERT2.csv', index = False)"
   ]
  },
  {
   "cell_type": "markdown",
   "metadata": {
    "colab_type": "text",
    "id": "C_kuZnKo-C5z"
   },
   "source": [
    "# Evaluate on Submission Set"
   ]
  },
  {
   "cell_type": "code",
   "execution_count": 0,
   "metadata": {
    "colab": {},
    "colab_type": "code",
    "id": "X_RYKYs67Akm"
   },
   "outputs": [],
   "source": [
    "model = load_model('/content/drive/My Drive/Twitter/bert_model_2') "
   ]
  },
  {
   "cell_type": "code",
   "execution_count": 0,
   "metadata": {
    "colab": {},
    "colab_type": "code",
    "id": "MYx7hdMT_Y0F"
   },
   "outputs": [],
   "source": [
    "sub_df = pd.read_csv('/content/drive/My Drive/Twitter/test.csv')\n",
    "\n",
    "sub_id = sub_df['id']\n",
    "sub_df.drop(['id','keyword','location'], axis=1, inplace = True) \n",
    "\n",
    "sub_df['text_cleaned'] = sub_df['text'].apply(lambda series : clean(series))\n",
    "sub_df_encoded = encode(sub_df['text_cleaned'].str.lower()) # outputs a tuple of 3 arrays"
   ]
  },
  {
   "cell_type": "code",
   "execution_count": 0,
   "metadata": {
    "colab": {},
    "colab_type": "code",
    "id": "FmXOohh_-GJ-"
   },
   "outputs": [],
   "source": [
    "y_pred = model.predict (sub_df_encoded) \n",
    "y_pred = np.round(y_pred).astype(int).reshape((y_pred.shape[0])) # round to 0 to 1"
   ]
  },
  {
   "cell_type": "code",
   "execution_count": 0,
   "metadata": {
    "colab": {},
    "colab_type": "code",
    "id": "cxZ2v4Zc_BEM"
   },
   "outputs": [],
   "source": [
    "df = pd.DataFrame({'id': sub_id, 'target': y_pred})\n",
    "df.to_csv('/content/drive/My Drive/Twitter/twitter_submission_5.csv', index = False)"
   ]
  },
  {
   "cell_type": "markdown",
   "metadata": {
    "colab_type": "text",
    "id": "12BqI-jJ4HRW"
   },
   "source": [
    "# Reference and Acknowledgments\n",
    "Some of the code involved in the implementation of BERT were inspired by Gunes Evitan's notebook (https://www.kaggle.com/gunesevitan/nlp-with-disaster-tweets-eda-cleaning-and-bert)"
   ]
  }
 ],
 "metadata": {
  "accelerator": "GPU",
  "colab": {
   "collapsed_sections": [],
   "name": "twitter_text_classification_BERT.ipynb",
   "provenance": [],
   "toc_visible": true
  },
  "kernelspec": {
   "display_name": "Python 3",
   "language": "python",
   "name": "python3"
  },
  "language_info": {
   "codemirror_mode": {
    "name": "ipython",
    "version": 3
   },
   "file_extension": ".py",
   "mimetype": "text/x-python",
   "name": "python",
   "nbconvert_exporter": "python",
   "pygments_lexer": "ipython3",
   "version": "3.7.5"
  }
 },
 "nbformat": 4,
 "nbformat_minor": 1
}
