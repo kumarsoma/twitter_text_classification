{
 "cells": [
  {
   "cell_type": "code",
   "execution_count": null,
   "metadata": {
    "colab": {
     "base_uri": "https://localhost:8080/",
     "height": 141
    },
    "colab_type": "code",
    "id": "7YaxcqPmswQO",
    "outputId": "14f31bee-201e-4449-9141-679c368ba0a6"
   },
   "outputs": [],
   "source": [
    "import numpy as np \n",
    "import pandas as pd \n",
    "import os\n",
    "import re\n",
    "import matplotlib.pyplot as plt\n",
    "import seaborn as sns\n",
    "import string\n",
    "import joblib\n",
    "from sklearn.model_selection import StratifiedShuffleSplit \n",
    "from sklearn.model_selection import train_test_split \n",
    "from sklearn.metrics import confusion_matrix\n",
    "\n",
    "import nltk\n",
    "nltk.download('stopwords')\n",
    "nltk.download('punkt')\n",
    "\n",
    "from nltk.tokenize import word_tokenize\n",
    "from nltk.corpus import stopwords #179 stopwords # import nltk, then type nltk.download('stopwords')\n",
    "from wordcloud import STOPWORDS #192 stopwords\n",
    "\n",
    "from tensorflow.keras.preprocessing.text import Tokenizer\n",
    "from tensorflow.keras.preprocessing.sequence import pad_sequences\n",
    "from tensorflow.keras.models import Sequential\n",
    "from tensorflow.keras.layers import Embedding,LSTM,Dense,Dropout,GRU,BatchNormalization,Bidirectional\n",
    "from tensorflow.keras.initializers import Constant\n",
    "from tensorflow.keras.optimizers import Adam, RMSprop, SGD\n",
    "from tensorflow.keras.callbacks import ModelCheckpoint, ReduceLROnPlateau, EarlyStopping, LearningRateScheduler\n",
    "from tensorflow.keras.regularizers import l2\n",
    "from tensorflow.keras.models import load_model\n"
   ]
  },
  {
   "cell_type": "markdown",
   "metadata": {
    "colab_type": "text",
    "id": "gHdhQrY6swQT"
   },
   "source": [
    "# EDA"
   ]
  },
  {
   "cell_type": "code",
   "execution_count": 3,
   "metadata": {
    "colab": {
     "base_uri": "https://localhost:8080/",
     "height": 415
    },
    "colab_type": "code",
    "id": "gK9ctwfVswQU",
    "outputId": "cce92df4-e52c-4856-f1d4-0fbe456ef366"
   },
   "outputs": [
    {
     "data": {
      "text/html": [
       "<div>\n",
       "<style scoped>\n",
       "    .dataframe tbody tr th:only-of-type {\n",
       "        vertical-align: middle;\n",
       "    }\n",
       "\n",
       "    .dataframe tbody tr th {\n",
       "        vertical-align: top;\n",
       "    }\n",
       "\n",
       "    .dataframe thead th {\n",
       "        text-align: right;\n",
       "    }\n",
       "</style>\n",
       "<table border=\"1\" class=\"dataframe\">\n",
       "  <thead>\n",
       "    <tr style=\"text-align: right;\">\n",
       "      <th></th>\n",
       "      <th>id</th>\n",
       "      <th>keyword</th>\n",
       "      <th>location</th>\n",
       "      <th>text</th>\n",
       "      <th>target</th>\n",
       "    </tr>\n",
       "  </thead>\n",
       "  <tbody>\n",
       "    <tr>\n",
       "      <th>0</th>\n",
       "      <td>1</td>\n",
       "      <td>NaN</td>\n",
       "      <td>NaN</td>\n",
       "      <td>Our Deeds are the Reason of this #earthquake M...</td>\n",
       "      <td>1</td>\n",
       "    </tr>\n",
       "    <tr>\n",
       "      <th>1</th>\n",
       "      <td>4</td>\n",
       "      <td>NaN</td>\n",
       "      <td>NaN</td>\n",
       "      <td>Forest fire near La Ronge Sask. Canada</td>\n",
       "      <td>1</td>\n",
       "    </tr>\n",
       "    <tr>\n",
       "      <th>2</th>\n",
       "      <td>5</td>\n",
       "      <td>NaN</td>\n",
       "      <td>NaN</td>\n",
       "      <td>All residents asked to 'shelter in place' are ...</td>\n",
       "      <td>1</td>\n",
       "    </tr>\n",
       "    <tr>\n",
       "      <th>3</th>\n",
       "      <td>6</td>\n",
       "      <td>NaN</td>\n",
       "      <td>NaN</td>\n",
       "      <td>13,000 people receive #wildfires evacuation or...</td>\n",
       "      <td>1</td>\n",
       "    </tr>\n",
       "    <tr>\n",
       "      <th>4</th>\n",
       "      <td>7</td>\n",
       "      <td>NaN</td>\n",
       "      <td>NaN</td>\n",
       "      <td>Just got sent this photo from Ruby #Alaska as ...</td>\n",
       "      <td>1</td>\n",
       "    </tr>\n",
       "    <tr>\n",
       "      <th>...</th>\n",
       "      <td>...</td>\n",
       "      <td>...</td>\n",
       "      <td>...</td>\n",
       "      <td>...</td>\n",
       "      <td>...</td>\n",
       "    </tr>\n",
       "    <tr>\n",
       "      <th>7608</th>\n",
       "      <td>10869</td>\n",
       "      <td>NaN</td>\n",
       "      <td>NaN</td>\n",
       "      <td>Two giant cranes holding a bridge collapse int...</td>\n",
       "      <td>1</td>\n",
       "    </tr>\n",
       "    <tr>\n",
       "      <th>7609</th>\n",
       "      <td>10870</td>\n",
       "      <td>NaN</td>\n",
       "      <td>NaN</td>\n",
       "      <td>@aria_ahrary @TheTawniest The out of control w...</td>\n",
       "      <td>1</td>\n",
       "    </tr>\n",
       "    <tr>\n",
       "      <th>7610</th>\n",
       "      <td>10871</td>\n",
       "      <td>NaN</td>\n",
       "      <td>NaN</td>\n",
       "      <td>M1.94 [01:04 UTC]?5km S of Volcano Hawaii. htt...</td>\n",
       "      <td>1</td>\n",
       "    </tr>\n",
       "    <tr>\n",
       "      <th>7611</th>\n",
       "      <td>10872</td>\n",
       "      <td>NaN</td>\n",
       "      <td>NaN</td>\n",
       "      <td>Police investigating after an e-bike collided ...</td>\n",
       "      <td>1</td>\n",
       "    </tr>\n",
       "    <tr>\n",
       "      <th>7612</th>\n",
       "      <td>10873</td>\n",
       "      <td>NaN</td>\n",
       "      <td>NaN</td>\n",
       "      <td>The Latest: More Homes Razed by Northern Calif...</td>\n",
       "      <td>1</td>\n",
       "    </tr>\n",
       "  </tbody>\n",
       "</table>\n",
       "<p>7613 rows × 5 columns</p>\n",
       "</div>"
      ],
      "text/plain": [
       "         id keyword  ...                                               text target\n",
       "0         1     NaN  ...  Our Deeds are the Reason of this #earthquake M...      1\n",
       "1         4     NaN  ...             Forest fire near La Ronge Sask. Canada      1\n",
       "2         5     NaN  ...  All residents asked to 'shelter in place' are ...      1\n",
       "3         6     NaN  ...  13,000 people receive #wildfires evacuation or...      1\n",
       "4         7     NaN  ...  Just got sent this photo from Ruby #Alaska as ...      1\n",
       "...     ...     ...  ...                                                ...    ...\n",
       "7608  10869     NaN  ...  Two giant cranes holding a bridge collapse int...      1\n",
       "7609  10870     NaN  ...  @aria_ahrary @TheTawniest The out of control w...      1\n",
       "7610  10871     NaN  ...  M1.94 [01:04 UTC]?5km S of Volcano Hawaii. htt...      1\n",
       "7611  10872     NaN  ...  Police investigating after an e-bike collided ...      1\n",
       "7612  10873     NaN  ...  The Latest: More Homes Razed by Northern Calif...      1\n",
       "\n",
       "[7613 rows x 5 columns]"
      ]
     },
     "execution_count": 3,
     "metadata": {
      "tags": []
     },
     "output_type": "execute_result"
    }
   ],
   "source": [
    "data = pd.read_csv('/content/drive/My Drive/Twitter/train.csv')\n",
    "data"
   ]
  },
  {
   "cell_type": "markdown",
   "metadata": {
    "colab_type": "text",
    "id": "QJiT2yJtswQZ"
   },
   "source": [
    "### Missing values"
   ]
  },
  {
   "cell_type": "code",
   "execution_count": 4,
   "metadata": {
    "colab": {
     "base_uri": "https://localhost:8080/",
     "height": 202
    },
    "colab_type": "code",
    "id": "RPNgImgnswQZ",
    "outputId": "1ea45665-c3ec-4e2d-f5f5-04e88bacf8c8"
   },
   "outputs": [
    {
     "data": {
      "text/html": [
       "<div>\n",
       "<style scoped>\n",
       "    .dataframe tbody tr th:only-of-type {\n",
       "        vertical-align: middle;\n",
       "    }\n",
       "\n",
       "    .dataframe tbody tr th {\n",
       "        vertical-align: top;\n",
       "    }\n",
       "\n",
       "    .dataframe thead th {\n",
       "        text-align: right;\n",
       "    }\n",
       "</style>\n",
       "<table border=\"1\" class=\"dataframe\">\n",
       "  <thead>\n",
       "    <tr style=\"text-align: right;\">\n",
       "      <th></th>\n",
       "      <th>% missing values</th>\n",
       "    </tr>\n",
       "  </thead>\n",
       "  <tbody>\n",
       "    <tr>\n",
       "      <th>id</th>\n",
       "      <td>0.00</td>\n",
       "    </tr>\n",
       "    <tr>\n",
       "      <th>keyword</th>\n",
       "      <td>0.80</td>\n",
       "    </tr>\n",
       "    <tr>\n",
       "      <th>location</th>\n",
       "      <td>33.27</td>\n",
       "    </tr>\n",
       "    <tr>\n",
       "      <th>text</th>\n",
       "      <td>0.00</td>\n",
       "    </tr>\n",
       "    <tr>\n",
       "      <th>target</th>\n",
       "      <td>0.00</td>\n",
       "    </tr>\n",
       "  </tbody>\n",
       "</table>\n",
       "</div>"
      ],
      "text/plain": [
       "          % missing values\n",
       "id                    0.00\n",
       "keyword               0.80\n",
       "location             33.27\n",
       "text                  0.00\n",
       "target                0.00"
      ]
     },
     "execution_count": 4,
     "metadata": {
      "tags": []
     },
     "output_type": "execute_result"
    }
   ],
   "source": [
    "missing = (data.isnull().sum()/len(data)*100).round(2)\n",
    "pd.DataFrame({'% missing values': missing})"
   ]
  },
  {
   "cell_type": "markdown",
   "metadata": {
    "colab_type": "text",
    "id": "6oM0WvLGswQd"
   },
   "source": [
    "### Remove unnecessary columns"
   ]
  },
  {
   "cell_type": "code",
   "execution_count": 0,
   "metadata": {
    "colab": {},
    "colab_type": "code",
    "id": "ERn7-y7ZswQf"
   },
   "outputs": [],
   "source": [
    "#I'm removing keyword and location \n",
    "data.drop(['id','keyword','location'], axis=1, inplace = True) "
   ]
  },
  {
   "cell_type": "markdown",
   "metadata": {
    "colab_type": "text",
    "id": "DZFu70mtswQi"
   },
   "source": [
    "Although 'keywords' doesnt have alot of missing values, I'm dropping it because I dont think I will need it as an additional input. Text alone should be fine. Maybe in the future I might consider including keywords"
   ]
  },
  {
   "cell_type": "markdown",
   "metadata": {
    "colab_type": "text",
    "id": "GQT-mEEKB3ml"
   },
   "source": [
    "### Class distribution"
   ]
  },
  {
   "cell_type": "code",
   "execution_count": 8,
   "metadata": {
    "colab": {
     "base_uri": "https://localhost:8080/",
     "height": 295
    },
    "colab_type": "code",
    "id": "HTXS2LXdBjRm",
    "outputId": "aae98197-6eea-4e25-8f40-396c184ae0fa"
   },
   "outputs": [
    {
     "data": {
      "image/png": "[encoded data removed]",
      "text/plain": [
       "<Figure size 432x288 with 1 Axes>"
      ]
     },
     "metadata": {
      "needs_background": "light",
      "tags": []
     },
     "output_type": "display_data"
    }
   ],
   "source": [
    "ax = sns.countplot(x = 'target', data = data)\n",
    "ax.set(xlabel='Class', ylabel='Count', title = 'Class Distribution')\n",
    "plt.show()"
   ]
  },
  {
   "cell_type": "markdown",
   "metadata": {
    "colab_type": "text",
    "id": "Htz-TcaJBkgT"
   },
   "source": [
    "There are more Non-disaster than Disaster tweets "
   ]
  },
  {
   "cell_type": "markdown",
   "metadata": {
    "colab_type": "text",
    "id": "Xh0LDU9TswQj"
   },
   "source": [
    "### Total number of words in each tweet"
   ]
  },
  {
   "cell_type": "code",
   "execution_count": 0,
   "metadata": {
    "colab": {
     "base_uri": "https://localhost:8080/",
     "height": 223
    },
    "colab_type": "code",
    "id": "UUWFM2btswQk",
    "outputId": "1691ee7f-e54d-4f56-93b8-fca4b54ef61f"
   },
   "outputs": [
    {
     "data": {
      "image/png": "[encoded data removed]",
      "text/plain": [
       "<Figure size 1080x216 with 2 Axes>"
      ]
     },
     "metadata": {
      "needs_background": "light",
      "tags": []
     },
     "output_type": "display_data"
    }
   ],
   "source": [
    "#find length of each tweet in disaster and non disaster\n",
    "data_len_0 = data[data['target']==0]['text'].str.split().map(lambda x: len(x))\n",
    "data_len_1 = data[data['target']==1]['text'].str.split().map(lambda x: len(x)) \n",
    "\n",
    "fig, axes = plt.subplots(1, 2, figsize=(15,3))\n",
    "\n",
    "sns.countplot(data_len_0, ax=axes[0], color='green')\n",
    "axes[0].set(xlabel='Number of words per tweet', ylabel='Number of tweets', title='Non-disaster tweets')\n",
    "\n",
    "sns.countplot(data_len_1, ax=axes[1], color='red')\n",
    "axes[1].set(xlabel='Number of words per tweet', ylabel='Number of tweets', title='Disaster tweets')\n",
    "\n",
    "plt.show()"
   ]
  },
  {
   "cell_type": "markdown",
   "metadata": {
    "colab_type": "text",
    "id": "HDRqDSC-swQt"
   },
   "source": [
    "The distribution for number of words per tweet looks similar between disaster and non-disaster tweets "
   ]
  },
  {
   "cell_type": "markdown",
   "metadata": {
    "colab_type": "text",
    "id": "VowQan7-swQu"
   },
   "source": [
    "### Create training and validation sets"
   ]
  },
  {
   "cell_type": "code",
   "execution_count": 0,
   "metadata": {
    "colab": {},
    "colab_type": "code",
    "id": "tGcTNAMfswQv"
   },
   "outputs": [],
   "source": [
    "# Create validation set, stratified based on target class distribution\n",
    "s = StratifiedShuffleSplit(test_size=0.1, random_state=42)\n",
    "\n",
    "for train_index, val_index in s.split(data, data[\"target\"]): \n",
    "    train = data.loc[train_index]\n",
    "    val = data.loc[val_index]\n",
    "    \n",
    "train.reset_index(inplace=True, drop=True) \n",
    "val.reset_index(inplace=True, drop=True) "
   ]
  },
  {
   "cell_type": "markdown",
   "metadata": {
    "colab_type": "text",
    "id": "weq5GgJIswQy"
   },
   "source": [
    "# Data Cleaning"
   ]
  },
  {
   "cell_type": "code",
   "execution_count": 0,
   "metadata": {
    "colab": {},
    "colab_type": "code",
    "id": "jIrYfdMrswQz"
   },
   "outputs": [],
   "source": [
    "def clean(text):\n",
    "    \n",
    "  #Lowercase the words\n",
    "  text = text.lower()\n",
    "\n",
    "  #Expand contractions\n",
    "  text = re.sub(r\"ain't\", \"am not\", text)\n",
    "  text = re.sub(r\"aren't\", \"are not\", text)\n",
    "  text = re.sub(r\"can't\", \"cannot\", text)\n",
    "  text = re.sub(r\"couldn't\", \"could not\", text)\n",
    "  text = re.sub(r\"could've\", \"could have\", text)\n",
    "  text = re.sub(r\"didn't\", \"did not\", text)\n",
    "  text = re.sub(r\"doesn't\", \"does not\", text)\n",
    "  text = re.sub(r\"don't\", \"do not\", text)\n",
    "  text = re.sub(r\"hasn't\", \"has not\", text)\n",
    "  text = re.sub(r\"haven't\", \"have not\", text)\n",
    "  text = re.sub(r\"he'll\", \"he will\", text)\n",
    "  text = re.sub(r\"here's\", \"here is\", text)\n",
    "  text = re.sub(r\"he's\", \"he is\", text)\n",
    "  text = re.sub(r\"i'd\", \"i would\", text)\n",
    "  text = re.sub(r\"i'll\", \"i will\", text)\n",
    "  text = re.sub(r\"i'm\", \"i am\", text)\n",
    "  text = re.sub(r\"isn't\", \"is not\", text)\n",
    "  text = re.sub(r\"it'll\", \"it will\", text)\n",
    "  text = re.sub(r\"it's\", \"it is\", text)\n",
    "  text = re.sub(r\"i've\", \"i have\", text)\n",
    "  text = re.sub(r\"let's\", \"let us\", text)\n",
    "  text = re.sub(r\"shouldn't\", \"should not\", text)\n",
    "  text = re.sub(r\"should've\", \"should have\", text)\n",
    "  text = re.sub(r\"that's\", \"that is\", text)\n",
    "  text = re.sub(r\"there's\", \"there is\", text)\n",
    "  text = re.sub(r\"they'd\", \"they would\", text)\n",
    "  text = re.sub(r\"they'll\", \"they will\", text)\n",
    "  text = re.sub(r\"they're\", \"they are\", text)\n",
    "  text = re.sub(r\"they've\", \"they have\", text)\n",
    "  text = re.sub(r\"wasn't\", \"was not\", text)\n",
    "  text = re.sub(r\"we'd\", \"we would\", text)\n",
    "  text = re.sub(r\"we'll\", \"we will\", text)\n",
    "  text = re.sub(r\"we're\", \"we are\", text)\n",
    "  text = re.sub(r\"weren't\", \"were not\", text)\n",
    "  text = re.sub(r\"we've\", \"we have\", text)\n",
    "  text = re.sub(r\"what's\", \"what is\", text)\n",
    "  text = re.sub(r\"where's\", \"where is\", text)\n",
    "  text = re.sub(r\"who's\", \"who is\", text)\n",
    "  text = re.sub(r\"won't\", \"will not\", text)\n",
    "  text = re.sub(r\"wouldn't\", \"would not\", text)\n",
    "  text = re.sub(r\"would've\", \"would have\", text)\n",
    "  text = re.sub(r\"y'all\", \"you all\", text)\n",
    "  text = re.sub(r\"you'd\", \"you would\", text)\n",
    "  text = re.sub(r\"you'll\", \"you will\", text)\n",
    "  text = re.sub(r\"you're\", \"you are\", text)\n",
    "  text = re.sub(r\"you've\", \"you have\", text)\n",
    "  \n",
    "  #Remove URL\n",
    "  pattern = re.compile('http[s]?://(?:[a-zA-Z]|[0-9]|[$-_@.&+]|[!*\\(\\),]|(?:%[0-9a-fA-F][0-9a-fA-F]))+') \n",
    "  text = pattern.sub('', text)    \n",
    "  \n",
    "  #Remove punctuations\n",
    "  table = str.maketrans('','',string.punctuation)\n",
    "  text = text.translate(table) \n",
    "\n",
    "  #2nd round of cleaning after looking at the list of words which exist in training corpus, but missing in GloVe's dictionary \n",
    "  #I cleaned up the most frequent special characters, abbreviations, slang, typos\n",
    "  text = re.sub(r\"mh370\", \"malaysian airlines flight 370\", text)\n",
    "  text = re.sub(r\"x89û_\", \"\", text)\n",
    "  text = re.sub(r\"'the\", \"the\", text)\n",
    "  text = re.sub(r\"16yr\", \"16 year\", text)\n",
    "  text = re.sub(r\"'we\", \"we\", text)\n",
    "  text = re.sub(r\"re\\x89û_\", \"\", text)\n",
    "  text = re.sub(r\"prebreak\", \"pre break\", text)\n",
    "  text = re.sub(r\"typhoon-devastated\", \"typhoon devastated\", text)\n",
    "  text = re.sub(r\"'i\", \"i\", text)\n",
    "  text = re.sub(r\"w/\", \"with\", text)\n",
    "  text = re.sub(r\"bestnaijamade\", \"best naija made\", text)\n",
    "  text = re.sub(r\"nowplaying\", \"now playing\", text)\n",
    "  text = re.sub(r\"'conclusively\", \"conclusively\", text)\n",
    "  text = re.sub(r\"\\x89ûó\", \"\", text)     \n",
    "  text = re.sub(r\"\\x89ûï\", \"\", text)  \n",
    "  text = re.sub(r\"disea\", \"disease\", text)  \n",
    "  text = re.sub(r\"'it\", \"it\", text)  \n",
    "  text = re.sub(r\"gbbo\", \"great british bake off\", text)  \n",
    "  text = re.sub(r\"funtenna\", \"software hack\", text)  \n",
    "  text = re.sub(r\"lmao\", \"laughing my ass off\", text)  \n",
    "  text = re.sub(r\"subreddits\", \"forum\", text)  \n",
    "  text = re.sub(r\"m.o.p\", \"billy danze\", text)  \n",
    "  text = re.sub(r\"utc2015-08-05\", \"5 august 2015\", text)  \n",
    "  text = re.sub(r\"don\\x89ûªt\", \"do not\", text)  \n",
    "  text = re.sub(r\"\\x89ûïwhen\", \"when\", text)  \n",
    "  text = re.sub(r\"'food\", \"food\", text)  \n",
    "  text = re.sub(r\"arianagrande\", \"ariana grander\", text)  \n",
    "  text = re.sub(r\"yyc\", \"calgary international airport\", text)  \n",
    "  text = re.sub(r\"sensor-senso\", \"sensor\", text)  \n",
    "  text = re.sub(r\"directioners\", \"fans of one direction band\", text)\n",
    "  text = re.sub(r\"sismo\", \"seismic\", text)    \n",
    "  text = re.sub(r\"\\x89û\\x9d\", \"\", text)    \n",
    "  text = re.sub(r\"time2015-08-06\", \"time 6 august 2015\", text)    \n",
    "  text = re.sub(r\"abstorm\", \"alberta storm\", text)    \n",
    "  text = re.sub(r\"justinbieber\", \"justin bieber\", text)    \n",
    "  text = re.sub(r\"irandeal\", \"iran deal\", text)    \n",
    "  text = re.sub(r\"worldnews\", \"world news\", text)    \n",
    "  text = re.sub(r\"mediterran\", \"mediterranean sea\", text)    \n",
    "  text = re.sub(r\"it\\x89ûªs\", \"it is\", text)    \n",
    "  text = re.sub(r\"'avoiding\", \"avoiding\", text)    \n",
    "  text = re.sub(r\"trfc\", \"traffic\", text) #removed asterisks before trfc\n",
    "  text = re.sub(r\"tcot\", \"top conservatives on twitter\", text)    \n",
    "  text = re.sub(r\"okwx\", \"oklahoma weather\", text)    \n",
    "  text = re.sub(r\"you\\x89ûªve\", \"you have\", text)    \n",
    "  text = re.sub(r\"53inch\", \"53 inch\", text)    \n",
    "  text = re.sub(r\"300w\", \"300 watts\", text)    \n",
    "  text = re.sub(r\"icemoon\", \"dj ice moon music\", text)    \n",
    "  text = re.sub(r\"djicemoon\", \"dj ice moon music\", text)    \n",
    "  text = re.sub(r\"trapmusic\", \"trap music\", text)    \n",
    "  text = re.sub(r\"ices\\x89û_\", \"ice\", text)    \n",
    "  text = re.sub(r\"åê\", \"\", text)    \n",
    "  text = re.sub(r\"o784\", \"\", text)    \n",
    "  text = re.sub(r\"spos\", \"\", text)    \n",
    "  text = re.sub(r\"'save\", \"save\", text)    \n",
    "  text = re.sub(r\"beyhive\", \"beyonce singer fan\", text)    \n",
    "  text = re.sub(r\"mhtw4fnet\", \"\", text)    \n",
    "  text = re.sub(r\"stand-user\", \"stand user\", text)    \n",
    "  text = re.sub(r\"meat-loving\", \"meat loving\", text)    \n",
    "  text = re.sub(r\"freakiest\", \"freakiest\", text)    \n",
    "  text = re.sub(r\"i\\x89ûªm\", \"i am\", text)\n",
    "  text = re.sub(r\"\\x89û\", \"\", text)\n",
    "  text = re.sub(r\"\\x89ûò\", \"\", text)\n",
    "  text = re.sub(r\"re\\x89û\", \"\", text)\n",
    "  text = re.sub(r\"typhoondevastated\", \"typhoon devastated\", text)\n",
    "  text = re.sub(r\"11yearold\", \"11 year old\", text)\n",
    "  text = re.sub(r\"diseasese\", \"disease\", text)\n",
    "  text = re.sub(r\"utc20150805\", \"5 august 2015\", text)\n",
    "  text = re.sub(r\"gtgt\", \"\", text)\n",
    "  text = re.sub(r\"time20150806\", \"6 august 2015\", text)\n",
    "  text = re.sub(r\"selfimage\", \"self image\", text)\n",
    "  text = re.sub(r\"china\\x89ûªs\", \"chinas\", text)\n",
    "  text = re.sub(r\"ices\\x89û\", \"ices\", text)\n",
    "  text = re.sub(r\"read\\x89û\", \"read\", text)\n",
    "  text = re.sub(r\"america\\x89ûªs\", \"america\", text)\n",
    "\n",
    "  # Fixing ... and ..\n",
    "  text = text.replace('...', ' ... ')\n",
    "  if '...' not in text:\n",
    "    text = text.replace('..', ' ... ')   \n",
    "  \n",
    "  return text"
   ]
  },
  {
   "cell_type": "code",
   "execution_count": 0,
   "metadata": {
    "colab": {
     "base_uri": "https://localhost:8080/",
     "height": 35
    },
    "colab_type": "code",
    "id": "BZKJSAo9Rnz9",
    "outputId": "fe57888d-b87f-4207-fe2a-9de981c305c9"
   },
   "outputs": [
    {
     "data": {
      "text/plain": [
       "'check if punctuations such as      url such as  are removed'"
      ]
     },
     "execution_count": 10,
     "metadata": {
      "tags": []
     },
     "output_type": "execute_result"
    }
   ],
   "source": [
    "sample_sentence = \"Check if punctuations such as !@#$%^&*()_+=-[];'\\|~`./,{}:?>< . .. ... & URL such as https://www.kaggle.com/c/nlp-getting-started are removed\"\n",
    "clean(sample_sentence)"
   ]
  },
  {
   "cell_type": "markdown",
   "metadata": {
    "colab_type": "text",
    "id": "IEFnK0cmswQ2"
   },
   "source": [
    "### Clean training set"
   ]
  },
  {
   "cell_type": "code",
   "execution_count": 0,
   "metadata": {
    "colab": {},
    "colab_type": "code",
    "id": "gD3K4jhUswQ3"
   },
   "outputs": [],
   "source": [
    "train_clean = train.copy()\n",
    "train_clean['text'] = train_clean['text'].apply(lambda series : clean(series))"
   ]
  },
  {
   "cell_type": "markdown",
   "metadata": {
    "colab_type": "text",
    "id": "TWQdJL_pswRJ"
   },
   "source": [
    "# Data Preprocessing"
   ]
  },
  {
   "cell_type": "markdown",
   "metadata": {
    "colab_type": "text",
    "id": "UBB-IkvGswRJ"
   },
   "source": [
    "### Prepare corpus for training set "
   ]
  },
  {
   "cell_type": "code",
   "execution_count": 0,
   "metadata": {
    "colab": {},
    "colab_type": "code",
    "id": "NlruAO2RswRK"
   },
   "outputs": [],
   "source": [
    "stopNLTK = set(stopwords.words('english')) # stop words from NLTK\n",
    "stopWORDCLOUD = set(STOPWORDS) # stopwords from WORDCLOUD\n",
    "stop_words = stopNLTK | stopWORDCLOUD # combine all of the unique stopwords from NLTK and WORDCLOUD\n",
    "\n",
    "# create a corpus without stop words and non-alphabet-words\n",
    "def create_corpus(df):\n",
    "    corpus = []\n",
    "    for sentence in df['text']:\n",
    "        #words=[word.lower() for word in word_tokenize(sentence) if (word not in stop_words)] #word_tokenize splits a sentence into individual words\n",
    "        words=[word.lower() for word in word_tokenize(sentence) if ((word.isalpha()==1) & (word not in stop_words))] #word_tokenize splits a sentence into individual words\n",
    "        corpus.append(words)\n",
    "    return corpus # returns a list"
   ]
  },
  {
   "cell_type": "code",
   "execution_count": 0,
   "metadata": {
    "colab": {},
    "colab_type": "code",
    "id": "NoMct-U-swRO"
   },
   "outputs": [],
   "source": [
    "train_corpus = create_corpus(train_clean) # prepared a cleaned corpus, which will be tokenized and padded"
   ]
  },
  {
   "cell_type": "markdown",
   "metadata": {
    "colab_type": "text",
    "id": "rg6RllCiswRS"
   },
   "source": [
    "### Tokenize and pad training set"
   ]
  },
  {
   "cell_type": "code",
   "execution_count": 0,
   "metadata": {
    "colab": {},
    "colab_type": "code",
    "id": "SqoLT83tswRT"
   },
   "outputs": [],
   "source": [
    "tokenizer = Tokenizer(num_words = None, oov_token=\"<OOV>\")\n",
    "tokenizer.fit_on_texts(train_corpus) # tokenize (split the corpus into individual words) and assign an index based on word frequency\n",
    "\n",
    "train_sequences = tokenizer.texts_to_sequences(train_corpus) # converts each word in each tweet into numbers\n",
    "seq_len = 32\n",
    "train_padded = pad_sequences(train_sequences, maxlen = seq_len, truncating='post', padding='post') #makes each sentence the same length by padding, or truncating at the end of the sentence"
   ]
  },
  {
   "cell_type": "markdown",
   "metadata": {
    "colab_type": "text",
    "id": "xBW9vnGQswRW"
   },
   "source": [
    "### Create embedding dictionary from pre-trained GloVe model"
   ]
  },
  {
   "cell_type": "code",
   "execution_count": 0,
   "metadata": {
    "colab": {},
    "colab_type": "code",
    "id": "mugH5qRqswRW"
   },
   "outputs": [],
   "source": [
    "# This cell creates the embedding DICT which reads from the glove file that contains 400k unique words and its corresponding vectors \n",
    "# When the embedding MATRIX is created later, this dictionary will be referred to get the vectors for the words in training corpus \n",
    "\n",
    "embedding_dict = {}\n",
    "\n",
    "with open('/content/drive/My Drive/Twitter/glove_6B_100d.txt','r', encoding = \"utf-8\") as g: \n",
    "    for line in g: # each 'line' is a string which contains a WORD and its corresponding VECTOR (which contains 100 numbers, because 100 dimensions)\n",
    "        values = line.split() # .split() will split a 'line' string into a list, in which the first item is the WORD, the next 100 items are the 100 numbers\n",
    "        word = values[0] # get the WORD\n",
    "        vector = np.asarray(values[1:], dtype = 'float32') # get the VECTOR\n",
    "        embedding_dict[word] = vector # in this dictionary, the key is the WORD, the value is the corresponding VECTOR. Appends automatically during for loop\n",
    "\n",
    "g.close()\n",
    "embedding_dim = 100"
   ]
  },
  {
   "cell_type": "markdown",
   "metadata": {
    "colab_type": "text",
    "id": "KptsgToOswRY"
   },
   "source": [
    "### Create embedding matrix from the embedding dict"
   ]
  },
  {
   "cell_type": "code",
   "execution_count": 0,
   "metadata": {
    "colab": {
     "base_uri": "https://localhost:8080/",
     "height": 55
    },
    "colab_type": "code",
    "id": "cEs18rSsswRZ",
    "outputId": "e35bed27-6dd1-47fc-d9b0-28b8fe61033a"
   },
   "outputs": [
    {
     "name": "stdout",
     "output_type": "stream",
     "text": [
      "Vocabulary size = 15182. It accounts for the 15180 unique words from training corpus AND <OOV> AND the padding value of 0\n"
     ]
    }
   ],
   "source": [
    "word_index = tokenizer.word_index # returns a dictionary of words, ordered based on the word's frequency in training corpus. <OOV> will automatically have an index of 1\n",
    "vocab_size = len(word_index) + 1 # +1 accounts for the padding value of 0 in each input sequence \n",
    "print (f\"Vocabulary size = {vocab_size}. It accounts for the 15180 unique words from training corpus AND <OOV> AND the padding value of 0\")"
   ]
  },
  {
   "cell_type": "code",
   "execution_count": 0,
   "metadata": {
    "colab": {},
    "colab_type": "code",
    "id": "Nm_GIAoqswRb"
   },
   "outputs": [],
   "source": [
    "embedding_matrix = np.zeros((vocab_size, embedding_dim)) \n",
    "\n",
    "for word,idx in word_index.items(): #.items() returns the dict's key-value pairs (key = 'word', value = its 'idx'). \n",
    "    emb_vec = embedding_dict.get(word, 0) #get the value (ie. vector) of key (ie. word) from GloVe dict. If no such word exist, it returns a 0 vector\n",
    "    embedding_matrix[idx] = emb_vec # each row (except index 0) represents a word including <OOV>, each column is a dimension. "
   ]
  },
  {
   "cell_type": "markdown",
   "metadata": {
    "colab_type": "text",
    "id": "9SSISj55Qzpz"
   },
   "source": [
    "### Check for words which exist in training corpus but missing in GloVe's dictionary"
   ]
  },
  {
   "cell_type": "markdown",
   "metadata": {
    "colab_type": "text",
    "id": "W71wPuDq3JeW"
   },
   "source": [
    "After checking for the words, I will perform an additional round of cleaning, then re-run the above preprocessing steps"
   ]
  },
  {
   "cell_type": "code",
   "execution_count": 0,
   "metadata": {
    "colab": {
     "base_uri": "https://localhost:8080/",
     "height": 35
    },
    "colab_type": "code",
    "id": "T5VZU2z_WiyT",
    "outputId": "b2be8da1-d41e-4797-d8b5-518db4a07726"
   },
   "outputs": [
    {
     "name": "stdout",
     "output_type": "stream",
     "text": [
      "There are 4091 words which exist in training corpus but missing GloVe's dictionary\n"
     ]
    }
   ],
   "source": [
    "missing_idx = np.where(~embedding_matrix.any(axis=1))[0] # indices of the words which exist in training corpus but missing in GloVe's dictionary)\n",
    "missing_list = []\n",
    "\n",
    "for i in missing_idx:\n",
    "  for key, value in word_index.items():\n",
    "      if i == value: \n",
    "          missing_list.append(key) #append the missing word\n",
    "\n",
    "print(f\"There are {len(missing_list)} words which exist in training corpus but missing GloVe's dictionary\")"
   ]
  },
  {
   "cell_type": "markdown",
   "metadata": {
    "colab_type": "text",
    "id": "38VnerJ_7LTH"
   },
   "source": [
    "I initially completed this section using set difference like below:\n",
    "```\n",
    "a = set(word_index.keys())\n",
    "b = set(embedding_dict.keys())\n",
    "missing_list = list(a-b)\n",
    "```\n",
    "But the issue was: the words in the set difference were unordered. I want the list of words to be ordered based on word frequency. This helps me in figuring out which words I should be cleaning first.\n"
   ]
  },
  {
   "cell_type": "code",
   "execution_count": 0,
   "metadata": {
    "colab": {},
    "colab_type": "code",
    "id": "Q6aeMNjlQyUr"
   },
   "outputs": [],
   "source": [
    "# print(missing_list) # prints the missing words starting with the most frequent word in the training corpus. "
   ]
  },
  {
   "cell_type": "markdown",
   "metadata": {
    "colab_type": "text",
    "id": "YmGjjhspswRd"
   },
   "source": [
    "### Validation set - clean, prepare corpus, tokenize, and pad"
   ]
  },
  {
   "cell_type": "code",
   "execution_count": 0,
   "metadata": {
    "colab": {},
    "colab_type": "code",
    "id": "Z_matkgUswRd"
   },
   "outputs": [],
   "source": [
    "def full_transform(df): # will be applied to both validation set and submission set later\n",
    "    df['text'] = df['text'].apply(lambda c : clean(c))\n",
    "\n",
    "    df_corpus = create_corpus(df) # prepared the complete text containing proper words, which will then be tokenized and padded\n",
    "\n",
    "    df_sequences = tokenizer.texts_to_sequences(df_corpus)\n",
    "    df_padded = pad_sequences(df_sequences, maxlen = seq_len, truncating='post', padding='post')\n",
    "    \n",
    "    return df_padded"
   ]
  },
  {
   "cell_type": "code",
   "execution_count": 0,
   "metadata": {
    "colab": {},
    "colab_type": "code",
    "id": "rmnmjccZswRg"
   },
   "outputs": [],
   "source": [
    "val_padded = full_transform(val)"
   ]
  },
  {
   "cell_type": "markdown",
   "metadata": {
    "colab_type": "text",
    "id": "oC8FH6mKswRj"
   },
   "source": [
    "# Train Model"
   ]
  },
  {
   "cell_type": "code",
   "execution_count": 0,
   "metadata": {
    "colab": {},
    "colab_type": "code",
    "id": "w5D8XbSGswRk"
   },
   "outputs": [],
   "source": [
    "X_train = np.array(train_padded)\n",
    "y_train = np.array(train['target'])\n",
    "X_val = np.array(val_padded)\n",
    "y_val = np.array(val['target'])"
   ]
  },
  {
   "cell_type": "code",
   "execution_count": 0,
   "metadata": {
    "colab": {
     "base_uri": "https://localhost:8080/",
     "height": 87
    },
    "colab_type": "code",
    "id": "6IvJxI6aswRn",
    "outputId": "1165ea0c-69fa-48c3-b59b-57ad3dad9f10"
   },
   "outputs": [
    {
     "name": "stdout",
     "output_type": "stream",
     "text": [
      "Shape of X_train: (6851, 32)\n",
      "Shape of X_val: (762, 32)\n",
      "Shape of y_train: (6851,)\n",
      "Shape of y_val: (762,)\n"
     ]
    }
   ],
   "source": [
    "print('Shape of X_train:', X_train.shape)\n",
    "print('Shape of X_val:', X_val.shape)\n",
    "print('Shape of y_train:', y_train.shape)\n",
    "print('Shape of y_val:', y_val.shape)"
   ]
  },
  {
   "cell_type": "code",
   "execution_count": 0,
   "metadata": {
    "colab": {
     "base_uri": "https://localhost:8080/",
     "height": 1000
    },
    "colab_type": "code",
    "id": "_i7xbYByswR1",
    "outputId": "1e683595-ae56-42b0-9caf-9ef2b7140156"
   },
   "outputs": [
    {
     "name": "stdout",
     "output_type": "stream",
     "text": [
      "Model: \"sequential\"\n",
      "_________________________________________________________________\n",
      "Layer (type)                 Output Shape              Param #   \n",
      "=================================================================\n",
      "embedding (Embedding)        (None, 32, 100)           1518200   \n",
      "_________________________________________________________________\n",
      "bidirectional (Bidirectional (None, 32, 256)           176640    \n",
      "_________________________________________________________________\n",
      "bidirectional_1 (Bidirection (None, 128)               123648    \n",
      "_________________________________________________________________\n",
      "dense (Dense)                (None, 1)                 129       \n",
      "=================================================================\n",
      "Total params: 1,818,617\n",
      "Trainable params: 300,417\n",
      "Non-trainable params: 1,518,200\n",
      "_________________________________________________________________\n",
      "Epoch 1/100\n",
      "54/54 - 4s - loss: 0.7212 - accuracy: 0.5849 - val_loss: 0.7143 - val_accuracy: 0.6273 - lr: 1.0000e-05\n",
      "Epoch 2/100\n",
      "54/54 - 2s - loss: 0.7029 - accuracy: 0.6650 - val_loss: 0.7005 - val_accuracy: 0.6680 - lr: 1.0000e-05\n",
      "Epoch 3/100\n",
      "54/54 - 2s - loss: 0.6906 - accuracy: 0.6796 - val_loss: 0.6885 - val_accuracy: 0.6837 - lr: 1.0000e-05\n",
      "Epoch 4/100\n",
      "54/54 - 2s - loss: 0.6779 - accuracy: 0.7028 - val_loss: 0.6775 - val_accuracy: 0.7047 - lr: 1.0000e-05\n",
      "Epoch 5/100\n",
      "54/54 - 2s - loss: 0.6657 - accuracy: 0.7132 - val_loss: 0.6665 - val_accuracy: 0.7231 - lr: 1.0000e-05\n",
      "Epoch 6/100\n",
      "54/54 - 2s - loss: 0.6525 - accuracy: 0.7268 - val_loss: 0.6554 - val_accuracy: 0.7270 - lr: 1.0000e-05\n",
      "Epoch 7/100\n",
      "54/54 - 2s - loss: 0.6393 - accuracy: 0.7360 - val_loss: 0.6442 - val_accuracy: 0.7310 - lr: 1.0000e-05\n",
      "Epoch 8/100\n",
      "54/54 - 2s - loss: 0.6276 - accuracy: 0.7431 - val_loss: 0.6332 - val_accuracy: 0.7362 - lr: 1.0000e-05\n",
      "Epoch 9/100\n",
      "54/54 - 2s - loss: 0.6142 - accuracy: 0.7484 - val_loss: 0.6224 - val_accuracy: 0.7428 - lr: 1.0000e-05\n",
      "Epoch 10/100\n",
      "54/54 - 2s - loss: 0.6028 - accuracy: 0.7494 - val_loss: 0.6116 - val_accuracy: 0.7533 - lr: 1.0000e-05\n",
      "Epoch 11/100\n",
      "54/54 - 2s - loss: 0.5906 - accuracy: 0.7548 - val_loss: 0.6013 - val_accuracy: 0.7559 - lr: 1.0000e-05\n",
      "Epoch 12/100\n",
      "54/54 - 2s - loss: 0.5788 - accuracy: 0.7643 - val_loss: 0.5916 - val_accuracy: 0.7598 - lr: 1.0000e-05\n",
      "Epoch 13/100\n",
      "54/54 - 2s - loss: 0.5671 - accuracy: 0.7650 - val_loss: 0.5822 - val_accuracy: 0.7638 - lr: 1.0000e-05\n",
      "Epoch 14/100\n",
      "54/54 - 2s - loss: 0.5565 - accuracy: 0.7670 - val_loss: 0.5737 - val_accuracy: 0.7690 - lr: 1.0000e-05\n",
      "Epoch 15/100\n",
      "54/54 - 2s - loss: 0.5467 - accuracy: 0.7723 - val_loss: 0.5658 - val_accuracy: 0.7664 - lr: 1.0000e-05\n",
      "Epoch 16/100\n",
      "54/54 - 2s - loss: 0.5369 - accuracy: 0.7723 - val_loss: 0.5590 - val_accuracy: 0.7638 - lr: 1.0000e-05\n",
      "Epoch 17/100\n",
      "54/54 - 2s - loss: 0.5298 - accuracy: 0.7746 - val_loss: 0.5529 - val_accuracy: 0.7651 - lr: 1.0000e-05\n",
      "Epoch 18/100\n",
      "54/54 - 2s - loss: 0.5214 - accuracy: 0.7797 - val_loss: 0.5477 - val_accuracy: 0.7664 - lr: 1.0000e-05\n",
      "Epoch 19/100\n",
      "54/54 - 2s - loss: 0.5151 - accuracy: 0.7824 - val_loss: 0.5434 - val_accuracy: 0.7717 - lr: 1.0000e-05\n",
      "Epoch 20/100\n",
      "54/54 - 2s - loss: 0.5093 - accuracy: 0.7863 - val_loss: 0.5395 - val_accuracy: 0.7743 - lr: 1.0000e-05\n",
      "Epoch 21/100\n",
      "54/54 - 2s - loss: 0.5039 - accuracy: 0.7886 - val_loss: 0.5363 - val_accuracy: 0.7769 - lr: 1.0000e-05\n",
      "Epoch 22/100\n",
      "54/54 - 2s - loss: 0.5021 - accuracy: 0.7908 - val_loss: 0.5334 - val_accuracy: 0.7756 - lr: 1.0000e-05\n",
      "Epoch 23/100\n",
      "54/54 - 2s - loss: 0.4975 - accuracy: 0.7905 - val_loss: 0.5310 - val_accuracy: 0.7808 - lr: 1.0000e-05\n",
      "Epoch 24/100\n",
      "54/54 - 2s - loss: 0.4934 - accuracy: 0.7916 - val_loss: 0.5290 - val_accuracy: 0.7808 - lr: 1.0000e-05\n",
      "Epoch 25/100\n",
      "54/54 - 2s - loss: 0.4900 - accuracy: 0.7948 - val_loss: 0.5274 - val_accuracy: 0.7795 - lr: 1.0000e-05\n",
      "Epoch 26/100\n",
      "54/54 - 2s - loss: 0.4872 - accuracy: 0.7967 - val_loss: 0.5256 - val_accuracy: 0.7808 - lr: 1.0000e-05\n",
      "Epoch 27/100\n",
      "54/54 - 2s - loss: 0.4850 - accuracy: 0.7932 - val_loss: 0.5242 - val_accuracy: 0.7782 - lr: 1.0000e-05\n",
      "Epoch 28/100\n",
      "54/54 - 2s - loss: 0.4821 - accuracy: 0.7994 - val_loss: 0.5229 - val_accuracy: 0.7822 - lr: 1.0000e-05\n",
      "Epoch 29/100\n",
      "54/54 - 2s - loss: 0.4806 - accuracy: 0.8031 - val_loss: 0.5217 - val_accuracy: 0.7848 - lr: 1.0000e-05\n",
      "Epoch 30/100\n",
      "54/54 - 2s - loss: 0.4816 - accuracy: 0.7992 - val_loss: 0.5207 - val_accuracy: 0.7861 - lr: 1.0000e-05\n",
      "Epoch 31/100\n",
      "54/54 - 2s - loss: 0.4800 - accuracy: 0.8040 - val_loss: 0.5197 - val_accuracy: 0.7874 - lr: 1.0000e-05\n",
      "Epoch 32/100\n",
      "54/54 - 2s - loss: 0.4773 - accuracy: 0.8012 - val_loss: 0.5187 - val_accuracy: 0.7874 - lr: 1.0000e-05\n",
      "Epoch 33/100\n",
      "54/54 - 2s - loss: 0.4755 - accuracy: 0.8013 - val_loss: 0.5178 - val_accuracy: 0.7887 - lr: 1.0000e-05\n",
      "Epoch 34/100\n",
      "54/54 - 2s - loss: 0.4768 - accuracy: 0.8012 - val_loss: 0.5169 - val_accuracy: 0.7874 - lr: 1.0000e-05\n",
      "Epoch 35/100\n",
      "54/54 - 2s - loss: 0.4741 - accuracy: 0.8050 - val_loss: 0.5163 - val_accuracy: 0.7848 - lr: 1.0000e-05\n",
      "Epoch 36/100\n",
      "54/54 - 2s - loss: 0.4730 - accuracy: 0.8024 - val_loss: 0.5153 - val_accuracy: 0.7887 - lr: 1.0000e-05\n",
      "Epoch 37/100\n",
      "54/54 - 2s - loss: 0.4719 - accuracy: 0.8073 - val_loss: 0.5147 - val_accuracy: 0.7861 - lr: 1.0000e-05\n",
      "Epoch 38/100\n",
      "54/54 - 2s - loss: 0.4703 - accuracy: 0.8067 - val_loss: 0.5139 - val_accuracy: 0.7900 - lr: 1.0000e-05\n",
      "Epoch 39/100\n",
      "54/54 - 2s - loss: 0.4710 - accuracy: 0.8022 - val_loss: 0.5130 - val_accuracy: 0.7940 - lr: 1.0000e-05\n",
      "Epoch 40/100\n",
      "54/54 - 2s - loss: 0.4704 - accuracy: 0.8067 - val_loss: 0.5124 - val_accuracy: 0.7927 - lr: 1.0000e-05\n",
      "Epoch 41/100\n",
      "54/54 - 2s - loss: 0.4683 - accuracy: 0.8078 - val_loss: 0.5115 - val_accuracy: 0.7940 - lr: 1.0000e-05\n",
      "Epoch 42/100\n",
      "54/54 - 2s - loss: 0.4672 - accuracy: 0.8063 - val_loss: 0.5111 - val_accuracy: 0.7900 - lr: 1.0000e-05\n",
      "Epoch 43/100\n",
      "54/54 - 2s - loss: 0.4665 - accuracy: 0.8078 - val_loss: 0.5104 - val_accuracy: 0.7940 - lr: 1.0000e-05\n",
      "Epoch 44/100\n",
      "54/54 - 2s - loss: 0.4680 - accuracy: 0.8063 - val_loss: 0.5098 - val_accuracy: 0.7927 - lr: 1.0000e-05\n",
      "Epoch 45/100\n",
      "54/54 - 2s - loss: 0.4648 - accuracy: 0.8094 - val_loss: 0.5094 - val_accuracy: 0.7927 - lr: 1.0000e-05\n",
      "Epoch 46/100\n",
      "54/54 - 2s - loss: 0.4654 - accuracy: 0.8065 - val_loss: 0.5087 - val_accuracy: 0.7913 - lr: 1.0000e-05\n",
      "Epoch 47/100\n",
      "54/54 - 2s - loss: 0.4649 - accuracy: 0.8079 - val_loss: 0.5081 - val_accuracy: 0.7927 - lr: 1.0000e-05\n",
      "Epoch 48/100\n",
      "54/54 - 2s - loss: 0.4640 - accuracy: 0.8075 - val_loss: 0.5077 - val_accuracy: 0.7900 - lr: 1.0000e-05\n",
      "Epoch 49/100\n",
      "54/54 - 2s - loss: 0.4623 - accuracy: 0.8076 - val_loss: 0.5071 - val_accuracy: 0.7927 - lr: 1.0000e-05\n",
      "Epoch 50/100\n",
      "54/54 - 2s - loss: 0.4616 - accuracy: 0.8070 - val_loss: 0.5067 - val_accuracy: 0.7900 - lr: 1.0000e-05\n",
      "Epoch 51/100\n",
      "54/54 - 2s - loss: 0.4623 - accuracy: 0.8066 - val_loss: 0.5061 - val_accuracy: 0.7940 - lr: 1.0000e-05\n",
      "Epoch 52/100\n",
      "54/54 - 2s - loss: 0.4623 - accuracy: 0.8054 - val_loss: 0.5057 - val_accuracy: 0.7940 - lr: 1.0000e-05\n",
      "Epoch 53/100\n",
      "54/54 - 2s - loss: 0.4597 - accuracy: 0.8081 - val_loss: 0.5053 - val_accuracy: 0.7913 - lr: 1.0000e-05\n",
      "Epoch 54/100\n",
      "54/54 - 2s - loss: 0.4607 - accuracy: 0.8095 - val_loss: 0.5052 - val_accuracy: 0.7887 - lr: 1.0000e-05\n",
      "Epoch 55/100\n",
      "54/54 - 2s - loss: 0.4609 - accuracy: 0.8098 - val_loss: 0.5043 - val_accuracy: 0.7953 - lr: 1.0000e-05\n",
      "Epoch 56/100\n",
      "54/54 - 2s - loss: 0.4602 - accuracy: 0.8092 - val_loss: 0.5040 - val_accuracy: 0.7900 - lr: 1.0000e-05\n",
      "Epoch 57/100\n",
      "54/54 - 2s - loss: 0.4564 - accuracy: 0.8117 - val_loss: 0.5035 - val_accuracy: 0.7940 - lr: 1.0000e-05\n",
      "Epoch 58/100\n",
      "54/54 - 2s - loss: 0.4577 - accuracy: 0.8092 - val_loss: 0.5032 - val_accuracy: 0.7913 - lr: 1.0000e-05\n",
      "Epoch 59/100\n",
      "54/54 - 2s - loss: 0.4575 - accuracy: 0.8081 - val_loss: 0.5028 - val_accuracy: 0.7913 - lr: 1.0000e-05\n",
      "Epoch 60/100\n",
      "54/54 - 2s - loss: 0.4582 - accuracy: 0.8082 - val_loss: 0.5022 - val_accuracy: 0.7927 - lr: 1.0000e-05\n",
      "Epoch 61/100\n",
      "54/54 - 2s - loss: 0.4582 - accuracy: 0.8073 - val_loss: 0.5018 - val_accuracy: 0.7913 - lr: 1.0000e-05\n",
      "Epoch 62/100\n",
      "54/54 - 2s - loss: 0.4555 - accuracy: 0.8124 - val_loss: 0.5016 - val_accuracy: 0.7927 - lr: 1.0000e-05\n",
      "Epoch 63/100\n",
      "54/54 - 2s - loss: 0.4556 - accuracy: 0.8132 - val_loss: 0.5011 - val_accuracy: 0.7900 - lr: 1.0000e-05\n",
      "Epoch 64/100\n",
      "54/54 - 2s - loss: 0.4536 - accuracy: 0.8119 - val_loss: 0.5009 - val_accuracy: 0.7913 - lr: 1.0000e-05\n",
      "Epoch 65/100\n",
      "54/54 - 2s - loss: 0.4520 - accuracy: 0.8117 - val_loss: 0.5005 - val_accuracy: 0.7900 - lr: 1.0000e-05\n",
      "Epoch 66/100\n",
      "54/54 - 2s - loss: 0.4536 - accuracy: 0.8114 - val_loss: 0.5001 - val_accuracy: 0.7913 - lr: 1.0000e-05\n",
      "Epoch 67/100\n",
      "54/54 - 2s - loss: 0.4520 - accuracy: 0.8156 - val_loss: 0.4997 - val_accuracy: 0.7913 - lr: 1.0000e-05\n",
      "Epoch 68/100\n",
      "54/54 - 2s - loss: 0.4516 - accuracy: 0.8132 - val_loss: 0.4994 - val_accuracy: 0.7927 - lr: 1.0000e-05\n",
      "Epoch 69/100\n",
      "54/54 - 2s - loss: 0.4516 - accuracy: 0.8123 - val_loss: 0.4991 - val_accuracy: 0.7927 - lr: 1.0000e-05\n",
      "Epoch 70/100\n",
      "54/54 - 2s - loss: 0.4517 - accuracy: 0.8111 - val_loss: 0.4986 - val_accuracy: 0.7927 - lr: 1.0000e-05\n",
      "Epoch 71/100\n",
      "54/54 - 2s - loss: 0.4504 - accuracy: 0.8142 - val_loss: 0.4984 - val_accuracy: 0.7940 - lr: 1.0000e-05\n",
      "Epoch 72/100\n",
      "54/54 - 2s - loss: 0.4508 - accuracy: 0.8142 - val_loss: 0.4981 - val_accuracy: 0.7913 - lr: 1.0000e-05\n",
      "Epoch 73/100\n",
      "54/54 - 2s - loss: 0.4509 - accuracy: 0.8110 - val_loss: 0.4978 - val_accuracy: 0.7940 - lr: 1.0000e-05\n",
      "Epoch 74/100\n",
      "54/54 - 2s - loss: 0.4492 - accuracy: 0.8137 - val_loss: 0.4976 - val_accuracy: 0.7913 - lr: 1.0000e-05\n",
      "Epoch 75/100\n",
      "54/54 - 2s - loss: 0.4481 - accuracy: 0.8130 - val_loss: 0.4973 - val_accuracy: 0.7953 - lr: 1.0000e-05\n",
      "Epoch 76/100\n",
      "54/54 - 2s - loss: 0.4493 - accuracy: 0.8119 - val_loss: 0.4969 - val_accuracy: 0.7953 - lr: 1.0000e-05\n",
      "Epoch 77/100\n",
      "54/54 - 2s - loss: 0.4467 - accuracy: 0.8124 - val_loss: 0.4966 - val_accuracy: 0.7953 - lr: 1.0000e-05\n",
      "Epoch 78/100\n",
      "54/54 - 2s - loss: 0.4492 - accuracy: 0.8113 - val_loss: 0.4963 - val_accuracy: 0.7940 - lr: 1.0000e-05\n",
      "Epoch 79/100\n",
      "54/54 - 2s - loss: 0.4463 - accuracy: 0.8114 - val_loss: 0.4960 - val_accuracy: 0.7940 - lr: 1.0000e-05\n",
      "Epoch 80/100\n",
      "54/54 - 2s - loss: 0.4471 - accuracy: 0.8154 - val_loss: 0.4958 - val_accuracy: 0.7940 - lr: 1.0000e-05\n",
      "Epoch 81/100\n",
      "54/54 - 2s - loss: 0.4475 - accuracy: 0.8132 - val_loss: 0.4955 - val_accuracy: 0.7940 - lr: 1.0000e-05\n",
      "Epoch 82/100\n",
      "54/54 - 1s - loss: 0.4479 - accuracy: 0.8133 - val_loss: 0.4956 - val_accuracy: 0.7927 - lr: 1.0000e-05\n",
      "Epoch 83/100\n",
      "54/54 - 2s - loss: 0.4456 - accuracy: 0.8140 - val_loss: 0.4948 - val_accuracy: 0.7940 - lr: 1.0000e-05\n",
      "Epoch 84/100\n",
      "54/54 - 2s - loss: 0.4463 - accuracy: 0.8136 - val_loss: 0.4948 - val_accuracy: 0.7913 - lr: 1.0000e-05\n",
      "Epoch 85/100\n",
      "54/54 - 2s - loss: 0.4455 - accuracy: 0.8129 - val_loss: 0.4945 - val_accuracy: 0.7913 - lr: 1.0000e-05\n",
      "Epoch 86/100\n",
      "54/54 - 2s - loss: 0.4468 - accuracy: 0.8137 - val_loss: 0.4942 - val_accuracy: 0.7940 - lr: 1.0000e-05\n",
      "Epoch 87/100\n",
      "54/54 - 2s - loss: 0.4439 - accuracy: 0.8164 - val_loss: 0.4940 - val_accuracy: 0.7913 - lr: 1.0000e-05\n",
      "Epoch 88/100\n",
      "54/54 - 2s - loss: 0.4436 - accuracy: 0.8127 - val_loss: 0.4937 - val_accuracy: 0.7900 - lr: 1.0000e-05\n",
      "Epoch 89/100\n",
      "54/54 - 2s - loss: 0.4430 - accuracy: 0.8151 - val_loss: 0.4936 - val_accuracy: 0.7913 - lr: 1.0000e-05\n",
      "Epoch 90/100\n",
      "54/54 - 2s - loss: 0.4442 - accuracy: 0.8133 - val_loss: 0.4933 - val_accuracy: 0.7900 - lr: 1.0000e-05\n",
      "Epoch 91/100\n",
      "54/54 - 2s - loss: 0.4426 - accuracy: 0.8137 - val_loss: 0.4931 - val_accuracy: 0.7900 - lr: 1.0000e-05\n",
      "Epoch 92/100\n",
      "54/54 - 2s - loss: 0.4435 - accuracy: 0.8177 - val_loss: 0.4927 - val_accuracy: 0.7900 - lr: 1.0000e-05\n",
      "Epoch 93/100\n",
      "54/54 - 1s - loss: 0.4415 - accuracy: 0.8167 - val_loss: 0.4928 - val_accuracy: 0.7900 - lr: 1.0000e-05\n",
      "Epoch 94/100\n",
      "54/54 - 2s - loss: 0.4421 - accuracy: 0.8165 - val_loss: 0.4925 - val_accuracy: 0.7900 - lr: 1.0000e-05\n",
      "Epoch 95/100\n",
      "54/54 - 2s - loss: 0.4412 - accuracy: 0.8175 - val_loss: 0.4923 - val_accuracy: 0.7913 - lr: 1.0000e-05\n",
      "Epoch 96/100\n",
      "54/54 - 2s - loss: 0.4400 - accuracy: 0.8152 - val_loss: 0.4923 - val_accuracy: 0.7887 - lr: 1.0000e-05\n",
      "Epoch 97/100\n",
      "54/54 - 2s - loss: 0.4411 - accuracy: 0.8142 - val_loss: 0.4918 - val_accuracy: 0.7887 - lr: 1.0000e-05\n",
      "Epoch 98/100\n",
      "54/54 - 2s - loss: 0.4381 - accuracy: 0.8155 - val_loss: 0.4916 - val_accuracy: 0.7887 - lr: 1.0000e-05\n",
      "Epoch 99/100\n",
      "54/54 - 2s - loss: 0.4403 - accuracy: 0.8167 - val_loss: 0.4914 - val_accuracy: 0.7887 - lr: 1.0000e-05\n",
      "Epoch 100/100\n",
      "54/54 - 2s - loss: 0.4405 - accuracy: 0.8143 - val_loss: 0.4911 - val_accuracy: 0.7874 - lr: 1.0000e-05\n"
     ]
    }
   ],
   "source": [
    "#Create the model\n",
    "model = Sequential([\n",
    "    Embedding(input_dim = vocab_size, \n",
    "              output_dim = embedding_dim, #dimensions of dense embedding\n",
    "              embeddings_initializer = Constant(embedding_matrix), #initialize with GloVe’s word embeddings\n",
    "              input_length = seq_len, # sequence length \n",
    "              trainable = False), \n",
    "    Bidirectional(GRU(128, dropout = 0.1, return_sequences=True)),\n",
    "    Bidirectional(GRU(64, dropout = 0.2, kernel_regularizer=l2(1e-4))),\n",
    "    Dense(1, activation = 'sigmoid')\n",
    "])\n",
    "\n",
    "#model.compile(loss = 'binary_crossentropy', optimizer = SGD(lr=1e-3, momentum = 0.9, nesterov=True), metrics = ['accuracy'])\n",
    "model.compile(loss = 'binary_crossentropy', optimizer = Adam(lr=1e-5), metrics = ['accuracy'])\n",
    "\n",
    "model.summary()\n",
    "\n",
    "# Callbacks\n",
    "checkpoint = ModelCheckpoint(\"/content/drive/My Drive/Twitter/twitter_model_2\",                                                 \n",
    "                              monitor = 'val_loss',                                                \n",
    "                              save_best_only=True) # save the model with the lowest val_loss\n",
    "\n",
    "early_stop = EarlyStopping(monitor = 'val_loss', patience=10)\n",
    "\n",
    "lr_scheduler = ReduceLROnPlateau(monitor='val_loss', patience=5, cooldown=1, verbose=1, factor=0.5)\n",
    "\n",
    "# Train the model\n",
    "history = model.fit(X_train, #padded sequences\n",
    "                    y_train, #labels\n",
    "                    batch_size=128, \n",
    "                    epochs=100, \n",
    "                    validation_data=(X_val, y_val),\n",
    "                    verbose=2,\n",
    "                    callbacks=[checkpoint, early_stop, lr_scheduler])"
   ]
  },
  {
   "cell_type": "markdown",
   "metadata": {
    "colab_type": "text",
    "id": "lRVRTmN53yfM"
   },
   "source": [
    "# Evaluate Model"
   ]
  },
  {
   "cell_type": "markdown",
   "metadata": {
    "colab_type": "text",
    "id": "foOVrbOL383_"
   },
   "source": [
    "### Plot loss VS epoch"
   ]
  },
  {
   "cell_type": "code",
   "execution_count": 0,
   "metadata": {
    "colab": {},
    "colab_type": "code",
    "id": "o9avwyr4swR3"
   },
   "outputs": [],
   "source": [
    "def plot_graphs(history, metric):\n",
    "    joblib.dump(history.history[metric], \"/content/drive/My Drive/Twitter/train_\" + metric + \".pkl\") #save training metric\n",
    "    joblib.dump(history.history['val_' + metric], \"/content/drive/My Drive/Twitter/val_\" + metric + \".pkl\") #save validation metric\n",
    "    plt.plot(history.history[metric])\n",
    "    plt.plot(history.history['val_' + metric])\n",
    "    plt.xlabel(\"Epochs\")\n",
    "    plt.ylabel(metric)\n",
    "    plt.legend(['train_' + metric, 'val_' + metric)"
   ]
  },
  {
   "cell_type": "code",
   "execution_count": 0,
   "metadata": {
    "colab": {
     "base_uri": "https://localhost:8080/",
     "height": 279
    },
    "colab_type": "code",
    "id": "M2G-0naUswR7",
    "outputId": "b5958532-c3a4-4d2e-c530-a84110fc4d26"
   },
   "outputs": [
    {
     "data": {
      "image/png": "[encoded data removed]",
      "text/plain": [
       "<Figure size 432x288 with 1 Axes>"
      ]
     },
     "metadata": {
      "needs_background": "light",
      "tags": []
     },
     "output_type": "display_data"
    }
   ],
   "source": [
    "plot_graphs(history, \"loss\")"
   ]
  },
  {
   "cell_type": "code",
   "execution_count": 0,
   "metadata": {
    "colab": {
     "base_uri": "https://localhost:8080/",
     "height": 279
    },
    "colab_type": "code",
    "id": "lb6ONFpAswR9",
    "outputId": "122a1d22-1990-409b-e958-e94cc9a66390"
   },
   "outputs": [
    {
     "data": {
      "image/png": "[encoded data removed]",
      "text/plain": [
       "<Figure size 432x288 with 1 Axes>"
      ]
     },
     "metadata": {
      "needs_background": "light",
      "tags": []
     },
     "output_type": "display_data"
    }
   ],
   "source": [
    "plot_graphs(history, \"accuracy\")"
   ]
  },
  {
   "cell_type": "markdown",
   "metadata": {
    "colab_type": "text",
    "id": "Na9tjmxz1TgN"
   },
   "source": [
    "### Confusion Matrix"
   ]
  },
  {
   "cell_type": "code",
   "execution_count": 0,
   "metadata": {
    "colab": {
     "base_uri": "https://localhost:8080/",
     "height": 52
    },
    "colab_type": "code",
    "id": "ZKMpnj8B1RCx",
    "outputId": "eaaad60b-d5c0-45a3-dd49-4298c0cc86ae"
   },
   "outputs": [
    {
     "data": {
      "text/plain": [
       "array([[375,  60],\n",
       "       [102, 225]])"
      ]
     },
     "execution_count": 27,
     "metadata": {
      "tags": []
     },
     "output_type": "execute_result"
    }
   ],
   "source": [
    "y_pred = model.predict (X_val) # outputs class probabilities\n",
    "y_pred = np.round(y_pred).astype(int).reshape((y_pred.shape[0])) # round probab to either 0 or 1\n",
    "\n",
    "y_true = y_val.reshape((y_val.shape[0])) \n",
    "\n",
    "conf = confusion_matrix (y_true, y_pred) \n",
    "conf"
   ]
  },
  {
   "cell_type": "code",
   "execution_count": 0,
   "metadata": {
    "colab": {
     "base_uri": "https://localhost:8080/",
     "height": 87
    },
    "colab_type": "code",
    "id": "Udab9f3v85w_",
    "outputId": "848d24ed-725c-4370-b7af-966d5210b7e4"
   },
   "outputs": [
    {
     "name": "stdout",
     "output_type": "stream",
     "text": [
      "The model incorrectly classified 14% of 435 non-disaster tweets and 31% of 327 disaster tweets\n",
      "Precision: 0.79\n",
      "Recall: 0.69\n",
      "F1 score: 0.74\n"
     ]
    }
   ],
   "source": [
    "TP = conf[1,1] # true positives\n",
    "TN = conf[0,0] # true negatives\n",
    "FP = conf[0,1] # false positives\n",
    "FN = conf[1,0] # false negatives\n",
    "\n",
    "print(f\"The model incorrectly classified {FP/(TN+FP)*100:.0f}% of {val['target'].shape[0] - val['target'].sum()} non-disaster tweets and {FN/(FN+TP)*100:.0f}% of {val['target'].sum()} disaster tweets\")\n",
    "print(f\"Precision: {TP/(TP+FP):.2f}\") # precision = TP/TP+FP\n",
    "print(f\"Recall: {TP/(TP+FN):.2f}\") # recall = TP/TP+FN\n",
    "print(f\"F1 score: {2/(1/(TP/(TP+FP)) + 1/(TP/(TP+FN))):.2f}\") #f1 score = 2/(1/precision  +   1/recall)"
   ]
  },
  {
   "cell_type": "markdown",
   "metadata": {
    "colab_type": "text",
    "id": "oZ-BCyfUQqry"
   },
   "source": [
    "### Writing the misclassified tweets to CSV file to perform error analysis"
   ]
  },
  {
   "cell_type": "code",
   "execution_count": 0,
   "metadata": {
    "colab": {},
    "colab_type": "code",
    "id": "Y4fbX1gUpkF7"
   },
   "outputs": [],
   "source": [
    "# These setting below allow me to view the entire tweet\n",
    "pd.options.display.max_rows = None\n",
    "pd.options.display.max_columns = None\n",
    "pd.set_option('display.max_colwidth', 1000000)"
   ]
  },
  {
   "cell_type": "code",
   "execution_count": 0,
   "metadata": {
    "colab": {},
    "colab_type": "code",
    "id": "Y1CwoSuvoEzT"
   },
   "outputs": [],
   "source": [
    "df = val[y_pred != y_true].reset_index(drop=True) # raw version of the tweets which were inaccurately classified\n",
    "\n",
    "x_clean_wrong = tokenizer.sequences_to_texts(X_val[y_pred != y_true]) # get the cleaned tweets which were inaccurately classified\n",
    "df.insert(1,'Clean Text', x_clean_wrong) #insert the column (labelled as 'Clean Text') into df\n",
    "\n",
    "df = df.rename(columns = {'text':'Raw Text', 'target': 'Supposed to be'})\n",
    "\n",
    "df.to_csv('/content/drive/My Drive/Twitter/error_analysis.csv', index = False)"
   ]
  },
  {
   "cell_type": "markdown",
   "metadata": {
    "colab_type": "text",
    "id": "C_kuZnKo-C5z"
   },
   "source": [
    "# Submission"
   ]
  },
  {
   "cell_type": "code",
   "execution_count": 0,
   "metadata": {
    "colab": {},
    "colab_type": "code",
    "id": "X_RYKYs67Akm"
   },
   "outputs": [],
   "source": [
    "model = load_model('/content/drive/My Drive/Twitter/twitter_model_2') "
   ]
  },
  {
   "cell_type": "code",
   "execution_count": 0,
   "metadata": {
    "colab": {},
    "colab_type": "code",
    "id": "MYx7hdMT_Y0F"
   },
   "outputs": [],
   "source": [
    "submission = pd.read_csv('/content/drive/My Drive/Twitter/test.csv')\n",
    "\n",
    "submit_id = submission['id']\n",
    "submission.drop(['id','keyword','location'], axis=1, inplace = True) \n",
    "\n",
    "submission_padded = full_transform(submission)"
   ]
  },
  {
   "cell_type": "code",
   "execution_count": 0,
   "metadata": {
    "colab": {},
    "colab_type": "code",
    "id": "FmXOohh_-GJ-"
   },
   "outputs": [],
   "source": [
    "y_pred = model.predict (submission_padded) # class probabilities\n",
    "y_pred = np.round(y_pred).astype(int).reshape((y_pred.shape[0])) # round to 0 to 1"
   ]
  },
  {
   "cell_type": "code",
   "execution_count": 0,
   "metadata": {
    "colab": {},
    "colab_type": "code",
    "id": "cxZ2v4Zc_BEM"
   },
   "outputs": [],
   "source": [
    "df = pd.DataFrame({'id': submit_id, 'target': y_pred})\n",
    "df.to_csv('/content/drive/My Drive/Twitter/twitter_submission_2.csv', index = False)"
   ]
  }
 ],
 "metadata": {
  "accelerator": "GPU",
  "colab": {
   "collapsed_sections": [],
   "name": "twitter_text_classification_GloVe.ipynb",
   "provenance": [],
   "toc_visible": true
  },
  "kernelspec": {
   "display_name": "Python 3",
   "language": "python",
   "name": "python3"
  },
  "language_info": {
   "codemirror_mode": {
    "name": "ipython",
    "version": 3
   },
   "file_extension": ".py",
   "mimetype": "text/x-python",
   "name": "python",
   "nbconvert_exporter": "python",
   "pygments_lexer": "ipython3",
   "version": "3.7.5"
  }
 },
 "nbformat": 4,
 "nbformat_minor": 1
}
