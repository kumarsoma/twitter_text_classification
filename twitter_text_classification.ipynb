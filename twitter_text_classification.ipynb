{
 "cells": [
  {
   "cell_type": "code",
   "execution_count": 28,
   "metadata": {},
   "outputs": [],
   "source": [
    "import numpy as np \n",
    "import pandas as pd \n",
    "import os\n",
    "import tensorflow as tf\n",
    "import re\n",
    "import matplotlib.pyplot as plt\n",
    "import seaborn as sns\n",
    "from sklearn.model_selection import StratifiedShuffleSplit \n",
    "from sklearn.model_selection import train_test_split \n",
    "\n",
    "from nltk.tokenize import word_tokenize\n",
    "from nltk.corpus import stopwords #179 stopwords # import nltk, then type nltk.download('stopwords')\n",
    "from wordcloud import STOPWORDS #192 stopwords\n",
    "\n",
    "from tensorflow.keras.preprocessing.text import Tokenizer\n",
    "from tensorflow.keras.preprocessing.sequence import pad_sequences\n",
    "from tensorflow.keras.models import Sequential\n",
    "from tensorflow.keras.layers import Embedding,LSTM,Dense,Dropout,Bidirectional,Conv1D, MaxPooling1D\n",
    "from tensorflow.keras.initializers import Constant\n",
    "from tensorflow.keras.optimizers import Adam\n",
    "from tensorflow.keras.callbacks import ModelCheckpoint, ReduceLROnPlateau\n"
   ]
  },
  {
   "cell_type": "markdown",
   "metadata": {},
   "source": [
    "# EDA"
   ]
  },
  {
   "cell_type": "code",
   "execution_count": 2,
   "metadata": {},
   "outputs": [
    {
     "data": {
      "text/html": [
       "<div>\n",
       "<style scoped>\n",
       "    .dataframe tbody tr th:only-of-type {\n",
       "        vertical-align: middle;\n",
       "    }\n",
       "\n",
       "    .dataframe tbody tr th {\n",
       "        vertical-align: top;\n",
       "    }\n",
       "\n",
       "    .dataframe thead th {\n",
       "        text-align: right;\n",
       "    }\n",
       "</style>\n",
       "<table border=\"1\" class=\"dataframe\">\n",
       "  <thead>\n",
       "    <tr style=\"text-align: right;\">\n",
       "      <th></th>\n",
       "      <th>id</th>\n",
       "      <th>keyword</th>\n",
       "      <th>location</th>\n",
       "      <th>text</th>\n",
       "      <th>target</th>\n",
       "    </tr>\n",
       "  </thead>\n",
       "  <tbody>\n",
       "    <tr>\n",
       "      <th>0</th>\n",
       "      <td>1</td>\n",
       "      <td>NaN</td>\n",
       "      <td>NaN</td>\n",
       "      <td>Our Deeds are the Reason of this #earthquake M...</td>\n",
       "      <td>1</td>\n",
       "    </tr>\n",
       "    <tr>\n",
       "      <th>1</th>\n",
       "      <td>4</td>\n",
       "      <td>NaN</td>\n",
       "      <td>NaN</td>\n",
       "      <td>Forest fire near La Ronge Sask. Canada</td>\n",
       "      <td>1</td>\n",
       "    </tr>\n",
       "    <tr>\n",
       "      <th>2</th>\n",
       "      <td>5</td>\n",
       "      <td>NaN</td>\n",
       "      <td>NaN</td>\n",
       "      <td>All residents asked to 'shelter in place' are ...</td>\n",
       "      <td>1</td>\n",
       "    </tr>\n",
       "    <tr>\n",
       "      <th>3</th>\n",
       "      <td>6</td>\n",
       "      <td>NaN</td>\n",
       "      <td>NaN</td>\n",
       "      <td>13,000 people receive #wildfires evacuation or...</td>\n",
       "      <td>1</td>\n",
       "    </tr>\n",
       "    <tr>\n",
       "      <th>4</th>\n",
       "      <td>7</td>\n",
       "      <td>NaN</td>\n",
       "      <td>NaN</td>\n",
       "      <td>Just got sent this photo from Ruby #Alaska as ...</td>\n",
       "      <td>1</td>\n",
       "    </tr>\n",
       "    <tr>\n",
       "      <th>...</th>\n",
       "      <td>...</td>\n",
       "      <td>...</td>\n",
       "      <td>...</td>\n",
       "      <td>...</td>\n",
       "      <td>...</td>\n",
       "    </tr>\n",
       "    <tr>\n",
       "      <th>7608</th>\n",
       "      <td>10869</td>\n",
       "      <td>NaN</td>\n",
       "      <td>NaN</td>\n",
       "      <td>Two giant cranes holding a bridge collapse int...</td>\n",
       "      <td>1</td>\n",
       "    </tr>\n",
       "    <tr>\n",
       "      <th>7609</th>\n",
       "      <td>10870</td>\n",
       "      <td>NaN</td>\n",
       "      <td>NaN</td>\n",
       "      <td>@aria_ahrary @TheTawniest The out of control w...</td>\n",
       "      <td>1</td>\n",
       "    </tr>\n",
       "    <tr>\n",
       "      <th>7610</th>\n",
       "      <td>10871</td>\n",
       "      <td>NaN</td>\n",
       "      <td>NaN</td>\n",
       "      <td>M1.94 [01:04 UTC]?5km S of Volcano Hawaii. htt...</td>\n",
       "      <td>1</td>\n",
       "    </tr>\n",
       "    <tr>\n",
       "      <th>7611</th>\n",
       "      <td>10872</td>\n",
       "      <td>NaN</td>\n",
       "      <td>NaN</td>\n",
       "      <td>Police investigating after an e-bike collided ...</td>\n",
       "      <td>1</td>\n",
       "    </tr>\n",
       "    <tr>\n",
       "      <th>7612</th>\n",
       "      <td>10873</td>\n",
       "      <td>NaN</td>\n",
       "      <td>NaN</td>\n",
       "      <td>The Latest: More Homes Razed by Northern Calif...</td>\n",
       "      <td>1</td>\n",
       "    </tr>\n",
       "  </tbody>\n",
       "</table>\n",
       "<p>7613 rows × 5 columns</p>\n",
       "</div>"
      ],
      "text/plain": [
       "         id keyword location  \\\n",
       "0         1     NaN      NaN   \n",
       "1         4     NaN      NaN   \n",
       "2         5     NaN      NaN   \n",
       "3         6     NaN      NaN   \n",
       "4         7     NaN      NaN   \n",
       "...     ...     ...      ...   \n",
       "7608  10869     NaN      NaN   \n",
       "7609  10870     NaN      NaN   \n",
       "7610  10871     NaN      NaN   \n",
       "7611  10872     NaN      NaN   \n",
       "7612  10873     NaN      NaN   \n",
       "\n",
       "                                                   text  target  \n",
       "0     Our Deeds are the Reason of this #earthquake M...       1  \n",
       "1                Forest fire near La Ronge Sask. Canada       1  \n",
       "2     All residents asked to 'shelter in place' are ...       1  \n",
       "3     13,000 people receive #wildfires evacuation or...       1  \n",
       "4     Just got sent this photo from Ruby #Alaska as ...       1  \n",
       "...                                                 ...     ...  \n",
       "7608  Two giant cranes holding a bridge collapse int...       1  \n",
       "7609  @aria_ahrary @TheTawniest The out of control w...       1  \n",
       "7610  M1.94 [01:04 UTC]?5km S of Volcano Hawaii. htt...       1  \n",
       "7611  Police investigating after an e-bike collided ...       1  \n",
       "7612  The Latest: More Homes Razed by Northern Calif...       1  \n",
       "\n",
       "[7613 rows x 5 columns]"
      ]
     },
     "execution_count": 2,
     "metadata": {},
     "output_type": "execute_result"
    }
   ],
   "source": [
    "data = pd.read_csv('DisasterTweet/train.csv')\n",
    "data"
   ]
  },
  {
   "cell_type": "markdown",
   "metadata": {},
   "source": [
    "### Missing values"
   ]
  },
  {
   "cell_type": "code",
   "execution_count": 3,
   "metadata": {},
   "outputs": [
    {
     "data": {
      "text/html": [
       "<div>\n",
       "<style scoped>\n",
       "    .dataframe tbody tr th:only-of-type {\n",
       "        vertical-align: middle;\n",
       "    }\n",
       "\n",
       "    .dataframe tbody tr th {\n",
       "        vertical-align: top;\n",
       "    }\n",
       "\n",
       "    .dataframe thead th {\n",
       "        text-align: right;\n",
       "    }\n",
       "</style>\n",
       "<table border=\"1\" class=\"dataframe\">\n",
       "  <thead>\n",
       "    <tr style=\"text-align: right;\">\n",
       "      <th></th>\n",
       "      <th>% missing values</th>\n",
       "    </tr>\n",
       "  </thead>\n",
       "  <tbody>\n",
       "    <tr>\n",
       "      <th>id</th>\n",
       "      <td>0.00</td>\n",
       "    </tr>\n",
       "    <tr>\n",
       "      <th>keyword</th>\n",
       "      <td>0.80</td>\n",
       "    </tr>\n",
       "    <tr>\n",
       "      <th>location</th>\n",
       "      <td>33.27</td>\n",
       "    </tr>\n",
       "    <tr>\n",
       "      <th>text</th>\n",
       "      <td>0.00</td>\n",
       "    </tr>\n",
       "    <tr>\n",
       "      <th>target</th>\n",
       "      <td>0.00</td>\n",
       "    </tr>\n",
       "  </tbody>\n",
       "</table>\n",
       "</div>"
      ],
      "text/plain": [
       "          % missing values\n",
       "id                    0.00\n",
       "keyword               0.80\n",
       "location             33.27\n",
       "text                  0.00\n",
       "target                0.00"
      ]
     },
     "execution_count": 3,
     "metadata": {},
     "output_type": "execute_result"
    }
   ],
   "source": [
    "missing = (data.isnull().sum()/len(data)*100).round(2)\n",
    "pd.DataFrame({'% missing values': missing})"
   ]
  },
  {
   "cell_type": "markdown",
   "metadata": {},
   "source": [
    "### Remove unnecessary columns"
   ]
  },
  {
   "cell_type": "code",
   "execution_count": 4,
   "metadata": {},
   "outputs": [],
   "source": [
    "#I'm removing keyword and location \n",
    "data.drop(['id','keyword','location'], axis=1, inplace = True) "
   ]
  },
  {
   "cell_type": "markdown",
   "metadata": {},
   "source": [
    "Although 'keywords' doesnt have alot of missing values, I'm dropping it because I dont think I will need it as an additional input. Text alone should be fine. Maybe in the future I might consider including keywords"
   ]
  },
  {
   "cell_type": "markdown",
   "metadata": {},
   "source": [
    "### Total number of words in each tweet"
   ]
  },
  {
   "cell_type": "code",
   "execution_count": 5,
   "metadata": {},
   "outputs": [],
   "source": [
    "#find length of each tweet in disaster and non disaster\n",
    "data_len_0 = data[data['target']==0]['text'].str.split().map(lambda x: len(x))\n",
    "data_len_1 = data[data['target']==1]['text'].str.split().map(lambda x: len(x)) "
   ]
  },
  {
   "cell_type": "code",
   "execution_count": 6,
   "metadata": {},
   "outputs": [
    {
     "data": {
      "image/png": "[encoded data removed]",
      "text/plain": [
       "<Figure size 1080x216 with 2 Axes>"
      ]
     },
     "metadata": {
      "needs_background": "light"
     },
     "output_type": "display_data"
    }
   ],
   "source": [
    "fig, axes = plt.subplots(1, 2, figsize=(15,3))\n",
    "\n",
    "sns.countplot(data_len_0, ax=axes[0], color='green')\n",
    "axes[0].set(xlabel='Number of words per tweet', ylabel='Number of tweets', title='Non-disaster tweets')\n",
    "\n",
    "sns.countplot(data_len_1, ax=axes[1], color='red')\n",
    "axes[1].set(xlabel='Number of words per tweet', ylabel='Number of tweets', title='Disaster tweets')\n",
    "\n",
    "plt.show()"
   ]
  },
  {
   "cell_type": "markdown",
   "metadata": {},
   "source": [
    "The distribution looks similar between disaster and non-disaster tweets. The number of words in majority of the tweets is around 11-17. Only a few are at the 30-31 range. Thus, I will set maxlen=35 when I'm padding the data"
   ]
  },
  {
   "cell_type": "markdown",
   "metadata": {},
   "source": [
    "### Create training and validation sets"
   ]
  },
  {
   "cell_type": "code",
   "execution_count": 7,
   "metadata": {},
   "outputs": [],
   "source": [
    "# Create validation set, stratified based on target class distribution\n",
    "s = StratifiedShuffleSplit(test_size=0.1, random_state=42)\n",
    "\n",
    "for train_index, val_index in s.split(data, data[\"target\"]): \n",
    "    train = data.loc[train_index]\n",
    "    val = data.loc[val_index]\n",
    "    \n",
    "train.reset_index(inplace=True, drop=True) \n",
    "val.reset_index(inplace=True, drop=True) "
   ]
  },
  {
   "cell_type": "markdown",
   "metadata": {},
   "source": [
    "# Data Cleaning"
   ]
  },
  {
   "cell_type": "code",
   "execution_count": 8,
   "metadata": {},
   "outputs": [],
   "source": [
    "def clean(text):\n",
    "    \n",
    "    text = text.lower()\n",
    "\n",
    "    pattern = re.compile('http[s]?://(?:[a-zA-Z]|[0-9]|[$-_@.&+]|[!*\\(\\),]|(?:%[0-9a-fA-F][0-9a-fA-F]))+')\n",
    "    text = pattern.sub('', text)    \n",
    "    \n",
    "    text = re.sub(r\",.\\\"!@#$%^&*(\\\\)[\\\\]{\\\\}?/;`~:|<>+=-\", \"\", text)\n",
    "\n",
    "    # Contractions\n",
    "    text = re.sub(r\"ain't\", \"am not\", text)\n",
    "    text = re.sub(r\"aren't\", \"are not\", text)\n",
    "    text = re.sub(r\"can't\", \"cannot\", text)\n",
    "    text = re.sub(r\"couldn't\", \"could not\", text)\n",
    "    text = re.sub(r\"could've\", \"could have\", text)\n",
    "    text = re.sub(r\"didn't\", \"did not\", text)\n",
    "    text = re.sub(r\"doesn't\", \"does not\", text)\n",
    "    text = re.sub(r\"don't\", \"do not\", text)\n",
    "    text = re.sub(r\"hasn't\", \"has not\", text)\n",
    "    text = re.sub(r\"haven't\", \"have not\", text)\n",
    "    text = re.sub(r\"he'll\", \"he will\", text)\n",
    "    text = re.sub(r\"here's\", \"here is\", text)\n",
    "    text = re.sub(r\"he's\", \"he is\", text)\n",
    "    text = re.sub(r\"i'd\", \"i would\", text)\n",
    "    text = re.sub(r\"i'll\", \"i will\", text)\n",
    "    text = re.sub(r\"i'm\", \"i am\", text)\n",
    "    text = re.sub(r\"isn't\", \"is not\", text)\n",
    "    text = re.sub(r\"it'll\", \"it will\", text)\n",
    "    text = re.sub(r\"it's\", \"it is\", text)\n",
    "    text = re.sub(r\"i've\", \"i have\", text)\n",
    "    text = re.sub(r\"let's\", \"let us\", text)\n",
    "    text = re.sub(r\"shouldn't\", \"should not\", text)\n",
    "    text = re.sub(r\"should've\", \"should have\", text)\n",
    "    text = re.sub(r\"that's\", \"that is\", text)\n",
    "    text = re.sub(r\"there's\", \"there is\", text)\n",
    "    text = re.sub(r\"they'd\", \"they would\", text)\n",
    "    text = re.sub(r\"they'll\", \"they will\", text)\n",
    "    text = re.sub(r\"they're\", \"they are\", text)\n",
    "    text = re.sub(r\"they've\", \"they have\", text)\n",
    "    text = re.sub(r\"wasn't\", \"was not\", text)\n",
    "    text = re.sub(r\"we'd\", \"we would\", text)\n",
    "    text = re.sub(r\"we'll\", \"we will\", text)\n",
    "    text = re.sub(r\"we're\", \"we are\", text)\n",
    "    text = re.sub(r\"weren't\", \"were not\", text)\n",
    "    text = re.sub(r\"we've\", \"we have\", text)\n",
    "    text = re.sub(r\"what's\", \"what is\", text)\n",
    "    text = re.sub(r\"where's\", \"where is\", text)\n",
    "    text = re.sub(r\"who's\", \"who is\", text)\n",
    "    text = re.sub(r\"won't\", \"will not\", text)\n",
    "    text = re.sub(r\"wouldn't\", \"would not\", text)\n",
    "    text = re.sub(r\"would've\", \"would have\", text)\n",
    "    text = re.sub(r\"y'all\", \"you all\", text)\n",
    "    text = re.sub(r\"you'd\", \"you would\", text)\n",
    "    text = re.sub(r\"you'll\", \"you will\", text)\n",
    "    text = re.sub(r\"you're\", \"you are\", text)\n",
    "    text = re.sub(r\"you've\", \"you have\", text)\n",
    "           \n",
    "    return text"
   ]
  },
  {
   "cell_type": "markdown",
   "metadata": {},
   "source": [
    "### Clean training set"
   ]
  },
  {
   "cell_type": "code",
   "execution_count": 9,
   "metadata": {},
   "outputs": [],
   "source": [
    "train_clean = train.copy()\n",
    "train_clean['text'] = train_clean['text'].apply(lambda series : clean(series))"
   ]
  },
  {
   "cell_type": "code",
   "execution_count": 10,
   "metadata": {},
   "outputs": [],
   "source": [
    "df = train_clean[\"text\"].str.find('amp')"
   ]
  },
  {
   "cell_type": "code",
   "execution_count": 11,
   "metadata": {},
   "outputs": [
    {
     "data": {
      "text/plain": [
       "0       -1\n",
       "1       -1\n",
       "2       41\n",
       "3       -1\n",
       "4       -1\n",
       "        ..\n",
       "6846    -1\n",
       "6847    -1\n",
       "6848    -1\n",
       "6849    -1\n",
       "6850    -1\n",
       "Name: text, Length: 6851, dtype: int64"
      ]
     },
     "execution_count": 11,
     "metadata": {},
     "output_type": "execute_result"
    }
   ],
   "source": [
    "df"
   ]
  },
  {
   "cell_type": "code",
   "execution_count": 12,
   "metadata": {},
   "outputs": [
    {
     "data": {
      "text/plain": [
       "Int64Index([   2,   40,   53,   73,   78,  119,  179,  180,  185,  209,\n",
       "            ...\n",
       "            6691, 6695, 6720, 6741, 6748, 6771, 6772, 6800, 6803, 6815],\n",
       "           dtype='int64', length=374)"
      ]
     },
     "execution_count": 12,
     "metadata": {},
     "output_type": "execute_result"
    }
   ],
   "source": [
    "df[df!= -1].index"
   ]
  },
  {
   "cell_type": "markdown",
   "metadata": {},
   "source": [
    "# Data Preprocessing"
   ]
  },
  {
   "cell_type": "markdown",
   "metadata": {},
   "source": [
    "### Prepare corpus for training set"
   ]
  },
  {
   "cell_type": "code",
   "execution_count": 13,
   "metadata": {},
   "outputs": [],
   "source": [
    "stopNLTK = set(stopwords.words('english')) # stop words from NLTK\n",
    "stopWORDCLOUD = set(STOPWORDS) # stopwords from WORDCLOUD\n",
    "stop_words = stopNLTK | stopWORDCLOUD # combine all of the unique stopwords from NLTK and WORDCLOUD\n",
    "\n",
    "# create a corpus without stop words and non-alphabet-words\n",
    "def create_corpus(df):\n",
    "    corpus = []\n",
    "    for sentence in df['text']:\n",
    "        words = []\n",
    "        for word in word_tokenize(sentence): #word_tokenize splits a sentence into individual words. Useful for removing stop words and non-alphabet words\n",
    "            if((word.isalpha()==1) & (word not in stop_words)):\n",
    "                words.append(word)\n",
    "        corpus.append(words)\n",
    "    return corpus # returns a list"
   ]
  },
  {
   "cell_type": "code",
   "execution_count": 14,
   "metadata": {},
   "outputs": [],
   "source": [
    "train_corpus = create_corpus(train_clean) # prepared a complete text containing proper words, which will be tokenized and padded"
   ]
  },
  {
   "cell_type": "markdown",
   "metadata": {},
   "source": [
    "### Tokenize and pad training set"
   ]
  },
  {
   "cell_type": "code",
   "execution_count": 15,
   "metadata": {},
   "outputs": [],
   "source": [
    "tokenizer = Tokenizer()\n",
    "tokenizer.fit_on_texts(train_corpus) # tokenize (split the corpus into individual words) and assign an index based on word frequency\n",
    "\n",
    "train_sequences = tokenizer.texts_to_sequences(train_corpus) # converts each word in each tweet into numbers\n",
    "maxlength = 35 \n",
    "train_padded = pad_sequences(train_sequences, maxlen = maxlength, truncating='post', padding='post') #makes each sentence the same length by padding, or truncating at the end of the sentence"
   ]
  },
  {
   "cell_type": "markdown",
   "metadata": {},
   "source": [
    "### Create embedding dictionary from pre-trained GloVe model"
   ]
  },
  {
   "cell_type": "code",
   "execution_count": 16,
   "metadata": {},
   "outputs": [],
   "source": [
    "# this cell creates the embedding DICT which reads from the glove file that contains 400k unique words and its corresponding vectors \n",
    "# when you create the embedding MATRIX later, you will refer to this dictionary to get the vectors for the words \n",
    "\n",
    "embedding_dict = {}\n",
    "word_list = []\n",
    "\n",
    "with open('glove_6B_100d.txt','r', encoding = \"utf-8\") as g: \n",
    "    for line in g: # each 'line' is a string which contains a WORD and its corresponding VECTOR (which contains 100 numbers, because 100 dimensions)\n",
    "        values = line.split() # .split() will split a 'line' string into a list, in which the first item is the WORD, the next 100 items are the 100 numbers\n",
    "        word = values[0] # get the WORD\n",
    "        word_list.append(word)\n",
    "        vector = np.asarray(values[1:], dtype = 'float32') # get the VECTOR\n",
    "        embedding_dict[word] = vector # in this dictionary, the key is the WORD, the value is the corresponding VECTOR, \n",
    "        # thus, that line will create a key (i.e. word) and a value (i.e. vector) in each for loop iteration \n",
    "        # and it keeps appending automatically, so in the end you have a complete dictionary\n",
    "\n",
    "g.close()\n",
    "num_dim = 100"
   ]
  },
  {
   "cell_type": "markdown",
   "metadata": {},
   "source": [
    "### Create embedding matrix"
   ]
  },
  {
   "cell_type": "code",
   "execution_count": 18,
   "metadata": {},
   "outputs": [],
   "source": [
    "word_index = tokenizer.word_index # returns a dictionary of unique words and its index, which is based on the word's frequency"
   ]
  },
  {
   "cell_type": "code",
   "execution_count": 19,
   "metadata": {},
   "outputs": [],
   "source": [
    "num_words = len(word_index) + 1 # embedding DICTIONARY's index starts at 1, not 0. So you need to add 1 row so that row 0 in embedding MATRIX has zeros\n",
    "embedding_matrix = np.zeros((num_words, num_dim)) # If you load a different dimensional glove file, make sure to change the dimensions here too\n",
    "\n",
    "for word,idx in word_index.items(): #.items() returns the dict key-value pairs (key = 'word', value = 'idx')\n",
    "    emb_vec = embedding_dict.get(word, 0) #.get() means get the value of the key in the dictionary. In this case, .get(word) returns the vector. If no such word exist, it returns 0s for the vector\n",
    "    embedding_matrix[idx] = emb_vec"
   ]
  },
  {
   "cell_type": "markdown",
   "metadata": {},
   "source": [
    "### Validation set - clean, prepare corpus, tokenize + pad"
   ]
  },
  {
   "cell_type": "code",
   "execution_count": 20,
   "metadata": {},
   "outputs": [],
   "source": [
    "def full_transform(df): # will be applied to both validation set and submission set later\n",
    "    df['text'] = df['text'].apply(lambda c : clean(c))\n",
    "\n",
    "    df_corpus = create_corpus(df) # prepared the complete text containing proper words, which will then be tokenized and padded\n",
    "\n",
    "    df_sequences = tokenizer.texts_to_sequences(df_corpus)\n",
    "    df_padded = pad_sequences(df_sequences, maxlen = maxlength, truncating='post', padding='post')\n",
    "    \n",
    "    return df_padded"
   ]
  },
  {
   "cell_type": "code",
   "execution_count": 21,
   "metadata": {},
   "outputs": [],
   "source": [
    "val_padded = full_transform(val)"
   ]
  },
  {
   "cell_type": "markdown",
   "metadata": {},
   "source": [
    "# Create Model"
   ]
  },
  {
   "cell_type": "code",
   "execution_count": 22,
   "metadata": {},
   "outputs": [],
   "source": [
    "X_train = np.array(train_padded)\n",
    "y_train = np.array(train['target'])\n",
    "X_val = np.array(val_padded)\n",
    "y_val = np.array(val['target'])"
   ]
  },
  {
   "cell_type": "code",
   "execution_count": 23,
   "metadata": {},
   "outputs": [
    {
     "name": "stdout",
     "output_type": "stream",
     "text": [
      "Shape of X_train: (6851, 35)\n",
      "Shape of X_val: (762, 35)\n",
      "Shape of y_train: (6851,)\n",
      "Shape of y_val: (762,)\n"
     ]
    }
   ],
   "source": [
    "print('Shape of X_train:', X_train.shape)\n",
    "print('Shape of X_val:', X_val.shape)\n",
    "print('Shape of y_train:', y_train.shape)\n",
    "print('Shape of y_val:', y_val.shape)"
   ]
  },
  {
   "cell_type": "code",
   "execution_count": 77,
   "metadata": {},
   "outputs": [],
   "source": [
    "model = Sequential([\n",
    "    Embedding(input_dim = num_words, #vocab_size\n",
    "                              output_dim = num_dim, #dimension of dense embedding\n",
    "                              embeddings_initializer = Constant(embedding_matrix),\n",
    "                              input_length = maxlength, # max length of input sequence (i.e. sentence)\n",
    "                              trainable = False), # set trainable to False, because I'm using a pretrained embedding matrix as my initializer, meaning I dont have to train my model to find optimal embedding matrix\n",
    "    Dropout(0.4),\n",
    "#     Conv1D(filters = 16, kernel_size = 3, padding = \"same\", activation = \"relu\"),\n",
    "#     MaxPooling1D (pool_size = 2, strides = 2),\n",
    "#    Bidirectional(LSTM(64, return_sequences = True)),\n",
    "    Bidirectional(LSTM(64)),\n",
    "    Dense(1, activation = 'sigmoid')\n",
    "])"
   ]
  },
  {
   "cell_type": "code",
   "execution_count": 78,
   "metadata": {},
   "outputs": [],
   "source": [
    "# lr_schedule = tf.keras.callbacks.LearningRateScheduler(lambda epoch: 1e-5 * 10**(epoch/3))\n",
    "model.compile(loss = 'binary_crossentropy', \n",
    "              optimizer = Adam(lr=0.001, beta_1=0.9, beta_2=0.999),\n",
    "              metrics = ['accuracy'])"
   ]
  },
  {
   "cell_type": "code",
   "execution_count": 79,
   "metadata": {},
   "outputs": [
    {
     "name": "stdout",
     "output_type": "stream",
     "text": [
      "Model: \"sequential_5\"\n",
      "_________________________________________________________________\n",
      "Layer (type)                 Output Shape              Param #   \n",
      "=================================================================\n",
      "embedding_5 (Embedding)      (None, 35, 100)           1395300   \n",
      "_________________________________________________________________\n",
      "dropout_5 (Dropout)          (None, 35, 100)           0         \n",
      "_________________________________________________________________\n",
      "bidirectional_2 (Bidirection (None, 35, 128)           84480     \n",
      "_________________________________________________________________\n",
      "bidirectional_3 (Bidirection (None, 128)               98816     \n",
      "_________________________________________________________________\n",
      "dense_5 (Dense)              (None, 1)                 129       \n",
      "=================================================================\n",
      "Total params: 1,578,725\n",
      "Trainable params: 183,425\n",
      "Non-trainable params: 1,395,300\n",
      "_________________________________________________________________\n"
     ]
    }
   ],
   "source": [
    "# model.compile(loss = 'binary_crossentropy', optimizer = Adam(learning_rate=1e-5), metrics = ['accuracy'])\n",
    "model.summary()"
   ]
  },
  {
   "cell_type": "code",
   "execution_count": 80,
   "metadata": {},
   "outputs": [],
   "source": [
    "# Callbacks\n",
    "\n",
    "# save model\n",
    "checkpoint_cb = ModelCheckpoint(\"twitter.h5\",                                                 \n",
    "                                monitor = 'val_accuracy',                                                \n",
    "                                save_best_only=True)\n",
    "\n",
    "# reduce learning by lr*0.1 when val_accuracy value plateaus for 2 epochs\n",
    "lr_cb = ReduceLROnPlateau(monitor='val_accuracy', \n",
    "                          patience=2, \n",
    "                          verbose=1,                                             \n",
    "                          factor=0.1,                                             \n",
    "                          min_lr=0.00001)"
   ]
  },
  {
   "cell_type": "code",
   "execution_count": 81,
   "metadata": {},
   "outputs": [
    {
     "name": "stdout",
     "output_type": "stream",
     "text": [
      "Train on 6851 samples, validate on 762 samples\n",
      "Epoch 1/20\n",
      "6851/6851 - 39s - loss: 0.5021 - accuracy: 0.7643 - val_loss: 0.4946 - val_accuracy: 0.7769\n",
      "Epoch 2/20\n",
      "6851/6851 - 16s - loss: 0.4652 - accuracy: 0.7867 - val_loss: 0.4681 - val_accuracy: 0.7979\n",
      "Epoch 3/20\n",
      "6851/6851 - 13s - loss: 0.4448 - accuracy: 0.7967 - val_loss: 0.4536 - val_accuracy: 0.7966\n",
      "Epoch 4/20\n",
      "6851/6851 - 16s - loss: 0.4383 - accuracy: 0.7989 - val_loss: 0.4619 - val_accuracy: 0.8018\n",
      "Epoch 5/20\n",
      "6851/6851 - 14s - loss: 0.4327 - accuracy: 0.8075 - val_loss: 0.4562 - val_accuracy: 0.7966\n",
      "Epoch 6/20\n",
      "\n",
      "Epoch 00006: ReduceLROnPlateau reducing learning rate to 0.00010000000474974513.\n",
      "6851/6851 - 14s - loss: 0.4201 - accuracy: 0.8094 - val_loss: 0.4572 - val_accuracy: 0.7966\n",
      "Epoch 7/20\n",
      "6851/6851 - 14s - loss: 0.4042 - accuracy: 0.8224 - val_loss: 0.4595 - val_accuracy: 0.7966\n",
      "Epoch 8/20\n",
      "\n",
      "Epoch 00008: ReduceLROnPlateau reducing learning rate to 1.0000000474974514e-05.\n",
      "6851/6851 - 14s - loss: 0.3991 - accuracy: 0.8213 - val_loss: 0.4565 - val_accuracy: 0.7953\n",
      "Epoch 9/20\n",
      "6851/6851 - 14s - loss: 0.3978 - accuracy: 0.8228 - val_loss: 0.4566 - val_accuracy: 0.7940\n",
      "Epoch 10/20\n",
      "\n",
      "Epoch 00010: ReduceLROnPlateau reducing learning rate to 1e-05.\n",
      "6851/6851 - 17s - loss: 0.4020 - accuracy: 0.8151 - val_loss: 0.4562 - val_accuracy: 0.7966\n",
      "Epoch 11/20\n",
      "6851/6851 - 16s - loss: 0.3949 - accuracy: 0.8266 - val_loss: 0.4565 - val_accuracy: 0.7953\n",
      "Epoch 12/20\n",
      "6851/6851 - 13s - loss: 0.3999 - accuracy: 0.8216 - val_loss: 0.4564 - val_accuracy: 0.7953\n",
      "Epoch 13/20\n",
      "6851/6851 - 14s - loss: 0.3980 - accuracy: 0.8221 - val_loss: 0.4564 - val_accuracy: 0.7953\n",
      "Epoch 14/20\n",
      "6851/6851 - 15s - loss: 0.3995 - accuracy: 0.8231 - val_loss: 0.4566 - val_accuracy: 0.7966\n",
      "Epoch 15/20\n",
      "6851/6851 - 14s - loss: 0.4016 - accuracy: 0.8180 - val_loss: 0.4567 - val_accuracy: 0.7966\n",
      "Epoch 16/20\n",
      "6851/6851 - 15s - loss: 0.3958 - accuracy: 0.8247 - val_loss: 0.4568 - val_accuracy: 0.7966\n",
      "Epoch 17/20\n",
      "6851/6851 - 14s - loss: 0.3958 - accuracy: 0.8244 - val_loss: 0.4567 - val_accuracy: 0.7966\n",
      "Epoch 18/20\n",
      "6851/6851 - 16s - loss: 0.3934 - accuracy: 0.8251 - val_loss: 0.4569 - val_accuracy: 0.7966\n",
      "Epoch 19/20\n",
      "6851/6851 - 14s - loss: 0.3961 - accuracy: 0.8247 - val_loss: 0.4569 - val_accuracy: 0.7953\n",
      "Epoch 20/20\n",
      "6851/6851 - 15s - loss: 0.3948 - accuracy: 0.8259 - val_loss: 0.4571 - val_accuracy: 0.7940\n"
     ]
    }
   ],
   "source": [
    "history = model.fit(X_train, #padded\n",
    "                    y_train, #labels\n",
    "                    batch_size=64, \n",
    "                    epochs=20, # should be 15\n",
    "                    validation_data=(X_val, y_val),\n",
    "                    verbose=2,\n",
    "                    callbacks=[checkpoint_cb, lr_cb]) "
   ]
  },
  {
   "cell_type": "code",
   "execution_count": 82,
   "metadata": {},
   "outputs": [],
   "source": [
    "def plot_graphs(history, string):\n",
    "    plt.plot(history.history[string])\n",
    "    plt.plot(history.history['val_' + string])\n",
    "    plt.xlabel(\"Epochs\")\n",
    "    plt.ylabel(string)\n",
    "    plt.legend(['train_' + string, 'val_' + string])"
   ]
  },
  {
   "cell_type": "code",
   "execution_count": 83,
   "metadata": {},
   "outputs": [
    {
     "data": {
      "image/png": "[encoded data removed]",
      "text/plain": [
       "<Figure size 432x288 with 1 Axes>"
      ]
     },
     "metadata": {
      "needs_background": "light"
     },
     "output_type": "display_data"
    }
   ],
   "source": [
    "plot_graphs(history, \"loss\")"
   ]
  },
  {
   "cell_type": "code",
   "execution_count": 84,
   "metadata": {},
   "outputs": [
    {
     "data": {
      "image/png": "[encoded data removed]",
      "text/plain": [
       "<Figure size 432x288 with 1 Axes>"
      ]
     },
     "metadata": {
      "needs_background": "light"
     },
     "output_type": "display_data"
    }
   ],
   "source": [
    "plot_graphs(history, \"accuracy\")"
   ]
  },
  {
   "cell_type": "code",
   "execution_count": 85,
   "metadata": {},
   "outputs": [],
   "source": [
    "# Plot the loss VS LR\n",
    "# plt.semilogx(history.history[\"lr\"], history.history[\"loss\"])"
   ]
  }
 ],
 "metadata": {
  "kernelspec": {
   "display_name": "Python 3",
   "language": "python",
   "name": "python3"
  },
  "language_info": {
   "codemirror_mode": {
    "name": "ipython",
    "version": 3
   },
   "file_extension": ".py",
   "mimetype": "text/x-python",
   "name": "python",
   "nbconvert_exporter": "python",
   "pygments_lexer": "ipython3",
   "version": "3.7.5"
  }
 },
 "nbformat": 4,
 "nbformat_minor": 2
}
