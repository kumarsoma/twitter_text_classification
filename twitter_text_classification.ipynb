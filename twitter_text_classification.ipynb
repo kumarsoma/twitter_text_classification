{
 "cells": [
  {
   "cell_type": "code",
   "execution_count": 2,
   "metadata": {
    "colab": {
     "base_uri": "https://localhost:8080/",
     "height": 124
    },
    "colab_type": "code",
    "id": "g8SHN6SRswQH",
    "outputId": "42964dce-e70a-4361-a941-ddf7b4509888"
   },
   "outputs": [
    {
     "name": "stdout",
     "output_type": "stream",
     "text": [
      "Go to this URL in a browser: https://accounts.google.com/o/oauth2/auth?client_id=947318989803-6bn6qk8qdgf4n4g3pfee6491hc0brc4i.apps.googleusercontent.com&redirect_uri=urn%3aietf%3awg%3aoauth%3a2.0%3aoob&response_type=code&scope=email%20https%3a%2f%2fwww.googleapis.com%2fauth%2fdocs.test%20https%3a%2f%2fwww.googleapis.com%2fauth%2fdrive%20https%3a%2f%2fwww.googleapis.com%2fauth%2fdrive.photos.readonly%20https%3a%2f%2fwww.googleapis.com%2fauth%2fpeopleapi.readonly\n",
      "\n",
      "Enter your authorization code:\n",
      "··········\n",
      "Mounted at /content/drive/\n"
     ]
    }
   ],
   "source": [
    "from google.colab import drive\n",
    "drive.mount('/content/drive/')"
   ]
  },
  {
   "cell_type": "code",
   "execution_count": 77,
   "metadata": {
    "colab": {
     "base_uri": "https://localhost:8080/",
     "height": 87
    },
    "colab_type": "code",
    "id": "7YaxcqPmswQO",
    "outputId": "20c74a81-b4cb-407b-d2b8-f1f4eae38e96"
   },
   "outputs": [
    {
     "name": "stdout",
     "output_type": "stream",
     "text": [
      "[nltk_data] Downloading package stopwords to /root/nltk_data...\n",
      "[nltk_data]   Package stopwords is already up-to-date!\n",
      "[nltk_data] Downloading package punkt to /root/nltk_data...\n",
      "[nltk_data]   Package punkt is already up-to-date!\n"
     ]
    }
   ],
   "source": [
    "import numpy as np \n",
    "import pandas as pd \n",
    "import os\n",
    "import re\n",
    "import matplotlib.pyplot as plt\n",
    "import seaborn as sns\n",
    "import string\n",
    "from sklearn.model_selection import StratifiedShuffleSplit \n",
    "from sklearn.model_selection import train_test_split \n",
    "from sklearn.metrics import confusion_matrix\n",
    "\n",
    "import nltk\n",
    "nltk.download('stopwords')\n",
    "nltk.download('punkt')\n",
    "\n",
    "from nltk.tokenize import word_tokenize\n",
    "from nltk.corpus import stopwords #179 stopwords # import nltk, then type nltk.download('stopwords')\n",
    "from wordcloud import STOPWORDS #192 stopwords\n",
    "\n",
    "from tensorflow.keras.preprocessing.text import Tokenizer\n",
    "from tensorflow.keras.preprocessing.sequence import pad_sequences\n",
    "from tensorflow.keras.models import Sequential\n",
    "from tensorflow.keras.layers import Embedding,LSTM,Dense,Dropout,GRU,BatchNormalization,Bidirectional\n",
    "from tensorflow.keras.initializers import Constant\n",
    "from tensorflow.keras.optimizers import Adam, RMSprop, SGD\n",
    "from tensorflow.keras.callbacks import ModelCheckpoint, ReduceLROnPlateau, EarlyStopping, LearningRateScheduler\n",
    "from tensorflow.keras.regularizers import l2\n",
    "from tensorflow.keras.models import load_model\n"
   ]
  },
  {
   "cell_type": "markdown",
   "metadata": {
    "colab_type": "text",
    "id": "gHdhQrY6swQT"
   },
   "source": [
    "# EDA"
   ]
  },
  {
   "cell_type": "code",
   "execution_count": 4,
   "metadata": {
    "colab": {
     "base_uri": "https://localhost:8080/",
     "height": 415
    },
    "colab_type": "code",
    "id": "gK9ctwfVswQU",
    "outputId": "309ac02a-4f81-4525-b6c2-9859f89213ac"
   },
   "outputs": [
    {
     "data": {
      "text/html": [
       "<div>\n",
       "<style scoped>\n",
       "    .dataframe tbody tr th:only-of-type {\n",
       "        vertical-align: middle;\n",
       "    }\n",
       "\n",
       "    .dataframe tbody tr th {\n",
       "        vertical-align: top;\n",
       "    }\n",
       "\n",
       "    .dataframe thead th {\n",
       "        text-align: right;\n",
       "    }\n",
       "</style>\n",
       "<table border=\"1\" class=\"dataframe\">\n",
       "  <thead>\n",
       "    <tr style=\"text-align: right;\">\n",
       "      <th></th>\n",
       "      <th>id</th>\n",
       "      <th>keyword</th>\n",
       "      <th>location</th>\n",
       "      <th>text</th>\n",
       "      <th>target</th>\n",
       "    </tr>\n",
       "  </thead>\n",
       "  <tbody>\n",
       "    <tr>\n",
       "      <th>0</th>\n",
       "      <td>1</td>\n",
       "      <td>NaN</td>\n",
       "      <td>NaN</td>\n",
       "      <td>Our Deeds are the Reason of this #earthquake M...</td>\n",
       "      <td>1</td>\n",
       "    </tr>\n",
       "    <tr>\n",
       "      <th>1</th>\n",
       "      <td>4</td>\n",
       "      <td>NaN</td>\n",
       "      <td>NaN</td>\n",
       "      <td>Forest fire near La Ronge Sask. Canada</td>\n",
       "      <td>1</td>\n",
       "    </tr>\n",
       "    <tr>\n",
       "      <th>2</th>\n",
       "      <td>5</td>\n",
       "      <td>NaN</td>\n",
       "      <td>NaN</td>\n",
       "      <td>All residents asked to 'shelter in place' are ...</td>\n",
       "      <td>1</td>\n",
       "    </tr>\n",
       "    <tr>\n",
       "      <th>3</th>\n",
       "      <td>6</td>\n",
       "      <td>NaN</td>\n",
       "      <td>NaN</td>\n",
       "      <td>13,000 people receive #wildfires evacuation or...</td>\n",
       "      <td>1</td>\n",
       "    </tr>\n",
       "    <tr>\n",
       "      <th>4</th>\n",
       "      <td>7</td>\n",
       "      <td>NaN</td>\n",
       "      <td>NaN</td>\n",
       "      <td>Just got sent this photo from Ruby #Alaska as ...</td>\n",
       "      <td>1</td>\n",
       "    </tr>\n",
       "    <tr>\n",
       "      <th>...</th>\n",
       "      <td>...</td>\n",
       "      <td>...</td>\n",
       "      <td>...</td>\n",
       "      <td>...</td>\n",
       "      <td>...</td>\n",
       "    </tr>\n",
       "    <tr>\n",
       "      <th>7608</th>\n",
       "      <td>10869</td>\n",
       "      <td>NaN</td>\n",
       "      <td>NaN</td>\n",
       "      <td>Two giant cranes holding a bridge collapse int...</td>\n",
       "      <td>1</td>\n",
       "    </tr>\n",
       "    <tr>\n",
       "      <th>7609</th>\n",
       "      <td>10870</td>\n",
       "      <td>NaN</td>\n",
       "      <td>NaN</td>\n",
       "      <td>@aria_ahrary @TheTawniest The out of control w...</td>\n",
       "      <td>1</td>\n",
       "    </tr>\n",
       "    <tr>\n",
       "      <th>7610</th>\n",
       "      <td>10871</td>\n",
       "      <td>NaN</td>\n",
       "      <td>NaN</td>\n",
       "      <td>M1.94 [01:04 UTC]?5km S of Volcano Hawaii. htt...</td>\n",
       "      <td>1</td>\n",
       "    </tr>\n",
       "    <tr>\n",
       "      <th>7611</th>\n",
       "      <td>10872</td>\n",
       "      <td>NaN</td>\n",
       "      <td>NaN</td>\n",
       "      <td>Police investigating after an e-bike collided ...</td>\n",
       "      <td>1</td>\n",
       "    </tr>\n",
       "    <tr>\n",
       "      <th>7612</th>\n",
       "      <td>10873</td>\n",
       "      <td>NaN</td>\n",
       "      <td>NaN</td>\n",
       "      <td>The Latest: More Homes Razed by Northern Calif...</td>\n",
       "      <td>1</td>\n",
       "    </tr>\n",
       "  </tbody>\n",
       "</table>\n",
       "<p>7613 rows × 5 columns</p>\n",
       "</div>"
      ],
      "text/plain": [
       "         id keyword  ...                                               text target\n",
       "0         1     NaN  ...  Our Deeds are the Reason of this #earthquake M...      1\n",
       "1         4     NaN  ...             Forest fire near La Ronge Sask. Canada      1\n",
       "2         5     NaN  ...  All residents asked to 'shelter in place' are ...      1\n",
       "3         6     NaN  ...  13,000 people receive #wildfires evacuation or...      1\n",
       "4         7     NaN  ...  Just got sent this photo from Ruby #Alaska as ...      1\n",
       "...     ...     ...  ...                                                ...    ...\n",
       "7608  10869     NaN  ...  Two giant cranes holding a bridge collapse int...      1\n",
       "7609  10870     NaN  ...  @aria_ahrary @TheTawniest The out of control w...      1\n",
       "7610  10871     NaN  ...  M1.94 [01:04 UTC]?5km S of Volcano Hawaii. htt...      1\n",
       "7611  10872     NaN  ...  Police investigating after an e-bike collided ...      1\n",
       "7612  10873     NaN  ...  The Latest: More Homes Razed by Northern Calif...      1\n",
       "\n",
       "[7613 rows x 5 columns]"
      ]
     },
     "execution_count": 4,
     "metadata": {
      "tags": []
     },
     "output_type": "execute_result"
    }
   ],
   "source": [
    "data = pd.read_csv('/content/drive/My Drive/Colab Notebooks/train.csv')\n",
    "#data = pd.read_csv('DisasterTweet/train.csv')\n",
    "data"
   ]
  },
  {
   "cell_type": "markdown",
   "metadata": {
    "colab_type": "text",
    "id": "QJiT2yJtswQZ"
   },
   "source": [
    "### Missing values"
   ]
  },
  {
   "cell_type": "code",
   "execution_count": 5,
   "metadata": {
    "colab": {
     "base_uri": "https://localhost:8080/",
     "height": 202
    },
    "colab_type": "code",
    "id": "RPNgImgnswQZ",
    "outputId": "b0da6f45-5328-42c4-8db5-5151dd4ddd80"
   },
   "outputs": [
    {
     "data": {
      "text/html": [
       "<div>\n",
       "<style scoped>\n",
       "    .dataframe tbody tr th:only-of-type {\n",
       "        vertical-align: middle;\n",
       "    }\n",
       "\n",
       "    .dataframe tbody tr th {\n",
       "        vertical-align: top;\n",
       "    }\n",
       "\n",
       "    .dataframe thead th {\n",
       "        text-align: right;\n",
       "    }\n",
       "</style>\n",
       "<table border=\"1\" class=\"dataframe\">\n",
       "  <thead>\n",
       "    <tr style=\"text-align: right;\">\n",
       "      <th></th>\n",
       "      <th>% missing values</th>\n",
       "    </tr>\n",
       "  </thead>\n",
       "  <tbody>\n",
       "    <tr>\n",
       "      <th>id</th>\n",
       "      <td>0.00</td>\n",
       "    </tr>\n",
       "    <tr>\n",
       "      <th>keyword</th>\n",
       "      <td>0.80</td>\n",
       "    </tr>\n",
       "    <tr>\n",
       "      <th>location</th>\n",
       "      <td>33.27</td>\n",
       "    </tr>\n",
       "    <tr>\n",
       "      <th>text</th>\n",
       "      <td>0.00</td>\n",
       "    </tr>\n",
       "    <tr>\n",
       "      <th>target</th>\n",
       "      <td>0.00</td>\n",
       "    </tr>\n",
       "  </tbody>\n",
       "</table>\n",
       "</div>"
      ],
      "text/plain": [
       "          % missing values\n",
       "id                    0.00\n",
       "keyword               0.80\n",
       "location             33.27\n",
       "text                  0.00\n",
       "target                0.00"
      ]
     },
     "execution_count": 5,
     "metadata": {
      "tags": []
     },
     "output_type": "execute_result"
    }
   ],
   "source": [
    "missing = (data.isnull().sum()/len(data)*100).round(2)\n",
    "pd.DataFrame({'% missing values': missing})"
   ]
  },
  {
   "cell_type": "markdown",
   "metadata": {
    "colab_type": "text",
    "id": "6oM0WvLGswQd"
   },
   "source": [
    "### Remove unnecessary columns"
   ]
  },
  {
   "cell_type": "code",
   "execution_count": 0,
   "metadata": {
    "colab": {},
    "colab_type": "code",
    "id": "ERn7-y7ZswQf"
   },
   "outputs": [],
   "source": [
    "#I'm removing keyword and location \n",
    "data.drop(['id','keyword','location'], axis=1, inplace = True) "
   ]
  },
  {
   "cell_type": "markdown",
   "metadata": {
    "colab_type": "text",
    "id": "DZFu70mtswQi"
   },
   "source": [
    "Although 'keywords' doesnt have alot of missing values, I'm dropping it because I dont think I will need it as an additional input. Text alone should be fine. Maybe in the future I might consider including keywords"
   ]
  },
  {
   "cell_type": "markdown",
   "metadata": {
    "colab_type": "text",
    "id": "Xh0LDU9TswQj"
   },
   "source": [
    "### Total number of words in each tweet"
   ]
  },
  {
   "cell_type": "code",
   "execution_count": 7,
   "metadata": {
    "colab": {
     "base_uri": "https://localhost:8080/",
     "height": 241
    },
    "colab_type": "code",
    "id": "UUWFM2btswQk",
    "outputId": "23caa331-a27b-4281-8b75-81fee2d7a56b"
   },
   "outputs": [
    {
     "data": {
      "image/png": "[encoded data removed]",
      "text/plain": [
       "<Figure size 1080x216 with 2 Axes>"
      ]
     },
     "metadata": {
      "needs_background": "light",
      "tags": []
     },
     "output_type": "display_data"
    }
   ],
   "source": [
    "#find length of each tweet in disaster and non disaster\n",
    "data_len_0 = data[data['target']==0]['text'].str.split().map(lambda x: len(x))\n",
    "data_len_1 = data[data['target']==1]['text'].str.split().map(lambda x: len(x)) \n",
    "\n",
    "fig, axes = plt.subplots(1, 2, figsize=(15,3))\n",
    "\n",
    "sns.countplot(data_len_0, ax=axes[0], color='green')\n",
    "axes[0].set(xlabel='Number of words per tweet', ylabel='Number of tweets', title='Non-disaster tweets')\n",
    "\n",
    "sns.countplot(data_len_1, ax=axes[1], color='red')\n",
    "axes[1].set(xlabel='Number of words per tweet', ylabel='Number of tweets', title='Disaster tweets')\n",
    "\n",
    "plt.show()"
   ]
  },
  {
   "cell_type": "markdown",
   "metadata": {
    "colab_type": "text",
    "id": "HDRqDSC-swQt"
   },
   "source": [
    "The distribution looks similar between disaster and non-disaster tweets for number of words per tweet"
   ]
  },
  {
   "cell_type": "markdown",
   "metadata": {
    "colab_type": "text",
    "id": "VowQan7-swQu"
   },
   "source": [
    "### Create training and validation sets"
   ]
  },
  {
   "cell_type": "code",
   "execution_count": 0,
   "metadata": {
    "colab": {},
    "colab_type": "code",
    "id": "tGcTNAMfswQv"
   },
   "outputs": [],
   "source": [
    "# Create validation set, stratified based on target class distribution\n",
    "s = StratifiedShuffleSplit(test_size=0.1, random_state=42)\n",
    "\n",
    "for train_index, val_index in s.split(data, data[\"target\"]): \n",
    "    train = data.loc[train_index]\n",
    "    val = data.loc[val_index]\n",
    "    \n",
    "train.reset_index(inplace=True, drop=True) \n",
    "val.reset_index(inplace=True, drop=True) "
   ]
  },
  {
   "cell_type": "markdown",
   "metadata": {
    "colab_type": "text",
    "id": "weq5GgJIswQy"
   },
   "source": [
    "# Data Cleaning"
   ]
  },
  {
   "cell_type": "code",
   "execution_count": 0,
   "metadata": {
    "colab": {},
    "colab_type": "code",
    "id": "jIrYfdMrswQz"
   },
   "outputs": [],
   "source": [
    "def clean(text):\n",
    "    \n",
    "  #Lowercase the words\n",
    "  text = text.lower()\n",
    "\n",
    "  #Expand contractions\n",
    "  text = re.sub(r\"ain't\", \"am not\", text)\n",
    "  text = re.sub(r\"aren't\", \"are not\", text)\n",
    "  text = re.sub(r\"can't\", \"cannot\", text)\n",
    "  text = re.sub(r\"couldn't\", \"could not\", text)\n",
    "  text = re.sub(r\"could've\", \"could have\", text)\n",
    "  text = re.sub(r\"didn't\", \"did not\", text)\n",
    "  text = re.sub(r\"doesn't\", \"does not\", text)\n",
    "  text = re.sub(r\"don't\", \"do not\", text)\n",
    "  text = re.sub(r\"hasn't\", \"has not\", text)\n",
    "  text = re.sub(r\"haven't\", \"have not\", text)\n",
    "  text = re.sub(r\"he'll\", \"he will\", text)\n",
    "  text = re.sub(r\"here's\", \"here is\", text)\n",
    "  text = re.sub(r\"he's\", \"he is\", text)\n",
    "  text = re.sub(r\"i'd\", \"i would\", text)\n",
    "  text = re.sub(r\"i'll\", \"i will\", text)\n",
    "  text = re.sub(r\"i'm\", \"i am\", text)\n",
    "  text = re.sub(r\"isn't\", \"is not\", text)\n",
    "  text = re.sub(r\"it'll\", \"it will\", text)\n",
    "  text = re.sub(r\"it's\", \"it is\", text)\n",
    "  text = re.sub(r\"i've\", \"i have\", text)\n",
    "  text = re.sub(r\"let's\", \"let us\", text)\n",
    "  text = re.sub(r\"shouldn't\", \"should not\", text)\n",
    "  text = re.sub(r\"should've\", \"should have\", text)\n",
    "  text = re.sub(r\"that's\", \"that is\", text)\n",
    "  text = re.sub(r\"there's\", \"there is\", text)\n",
    "  text = re.sub(r\"they'd\", \"they would\", text)\n",
    "  text = re.sub(r\"they'll\", \"they will\", text)\n",
    "  text = re.sub(r\"they're\", \"they are\", text)\n",
    "  text = re.sub(r\"they've\", \"they have\", text)\n",
    "  text = re.sub(r\"wasn't\", \"was not\", text)\n",
    "  text = re.sub(r\"we'd\", \"we would\", text)\n",
    "  text = re.sub(r\"we'll\", \"we will\", text)\n",
    "  text = re.sub(r\"we're\", \"we are\", text)\n",
    "  text = re.sub(r\"weren't\", \"were not\", text)\n",
    "  text = re.sub(r\"we've\", \"we have\", text)\n",
    "  text = re.sub(r\"what's\", \"what is\", text)\n",
    "  text = re.sub(r\"where's\", \"where is\", text)\n",
    "  text = re.sub(r\"who's\", \"who is\", text)\n",
    "  text = re.sub(r\"won't\", \"will not\", text)\n",
    "  text = re.sub(r\"wouldn't\", \"would not\", text)\n",
    "  text = re.sub(r\"would've\", \"would have\", text)\n",
    "  text = re.sub(r\"y'all\", \"you all\", text)\n",
    "  text = re.sub(r\"you'd\", \"you would\", text)\n",
    "  text = re.sub(r\"you'll\", \"you will\", text)\n",
    "  text = re.sub(r\"you're\", \"you are\", text)\n",
    "  text = re.sub(r\"you've\", \"you have\", text)\n",
    "  \n",
    "  #Remove URL\n",
    "  pattern = re.compile('http[s]?://(?:[a-zA-Z]|[0-9]|[$-_@.&+]|[!*\\(\\),]|(?:%[0-9a-fA-F][0-9a-fA-F]))+') \n",
    "  text = pattern.sub('', text)    \n",
    "  \n",
    "  #Remove punctuations\n",
    "  table = str.maketrans('','',string.punctuation)\n",
    "  text = text.translate(table) \n",
    "\n",
    "  # #2nd round of cleaning after looking at the list of ~5000 OOV words (I cleaned up the most frequent special characters, abbreviations, slang, typos)\n",
    "  text = re.sub(r\"mh370\", \"malaysian airlines flight 370\", text)\n",
    "  text = re.sub(r\"x89û_\", \"\", text)\n",
    "  text = re.sub(r\"'the\", \"the\", text)\n",
    "  text = re.sub(r\"16yr\", \"16 year\", text)\n",
    "  text = re.sub(r\"'we\", \"we\", text)\n",
    "  text = re.sub(r\"re\\x89û_\", \"\", text)\n",
    "  text = re.sub(r\"prebreak\", \"pre break\", text)\n",
    "  text = re.sub(r\"typhoon-devastated\", \"typhoon devastated\", text)\n",
    "  text = re.sub(r\"'i\", \"i\", text)\n",
    "  text = re.sub(r\"w/\", \"with\", text)\n",
    "  text = re.sub(r\"bestnaijamade\", \"best naija made\", text)\n",
    "  text = re.sub(r\"nowplaying\", \"now playing\", text)\n",
    "  text = re.sub(r\"'conclusively\", \"conclusively\", text)\n",
    "  text = re.sub(r\"\\x89ûó\", \"\", text)     \n",
    "  text = re.sub(r\"\\x89ûï\", \"\", text)  \n",
    "  text = re.sub(r\"disea\", \"disease\", text)  \n",
    "  text = re.sub(r\"'it\", \"it\", text)  \n",
    "  text = re.sub(r\"gbbo\", \"great british bake off\", text)  \n",
    "  text = re.sub(r\"funtenna\", \"software hack\", text)  \n",
    "  text = re.sub(r\"lmao\", \"laughing my ass off\", text)  \n",
    "  text = re.sub(r\"subreddits\", \"forum\", text)  \n",
    "  text = re.sub(r\"m.o.p\", \"billy danze\", text)  \n",
    "  text = re.sub(r\"utc2015-08-05\", \"5 august 2015\", text)  \n",
    "  text = re.sub(r\"don\\x89ûªt\", \"do not\", text)  \n",
    "  text = re.sub(r\"\\x89ûïwhen\", \"when\", text)  \n",
    "  text = re.sub(r\"'food\", \"food\", text)  \n",
    "  text = re.sub(r\"arianagrande\", \"ariana grander\", text)  \n",
    "  text = re.sub(r\"yyc\", \"calgary international airport\", text)  \n",
    "  text = re.sub(r\"sensor-senso\", \"sensor\", text)  \n",
    "  text = re.sub(r\"directioners\", \"fans of one direction band\", text)\n",
    "  text = re.sub(r\"sismo\", \"seismic\", text)    \n",
    "  text = re.sub(r\"\\x89û\\x9d\", \"\", text)    \n",
    "  text = re.sub(r\"time2015-08-06\", \"time 6 august 2015\", text)    \n",
    "  text = re.sub(r\"abstorm\", \"alberta storm\", text)    \n",
    "  text = re.sub(r\"justinbieber\", \"justin bieber\", text)    \n",
    "  text = re.sub(r\"irandeal\", \"iran deal\", text)    \n",
    "  text = re.sub(r\"worldnews\", \"world news\", text)    \n",
    "  text = re.sub(r\"mediterran\", \"mediterranean sea\", text)    \n",
    "  text = re.sub(r\"it\\x89ûªs\", \"it is\", text)    \n",
    "  text = re.sub(r\"'avoiding\", \"avoiding\", text)    \n",
    "  text = re.sub(r\"trfc\", \"traffic\", text) #removed asterisks before trfc\n",
    "  text = re.sub(r\"tcot\", \"top conservatives on twitter\", text)    \n",
    "  text = re.sub(r\"okwx\", \"oklahoma weather\", text)    \n",
    "  text = re.sub(r\"you\\x89ûªve\", \"you have\", text)    \n",
    "  text = re.sub(r\"53inch\", \"53 inch\", text)    \n",
    "  text = re.sub(r\"300w\", \"300 watts\", text)    \n",
    "  text = re.sub(r\"icemoon\", \"dj ice moon music\", text)    \n",
    "  text = re.sub(r\"djicemoon\", \"dj ice moon music\", text)    \n",
    "  text = re.sub(r\"trapmusic\", \"trap music\", text)    \n",
    "  text = re.sub(r\"ices\\x89û_\", \"ice\", text)    \n",
    "  text = re.sub(r\"åê\", \"\", text)    \n",
    "  text = re.sub(r\"o784\", \"\", text)    \n",
    "  text = re.sub(r\"spos\", \"\", text)    \n",
    "  text = re.sub(r\"'save\", \"save\", text)    \n",
    "  text = re.sub(r\"beyhive\", \"beyonce singer fan\", text)    \n",
    "  text = re.sub(r\"mhtw4fnet\", \"\", text)    \n",
    "  text = re.sub(r\"stand-user\", \"stand user\", text)    \n",
    "  text = re.sub(r\"meat-loving\", \"meat loving\", text)    \n",
    "  text = re.sub(r\"freakiest\", \"freakiest\", text)    \n",
    "  text = re.sub(r\"i\\x89ûªm\", \"i am\", text)\n",
    "  text = re.sub(r\"\\x89û\", \"\", text)\n",
    "  text = re.sub(r\"\\x89ûò\", \"\", text)\n",
    "  text = re.sub(r\"re\\x89û\", \"\", text)\n",
    "  text = re.sub(r\"typhoondevastated\", \"typhoon devastated\", text)\n",
    "  text = re.sub(r\"11yearold\", \"11 year old\", text)\n",
    "  text = re.sub(r\"diseasese\", \"disease\", text)\n",
    "  text = re.sub(r\"utc20150805\", \"5 august 2015\", text)\n",
    "  text = re.sub(r\"gtgt\", \"\", text)\n",
    "  text = re.sub(r\"time20150806\", \"6 august 2015\", text)\n",
    "  text = re.sub(r\"selfimage\", \"self image\", text)\n",
    "  text = re.sub(r\"china\\x89ûªs\", \"chinas\", text)\n",
    "  text = re.sub(r\"ices\\x89û\", \"ices\", text)\n",
    "  text = re.sub(r\"read\\x89û\", \"read\", text)\n",
    "  text = re.sub(r\"america\\x89ûªs\", \"america\", text)\n",
    "\n",
    "  # Fixing ... and ..\n",
    "  text = text.replace('...', ' ... ')\n",
    "  if '...' not in text:\n",
    "    text = text.replace('..', ' ... ')   \n",
    "  \n",
    "  return text"
   ]
  },
  {
   "cell_type": "code",
   "execution_count": 10,
   "metadata": {
    "colab": {
     "base_uri": "https://localhost:8080/",
     "height": 35
    },
    "colab_type": "code",
    "id": "BZKJSAo9Rnz9",
    "outputId": "7b7d93b7-1779-4585-b3a8-1d514e49f94e"
   },
   "outputs": [
    {
     "data": {
      "text/plain": [
       "'check if punctuations such as      url such as  are removed'"
      ]
     },
     "execution_count": 10,
     "metadata": {
      "tags": []
     },
     "output_type": "execute_result"
    }
   ],
   "source": [
    "sample_sentence = \"Check if punctuations such as !@#$%^&*()_+=-[];'\\|~`./,{}:?>< . .. ... & URL such as https://www.kaggle.com/c/nlp-getting-started are removed\"\n",
    "clean(sample_sentence)"
   ]
  },
  {
   "cell_type": "markdown",
   "metadata": {
    "colab_type": "text",
    "id": "IEFnK0cmswQ2"
   },
   "source": [
    "### Clean training set"
   ]
  },
  {
   "cell_type": "code",
   "execution_count": 0,
   "metadata": {
    "colab": {},
    "colab_type": "code",
    "id": "gD3K4jhUswQ3"
   },
   "outputs": [],
   "source": [
    "train_clean = train.copy()\n",
    "train_clean['text'] = train_clean['text'].apply(lambda series : clean(series))"
   ]
  },
  {
   "cell_type": "markdown",
   "metadata": {
    "colab_type": "text",
    "id": "TWQdJL_pswRJ"
   },
   "source": [
    "# Data Preprocessing"
   ]
  },
  {
   "cell_type": "markdown",
   "metadata": {
    "colab_type": "text",
    "id": "UBB-IkvGswRJ"
   },
   "source": [
    "### Prepare corpus for training set "
   ]
  },
  {
   "cell_type": "code",
   "execution_count": 0,
   "metadata": {
    "colab": {},
    "colab_type": "code",
    "id": "NlruAO2RswRK"
   },
   "outputs": [],
   "source": [
    "stopNLTK = set(stopwords.words('english')) # stop words from NLTK\n",
    "stopWORDCLOUD = set(STOPWORDS) # stopwords from WORDCLOUD\n",
    "stop_words = stopNLTK | stopWORDCLOUD # combine all of the unique stopwords from NLTK and WORDCLOUD\n",
    "\n",
    "# create a corpus without stop words and non-alphabet-words\n",
    "def create_corpus(df):\n",
    "    corpus = []\n",
    "    for sentence in df['text']:\n",
    "        #words=[word.lower() for word in word_tokenize(sentence) if (word not in stop_words)] #word_tokenize splits a sentence into individual words\n",
    "        words=[word.lower() for word in word_tokenize(sentence) if ((word.isalpha()==1) & (word not in stop_words))] #word_tokenize splits a sentence into individual words\n",
    "        corpus.append(words)\n",
    "    return corpus # returns a list"
   ]
  },
  {
   "cell_type": "code",
   "execution_count": 0,
   "metadata": {
    "colab": {},
    "colab_type": "code",
    "id": "NoMct-U-swRO"
   },
   "outputs": [],
   "source": [
    "train_corpus = create_corpus(train_clean) # prepared a cleaned corpus, which will be tokenized and padded"
   ]
  },
  {
   "cell_type": "markdown",
   "metadata": {
    "colab_type": "text",
    "id": "rg6RllCiswRS"
   },
   "source": [
    "### Tokenize and pad training set"
   ]
  },
  {
   "cell_type": "code",
   "execution_count": 0,
   "metadata": {
    "colab": {},
    "colab_type": "code",
    "id": "SqoLT83tswRT"
   },
   "outputs": [],
   "source": [
    "tokenizer = Tokenizer()\n",
    "tokenizer.fit_on_texts(train_corpus) # tokenize (split the corpus into individual words) and assign an index based on word frequency\n",
    "\n",
    "train_sequences = tokenizer.texts_to_sequences(train_corpus) # converts each word in each tweet into numbers\n",
    "seq_len = 32\n",
    "train_padded = pad_sequences(train_sequences, maxlen = seq_len, truncating='post', padding='post') #makes each sentence the same length by padding, or truncating at the end of the sentence"
   ]
  },
  {
   "cell_type": "markdown",
   "metadata": {
    "colab_type": "text",
    "id": "xBW9vnGQswRW"
   },
   "source": [
    "### Create embedding dictionary from pre-trained GloVe model"
   ]
  },
  {
   "cell_type": "code",
   "execution_count": 0,
   "metadata": {
    "colab": {},
    "colab_type": "code",
    "id": "mugH5qRqswRW"
   },
   "outputs": [],
   "source": [
    "# This cell creates the embedding DICT which reads from the glove file that contains 400k unique words and its corresponding vectors \n",
    "# When the embedding MATRIX is created later, this dictionary will be referred to get the vectors for the words \n",
    "\n",
    "embedding_dict = {}\n",
    "word_list = []\n",
    "\n",
    "with open('/content/drive/My Drive/Colab Notebooks/glove_6B_100d.txt','r', encoding = \"utf-8\") as g: \n",
    "    for line in g: # each 'line' is a string which contains a WORD and its corresponding VECTOR (which contains 100 numbers, because 100 dimensions)\n",
    "        values = line.split() # .split() will split a 'line' string into a list, in which the first item is the WORD, the next 100 items are the 100 numbers\n",
    "        word = values[0] # get the WORD\n",
    "        word_list.append(word)\n",
    "        vector = np.asarray(values[1:], dtype = 'float32') # get the VECTOR\n",
    "        embedding_dict[word] = vector # in this dictionary, the key is the WORD, the value is the corresponding VECTOR, \n",
    "        # thus, that line will create a key (i.e. word) and a value (i.e. vector) in each for loop iteration \n",
    "        # and it keeps appending automatically, and in the end there will be a complete dictionary\n",
    "\n",
    "g.close()\n",
    "embedding_dim = 100"
   ]
  },
  {
   "cell_type": "markdown",
   "metadata": {
    "colab_type": "text",
    "id": "KptsgToOswRY"
   },
   "source": [
    "### Create embedding matrix from the embedding dict"
   ]
  },
  {
   "cell_type": "code",
   "execution_count": 17,
   "metadata": {
    "colab": {
     "base_uri": "https://localhost:8080/",
     "height": 35
    },
    "colab_type": "code",
    "id": "cEs18rSsswRZ",
    "outputId": "42f646c1-b4f2-4adc-9993-0d56d61d1755"
   },
   "outputs": [
    {
     "name": "stdout",
     "output_type": "stream",
     "text": [
      "There are 15181 unique words (including OOV) in the training corpus\n"
     ]
    }
   ],
   "source": [
    "word_index = tokenizer.word_index # returns a dictionary of unique words and its index, which is based on the word's frequency\n",
    "vocab_size = len(word_index) + 1 # plus one for OOV (out-of-vocab) words \n",
    "print (f\"There are {vocab_size} unique words (including OOV) in the training corpus\")"
   ]
  },
  {
   "cell_type": "code",
   "execution_count": 0,
   "metadata": {
    "colab": {},
    "colab_type": "code",
    "id": "Nm_GIAoqswRb"
   },
   "outputs": [],
   "source": [
    "embedding_matrix = np.zeros((vocab_size, embedding_dim)) \n",
    "# word_index dict's index starts at 1. So by writing +1, the index matches. Row 0 in embedding matrix doesnt represent any word\n",
    "\n",
    "for word,idx in word_index.items(): #.items() returns the dict's key-value pairs (key = 'word', value = its 'idx')\n",
    "    emb_vec = embedding_dict.get(word, 0) #get the value (ie vector) of key (ie word) from GloVe dict. If no such word exist, it returns 0\n",
    "    embedding_matrix[idx] = emb_vec # each row is a word, each column is a dimension"
   ]
  },
  {
   "cell_type": "markdown",
   "metadata": {
    "colab_type": "text",
    "id": "9SSISj55Qzpz"
   },
   "source": [
    "### Check OOV and do additional cleaning and rerun preprocessing "
   ]
  },
  {
   "cell_type": "code",
   "execution_count": 19,
   "metadata": {
    "colab": {
     "base_uri": "https://localhost:8080/",
     "height": 35
    },
    "colab_type": "code",
    "id": "rwrOzbFgRmLm",
    "outputId": "72330487-c7f1-4e12-9e6e-a37f7911b99a"
   },
   "outputs": [
    {
     "name": "stdout",
     "output_type": "stream",
     "text": [
      "There are 4091 OOV words \n"
     ]
    }
   ],
   "source": [
    "oov_idx = np.where(~embedding_matrix.any(axis=1))[0] # indices of OOV words\n",
    "print(f\"There are {len(oov_idx)} OOV words \")"
   ]
  },
  {
   "cell_type": "code",
   "execution_count": 0,
   "metadata": {
    "colab": {},
    "colab_type": "code",
    "id": "T5VZU2z_WiyT"
   },
   "outputs": [],
   "source": [
    "oov_list = []\n",
    "\n",
    "for i in oov_idx:\n",
    "  for key, value in word_index.items():\n",
    "      if i == value:\n",
    "          oov_list.append(key) #append the oov word"
   ]
  },
  {
   "cell_type": "code",
   "execution_count": null,
   "metadata": {
    "colab": {
     "base_uri": "https://localhost:8080/",
     "height": 55
    },
    "colab_type": "code",
    "id": "Q6aeMNjlQyUr",
    "outputId": "fd07341d-74c6-4126-95fe-2446efbcf7df",
    "scrolled": false
   },
   "outputs": [],
   "source": [
    "print(oov_list) # prints the oov words starting with the most frequent word in the training corpus. "
   ]
  },
  {
   "cell_type": "markdown",
   "metadata": {
    "colab_type": "text",
    "id": "YmGjjhspswRd"
   },
   "source": [
    "### Validation set - clean, prepare corpus, tokenize, and pad"
   ]
  },
  {
   "cell_type": "code",
   "execution_count": 0,
   "metadata": {
    "colab": {},
    "colab_type": "code",
    "id": "Z_matkgUswRd"
   },
   "outputs": [],
   "source": [
    "def full_transform(df): # will be applied to both validation set and submission set later\n",
    "    df['text'] = df['text'].apply(lambda c : clean(c))\n",
    "\n",
    "    df_corpus = create_corpus(df) # prepared the complete text containing proper words, which will then be tokenized and padded\n",
    "\n",
    "    df_sequences = tokenizer.texts_to_sequences(df_corpus)\n",
    "    df_padded = pad_sequences(df_sequences, maxlen = seq_len, truncating='post', padding='post')\n",
    "    \n",
    "    return df_padded"
   ]
  },
  {
   "cell_type": "code",
   "execution_count": 0,
   "metadata": {
    "colab": {},
    "colab_type": "code",
    "id": "rmnmjccZswRg"
   },
   "outputs": [],
   "source": [
    "val_padded = full_transform(val)"
   ]
  },
  {
   "cell_type": "markdown",
   "metadata": {
    "colab_type": "text",
    "id": "oC8FH6mKswRj"
   },
   "source": [
    "# Create Model"
   ]
  },
  {
   "cell_type": "code",
   "execution_count": 0,
   "metadata": {
    "colab": {},
    "colab_type": "code",
    "id": "w5D8XbSGswRk"
   },
   "outputs": [],
   "source": [
    "X_train = np.array(train_padded)\n",
    "y_train = np.array(train['target'])\n",
    "X_val = np.array(val_padded)\n",
    "y_val = np.array(val['target'])"
   ]
  },
  {
   "cell_type": "code",
   "execution_count": 25,
   "metadata": {
    "colab": {
     "base_uri": "https://localhost:8080/",
     "height": 87
    },
    "colab_type": "code",
    "id": "6IvJxI6aswRn",
    "outputId": "1f352dfd-3eaf-4de6-a73f-ef9bac0a6050"
   },
   "outputs": [
    {
     "name": "stdout",
     "output_type": "stream",
     "text": [
      "Shape of X_train: (6851, 32)\n",
      "Shape of X_val: (762, 32)\n",
      "Shape of y_train: (6851,)\n",
      "Shape of y_val: (762,)\n"
     ]
    }
   ],
   "source": [
    "print('Shape of X_train:', X_train.shape)\n",
    "print('Shape of X_val:', X_val.shape)\n",
    "print('Shape of y_train:', y_train.shape)\n",
    "print('Shape of y_val:', y_val.shape)"
   ]
  },
  {
   "cell_type": "markdown",
   "metadata": {
    "colab_type": "text",
    "id": "u-n0VA2_kQwz"
   },
   "source": [
    "### Train the model"
   ]
  },
  {
   "cell_type": "code",
   "execution_count": 71,
   "metadata": {
    "colab": {
     "base_uri": "https://localhost:8080/",
     "height": 1000
    },
    "colab_type": "code",
    "id": "_i7xbYByswR1",
    "outputId": "7398271e-8d07-43a8-b58d-062f85a12710"
   },
   "outputs": [
    {
     "name": "stdout",
     "output_type": "stream",
     "text": [
      "Model: \"sequential_5\"\n",
      "_________________________________________________________________\n",
      "Layer (type)                 Output Shape              Param #   \n",
      "=================================================================\n",
      "embedding_5 (Embedding)      (None, 32, 100)           1518100   \n",
      "_________________________________________________________________\n",
      "bidirectional_10 (Bidirectio (None, 32, 256)           176640    \n",
      "_________________________________________________________________\n",
      "bidirectional_11 (Bidirectio (None, 128)               123648    \n",
      "_________________________________________________________________\n",
      "dense_5 (Dense)              (None, 1)                 129       \n",
      "=================================================================\n",
      "Total params: 1,818,517\n",
      "Trainable params: 300,417\n",
      "Non-trainable params: 1,518,100\n",
      "_________________________________________________________________\n",
      "Epoch 1/100\n",
      "54/54 - 4s - loss: 0.7357 - accuracy: 0.5113 - val_loss: 0.7257 - val_accuracy: 0.5564 - lr: 1.0000e-05\n",
      "Epoch 2/100\n",
      "54/54 - 2s - loss: 0.7211 - accuracy: 0.6004 - val_loss: 0.7109 - val_accuracy: 0.6509 - lr: 1.0000e-05\n",
      "Epoch 3/100\n",
      "54/54 - 2s - loss: 0.7073 - accuracy: 0.6600 - val_loss: 0.6984 - val_accuracy: 0.6903 - lr: 1.0000e-05\n",
      "Epoch 4/100\n",
      "54/54 - 2s - loss: 0.6956 - accuracy: 0.6764 - val_loss: 0.6866 - val_accuracy: 0.6995 - lr: 1.0000e-05\n",
      "Epoch 5/100\n",
      "54/54 - 2s - loss: 0.6825 - accuracy: 0.7008 - val_loss: 0.6752 - val_accuracy: 0.6982 - lr: 1.0000e-05\n",
      "Epoch 6/100\n",
      "54/54 - 2s - loss: 0.6713 - accuracy: 0.7119 - val_loss: 0.6636 - val_accuracy: 0.7126 - lr: 1.0000e-05\n",
      "Epoch 7/100\n",
      "54/54 - 2s - loss: 0.6587 - accuracy: 0.7270 - val_loss: 0.6522 - val_accuracy: 0.7165 - lr: 1.0000e-05\n",
      "Epoch 8/100\n",
      "54/54 - 2s - loss: 0.6461 - accuracy: 0.7338 - val_loss: 0.6408 - val_accuracy: 0.7231 - lr: 1.0000e-05\n",
      "Epoch 9/100\n",
      "54/54 - 2s - loss: 0.6346 - accuracy: 0.7406 - val_loss: 0.6292 - val_accuracy: 0.7349 - lr: 1.0000e-05\n",
      "Epoch 10/100\n",
      "54/54 - 2s - loss: 0.6203 - accuracy: 0.7538 - val_loss: 0.6179 - val_accuracy: 0.7349 - lr: 1.0000e-05\n",
      "Epoch 11/100\n",
      "54/54 - 2s - loss: 0.6082 - accuracy: 0.7543 - val_loss: 0.6067 - val_accuracy: 0.7375 - lr: 1.0000e-05\n",
      "Epoch 12/100\n",
      "54/54 - 2s - loss: 0.5948 - accuracy: 0.7621 - val_loss: 0.5959 - val_accuracy: 0.7454 - lr: 1.0000e-05\n",
      "Epoch 13/100\n",
      "54/54 - 2s - loss: 0.5816 - accuracy: 0.7703 - val_loss: 0.5856 - val_accuracy: 0.7572 - lr: 1.0000e-05\n",
      "Epoch 14/100\n",
      "54/54 - 2s - loss: 0.5706 - accuracy: 0.7719 - val_loss: 0.5762 - val_accuracy: 0.7598 - lr: 1.0000e-05\n",
      "Epoch 15/100\n",
      "54/54 - 2s - loss: 0.5588 - accuracy: 0.7764 - val_loss: 0.5675 - val_accuracy: 0.7638 - lr: 1.0000e-05\n",
      "Epoch 16/100\n",
      "54/54 - 2s - loss: 0.5489 - accuracy: 0.7783 - val_loss: 0.5596 - val_accuracy: 0.7638 - lr: 1.0000e-05\n",
      "Epoch 17/100\n",
      "54/54 - 2s - loss: 0.5380 - accuracy: 0.7793 - val_loss: 0.5528 - val_accuracy: 0.7638 - lr: 1.0000e-05\n",
      "Epoch 18/100\n",
      "54/54 - 2s - loss: 0.5302 - accuracy: 0.7831 - val_loss: 0.5470 - val_accuracy: 0.7651 - lr: 1.0000e-05\n",
      "Epoch 19/100\n",
      "54/54 - 2s - loss: 0.5215 - accuracy: 0.7824 - val_loss: 0.5420 - val_accuracy: 0.7677 - lr: 1.0000e-05\n",
      "Epoch 20/100\n",
      "54/54 - 2s - loss: 0.5149 - accuracy: 0.7866 - val_loss: 0.5377 - val_accuracy: 0.7690 - lr: 1.0000e-05\n",
      "Epoch 21/100\n",
      "54/54 - 2s - loss: 0.5099 - accuracy: 0.7869 - val_loss: 0.5342 - val_accuracy: 0.7730 - lr: 1.0000e-05\n",
      "Epoch 22/100\n",
      "54/54 - 2s - loss: 0.5035 - accuracy: 0.7921 - val_loss: 0.5311 - val_accuracy: 0.7730 - lr: 1.0000e-05\n",
      "Epoch 23/100\n",
      "54/54 - 2s - loss: 0.4995 - accuracy: 0.7946 - val_loss: 0.5284 - val_accuracy: 0.7756 - lr: 1.0000e-05\n",
      "Epoch 24/100\n",
      "54/54 - 2s - loss: 0.4966 - accuracy: 0.7942 - val_loss: 0.5262 - val_accuracy: 0.7808 - lr: 1.0000e-05\n",
      "Epoch 25/100\n",
      "54/54 - 2s - loss: 0.4912 - accuracy: 0.7952 - val_loss: 0.5241 - val_accuracy: 0.7835 - lr: 1.0000e-05\n",
      "Epoch 26/100\n",
      "54/54 - 2s - loss: 0.4898 - accuracy: 0.7994 - val_loss: 0.5223 - val_accuracy: 0.7835 - lr: 1.0000e-05\n",
      "Epoch 27/100\n",
      "54/54 - 2s - loss: 0.4877 - accuracy: 0.7959 - val_loss: 0.5207 - val_accuracy: 0.7874 - lr: 1.0000e-05\n",
      "Epoch 28/100\n",
      "54/54 - 2s - loss: 0.4854 - accuracy: 0.7971 - val_loss: 0.5193 - val_accuracy: 0.7848 - lr: 1.0000e-05\n",
      "Epoch 29/100\n",
      "54/54 - 2s - loss: 0.4821 - accuracy: 0.7994 - val_loss: 0.5178 - val_accuracy: 0.7861 - lr: 1.0000e-05\n",
      "Epoch 30/100\n",
      "54/54 - 2s - loss: 0.4803 - accuracy: 0.8009 - val_loss: 0.5167 - val_accuracy: 0.7887 - lr: 1.0000e-05\n",
      "Epoch 31/100\n",
      "54/54 - 2s - loss: 0.4823 - accuracy: 0.8022 - val_loss: 0.5156 - val_accuracy: 0.7861 - lr: 1.0000e-05\n",
      "Epoch 32/100\n",
      "54/54 - 2s - loss: 0.4779 - accuracy: 0.8015 - val_loss: 0.5141 - val_accuracy: 0.7900 - lr: 1.0000e-05\n",
      "Epoch 33/100\n",
      "54/54 - 2s - loss: 0.4762 - accuracy: 0.8037 - val_loss: 0.5133 - val_accuracy: 0.7874 - lr: 1.0000e-05\n",
      "Epoch 34/100\n",
      "54/54 - 2s - loss: 0.4751 - accuracy: 0.8073 - val_loss: 0.5122 - val_accuracy: 0.7900 - lr: 1.0000e-05\n",
      "Epoch 35/100\n",
      "54/54 - 2s - loss: 0.4744 - accuracy: 0.8016 - val_loss: 0.5113 - val_accuracy: 0.7900 - lr: 1.0000e-05\n",
      "Epoch 36/100\n",
      "54/54 - 2s - loss: 0.4727 - accuracy: 0.8038 - val_loss: 0.5102 - val_accuracy: 0.7913 - lr: 1.0000e-05\n",
      "Epoch 37/100\n",
      "54/54 - 2s - loss: 0.4729 - accuracy: 0.8051 - val_loss: 0.5093 - val_accuracy: 0.7913 - lr: 1.0000e-05\n",
      "Epoch 38/100\n",
      "54/54 - 2s - loss: 0.4709 - accuracy: 0.8065 - val_loss: 0.5085 - val_accuracy: 0.7913 - lr: 1.0000e-05\n",
      "Epoch 39/100\n",
      "54/54 - 2s - loss: 0.4700 - accuracy: 0.8083 - val_loss: 0.5077 - val_accuracy: 0.7927 - lr: 1.0000e-05\n",
      "Epoch 40/100\n",
      "54/54 - 2s - loss: 0.4676 - accuracy: 0.8067 - val_loss: 0.5070 - val_accuracy: 0.7940 - lr: 1.0000e-05\n",
      "Epoch 41/100\n",
      "54/54 - 2s - loss: 0.4676 - accuracy: 0.8067 - val_loss: 0.5060 - val_accuracy: 0.7979 - lr: 1.0000e-05\n",
      "Epoch 42/100\n",
      "54/54 - 2s - loss: 0.4665 - accuracy: 0.8076 - val_loss: 0.5051 - val_accuracy: 0.7900 - lr: 1.0000e-05\n",
      "Epoch 43/100\n",
      "54/54 - 2s - loss: 0.4675 - accuracy: 0.8105 - val_loss: 0.5044 - val_accuracy: 0.7966 - lr: 1.0000e-05\n",
      "Epoch 44/100\n",
      "54/54 - 2s - loss: 0.4664 - accuracy: 0.8100 - val_loss: 0.5037 - val_accuracy: 0.7979 - lr: 1.0000e-05\n",
      "Epoch 45/100\n",
      "54/54 - 2s - loss: 0.4650 - accuracy: 0.8089 - val_loss: 0.5028 - val_accuracy: 0.7966 - lr: 1.0000e-05\n",
      "Epoch 46/100\n",
      "54/54 - 2s - loss: 0.4642 - accuracy: 0.8094 - val_loss: 0.5025 - val_accuracy: 0.7979 - lr: 1.0000e-05\n",
      "Epoch 47/100\n",
      "54/54 - 2s - loss: 0.4643 - accuracy: 0.8075 - val_loss: 0.5015 - val_accuracy: 0.7992 - lr: 1.0000e-05\n",
      "Epoch 48/100\n",
      "54/54 - 2s - loss: 0.4622 - accuracy: 0.8082 - val_loss: 0.5010 - val_accuracy: 0.7992 - lr: 1.0000e-05\n",
      "Epoch 49/100\n",
      "54/54 - 2s - loss: 0.4618 - accuracy: 0.8095 - val_loss: 0.5003 - val_accuracy: 0.7966 - lr: 1.0000e-05\n",
      "Epoch 50/100\n",
      "54/54 - 2s - loss: 0.4628 - accuracy: 0.8083 - val_loss: 0.4998 - val_accuracy: 0.7979 - lr: 1.0000e-05\n",
      "Epoch 51/100\n",
      "54/54 - 2s - loss: 0.4608 - accuracy: 0.8091 - val_loss: 0.4994 - val_accuracy: 0.7979 - lr: 1.0000e-05\n",
      "Epoch 52/100\n",
      "54/54 - 2s - loss: 0.4587 - accuracy: 0.8095 - val_loss: 0.4987 - val_accuracy: 0.7966 - lr: 1.0000e-05\n",
      "Epoch 53/100\n",
      "54/54 - 2s - loss: 0.4577 - accuracy: 0.8123 - val_loss: 0.4985 - val_accuracy: 0.7966 - lr: 1.0000e-05\n",
      "Epoch 54/100\n",
      "54/54 - 2s - loss: 0.4588 - accuracy: 0.8104 - val_loss: 0.4978 - val_accuracy: 0.7979 - lr: 1.0000e-05\n",
      "Epoch 55/100\n",
      "54/54 - 2s - loss: 0.4585 - accuracy: 0.8114 - val_loss: 0.4972 - val_accuracy: 0.7953 - lr: 1.0000e-05\n",
      "Epoch 56/100\n",
      "54/54 - 2s - loss: 0.4581 - accuracy: 0.8124 - val_loss: 0.4968 - val_accuracy: 0.7966 - lr: 1.0000e-05\n",
      "Epoch 57/100\n",
      "54/54 - 2s - loss: 0.4580 - accuracy: 0.8127 - val_loss: 0.4967 - val_accuracy: 0.7966 - lr: 1.0000e-05\n",
      "Epoch 58/100\n",
      "54/54 - 2s - loss: 0.4569 - accuracy: 0.8121 - val_loss: 0.4960 - val_accuracy: 0.7979 - lr: 1.0000e-05\n",
      "Epoch 59/100\n",
      "54/54 - 2s - loss: 0.4543 - accuracy: 0.8121 - val_loss: 0.4956 - val_accuracy: 0.7979 - lr: 1.0000e-05\n",
      "Epoch 60/100\n",
      "54/54 - 2s - loss: 0.4536 - accuracy: 0.8127 - val_loss: 0.4953 - val_accuracy: 0.7966 - lr: 1.0000e-05\n",
      "Epoch 61/100\n",
      "54/54 - 2s - loss: 0.4566 - accuracy: 0.8094 - val_loss: 0.4945 - val_accuracy: 0.7979 - lr: 1.0000e-05\n",
      "Epoch 62/100\n",
      "54/54 - 2s - loss: 0.4559 - accuracy: 0.8117 - val_loss: 0.4942 - val_accuracy: 0.7979 - lr: 1.0000e-05\n",
      "Epoch 63/100\n",
      "54/54 - 2s - loss: 0.4571 - accuracy: 0.8119 - val_loss: 0.4937 - val_accuracy: 0.7953 - lr: 1.0000e-05\n",
      "Epoch 64/100\n",
      "54/54 - 2s - loss: 0.4543 - accuracy: 0.8104 - val_loss: 0.4936 - val_accuracy: 0.7953 - lr: 1.0000e-05\n",
      "Epoch 65/100\n",
      "54/54 - 2s - loss: 0.4540 - accuracy: 0.8083 - val_loss: 0.4929 - val_accuracy: 0.7979 - lr: 1.0000e-05\n",
      "Epoch 66/100\n",
      "54/54 - 2s - loss: 0.4524 - accuracy: 0.8102 - val_loss: 0.4925 - val_accuracy: 0.7966 - lr: 1.0000e-05\n",
      "Epoch 67/100\n",
      "54/54 - 2s - loss: 0.4533 - accuracy: 0.8136 - val_loss: 0.4922 - val_accuracy: 0.7979 - lr: 1.0000e-05\n",
      "Epoch 68/100\n",
      "54/54 - 2s - loss: 0.4508 - accuracy: 0.8140 - val_loss: 0.4920 - val_accuracy: 0.7979 - lr: 1.0000e-05\n",
      "Epoch 69/100\n",
      "54/54 - 2s - loss: 0.4490 - accuracy: 0.8137 - val_loss: 0.4915 - val_accuracy: 0.7979 - lr: 1.0000e-05\n",
      "Epoch 70/100\n",
      "54/54 - 2s - loss: 0.4511 - accuracy: 0.8123 - val_loss: 0.4915 - val_accuracy: 0.7966 - lr: 1.0000e-05\n",
      "Epoch 71/100\n",
      "54/54 - 2s - loss: 0.4502 - accuracy: 0.8180 - val_loss: 0.4911 - val_accuracy: 0.7979 - lr: 1.0000e-05\n",
      "Epoch 72/100\n",
      "54/54 - 2s - loss: 0.4497 - accuracy: 0.8142 - val_loss: 0.4908 - val_accuracy: 0.7979 - lr: 1.0000e-05\n",
      "Epoch 73/100\n",
      "54/54 - 2s - loss: 0.4520 - accuracy: 0.8152 - val_loss: 0.4903 - val_accuracy: 0.7979 - lr: 1.0000e-05\n",
      "Epoch 74/100\n",
      "54/54 - 2s - loss: 0.4493 - accuracy: 0.8137 - val_loss: 0.4901 - val_accuracy: 0.7966 - lr: 1.0000e-05\n",
      "Epoch 75/100\n",
      "54/54 - 2s - loss: 0.4502 - accuracy: 0.8130 - val_loss: 0.4899 - val_accuracy: 0.7966 - lr: 1.0000e-05\n",
      "Epoch 76/100\n",
      "54/54 - 2s - loss: 0.4482 - accuracy: 0.8140 - val_loss: 0.4893 - val_accuracy: 0.7979 - lr: 1.0000e-05\n",
      "Epoch 77/100\n",
      "54/54 - 2s - loss: 0.4475 - accuracy: 0.8152 - val_loss: 0.4892 - val_accuracy: 0.7966 - lr: 1.0000e-05\n",
      "Epoch 78/100\n",
      "54/54 - 2s - loss: 0.4467 - accuracy: 0.8154 - val_loss: 0.4891 - val_accuracy: 0.7953 - lr: 1.0000e-05\n",
      "Epoch 79/100\n",
      "54/54 - 2s - loss: 0.4467 - accuracy: 0.8156 - val_loss: 0.4890 - val_accuracy: 0.7940 - lr: 1.0000e-05\n",
      "Epoch 80/100\n",
      "54/54 - 2s - loss: 0.4466 - accuracy: 0.8168 - val_loss: 0.4887 - val_accuracy: 0.7953 - lr: 1.0000e-05\n",
      "Epoch 81/100\n",
      "54/54 - 2s - loss: 0.4493 - accuracy: 0.8140 - val_loss: 0.4883 - val_accuracy: 0.7966 - lr: 1.0000e-05\n",
      "Epoch 82/100\n",
      "54/54 - 2s - loss: 0.4454 - accuracy: 0.8162 - val_loss: 0.4882 - val_accuracy: 0.7953 - lr: 1.0000e-05\n",
      "Epoch 83/100\n",
      "54/54 - 2s - loss: 0.4461 - accuracy: 0.8139 - val_loss: 0.4874 - val_accuracy: 0.7966 - lr: 1.0000e-05\n",
      "Epoch 84/100\n",
      "54/54 - 2s - loss: 0.4462 - accuracy: 0.8183 - val_loss: 0.4873 - val_accuracy: 0.7966 - lr: 1.0000e-05\n",
      "Epoch 85/100\n",
      "54/54 - 1s - loss: 0.4445 - accuracy: 0.8151 - val_loss: 0.4873 - val_accuracy: 0.7953 - lr: 1.0000e-05\n",
      "Epoch 86/100\n",
      "54/54 - 2s - loss: 0.4435 - accuracy: 0.8170 - val_loss: 0.4869 - val_accuracy: 0.7953 - lr: 1.0000e-05\n",
      "Epoch 87/100\n",
      "54/54 - 2s - loss: 0.4425 - accuracy: 0.8130 - val_loss: 0.4869 - val_accuracy: 0.7953 - lr: 1.0000e-05\n",
      "Epoch 88/100\n",
      "54/54 - 2s - loss: 0.4451 - accuracy: 0.8159 - val_loss: 0.4866 - val_accuracy: 0.7953 - lr: 1.0000e-05\n",
      "Epoch 89/100\n",
      "54/54 - 2s - loss: 0.4440 - accuracy: 0.8137 - val_loss: 0.4863 - val_accuracy: 0.7953 - lr: 1.0000e-05\n",
      "Epoch 90/100\n",
      "54/54 - 1s - loss: 0.4444 - accuracy: 0.8173 - val_loss: 0.4864 - val_accuracy: 0.7953 - lr: 1.0000e-05\n",
      "Epoch 91/100\n",
      "54/54 - 2s - loss: 0.4440 - accuracy: 0.8155 - val_loss: 0.4858 - val_accuracy: 0.7953 - lr: 1.0000e-05\n",
      "Epoch 92/100\n",
      "54/54 - 2s - loss: 0.4429 - accuracy: 0.8173 - val_loss: 0.4856 - val_accuracy: 0.7953 - lr: 1.0000e-05\n",
      "Epoch 93/100\n",
      "54/54 - 2s - loss: 0.4424 - accuracy: 0.8156 - val_loss: 0.4853 - val_accuracy: 0.7979 - lr: 1.0000e-05\n",
      "Epoch 94/100\n",
      "54/54 - 1s - loss: 0.4416 - accuracy: 0.8171 - val_loss: 0.4853 - val_accuracy: 0.7966 - lr: 1.0000e-05\n",
      "Epoch 95/100\n",
      "54/54 - 1s - loss: 0.4413 - accuracy: 0.8171 - val_loss: 0.4854 - val_accuracy: 0.7953 - lr: 1.0000e-05\n",
      "Epoch 96/100\n",
      "54/54 - 2s - loss: 0.4398 - accuracy: 0.8194 - val_loss: 0.4850 - val_accuracy: 0.7966 - lr: 1.0000e-05\n",
      "Epoch 97/100\n",
      "54/54 - 2s - loss: 0.4411 - accuracy: 0.8173 - val_loss: 0.4847 - val_accuracy: 0.7966 - lr: 1.0000e-05\n",
      "Epoch 98/100\n",
      "54/54 - 2s - loss: 0.4408 - accuracy: 0.8175 - val_loss: 0.4844 - val_accuracy: 0.7979 - lr: 1.0000e-05\n",
      "Epoch 99/100\n",
      "54/54 - 2s - loss: 0.4415 - accuracy: 0.8161 - val_loss: 0.4843 - val_accuracy: 0.7979 - lr: 1.0000e-05\n",
      "Epoch 100/100\n",
      "54/54 - 2s - loss: 0.4387 - accuracy: 0.8183 - val_loss: 0.4841 - val_accuracy: 0.7940 - lr: 1.0000e-05\n"
     ]
    }
   ],
   "source": [
    "#Create the model\n",
    "model = Sequential([\n",
    "    Embedding(input_dim = vocab_size, #number of unique words\n",
    "              output_dim = embedding_dim, #dimensions of dense embedding\n",
    "              embeddings_initializer = Constant(embedding_matrix), #initialize with GloVe’s word embeddings\n",
    "              input_length = seq_len, # sequence length \n",
    "              trainable = False), \n",
    "    Bidirectional(GRU(128, dropout = 0.1, return_sequences=True)),\n",
    "    Bidirectional(GRU(64, dropout = 0.2, kernel_regularizer=l2(1e-4))),\n",
    "    Dense(1, activation = 'sigmoid')\n",
    "])\n",
    "\n",
    "#model.compile(loss = 'binary_crossentropy', optimizer = SGD(lr=1e-3, momentum = 0.9, nesterov=True), metrics = ['accuracy'])\n",
    "model.compile(loss = 'binary_crossentropy', optimizer = Adam(lr=1e-5), metrics = ['accuracy'])\n",
    "\n",
    "model.summary()\n",
    "\n",
    "# Callbacks\n",
    "checkpoint = ModelCheckpoint(\"/content/drive/My Drive/Colab Notebooks/twitter.h5\",                                                 \n",
    "                              monitor = 'val_loss',                                                \n",
    "                              save_best_only=True) # save the model with the lowest val_loss\n",
    "\n",
    "early_stop = EarlyStopping(monitor = 'val_loss', patience=10)\n",
    "\n",
    "lr_scheduler = ReduceLROnPlateau(monitor='val_loss', patience=5, cooldown=1, verbose=1, factor=0.5)\n",
    "\n",
    "# Train the model\n",
    "history = model.fit(X_train, #padded sequences\n",
    "                    y_train, #labels\n",
    "                    batch_size=128, \n",
    "                    epochs=100, \n",
    "                    validation_data=(X_val, y_val),\n",
    "                    verbose=2,\n",
    "                    callbacks=[checkpoint, early_stop, lr_scheduler])"
   ]
  },
  {
   "cell_type": "code",
   "execution_count": 0,
   "metadata": {
    "colab": {},
    "colab_type": "code",
    "id": "o9avwyr4swR3"
   },
   "outputs": [],
   "source": [
    "def plot_graphs(history, string):\n",
    "    plt.plot(history.history[string])\n",
    "    plt.plot(history.history['val_' + string])\n",
    "    plt.xlabel(\"Epochs\")\n",
    "    plt.ylabel(string)\n",
    "    plt.legend(['train_' + string, 'val_' + string])"
   ]
  },
  {
   "cell_type": "code",
   "execution_count": 72,
   "metadata": {
    "colab": {
     "base_uri": "https://localhost:8080/",
     "height": 283
    },
    "colab_type": "code",
    "id": "M2G-0naUswR7",
    "outputId": "3f4efa51-ff36-4b5b-c0b2-ee0f17b6e15a"
   },
   "outputs": [
    {
     "data": {
      "image/png": "[encoded data removed]",
      "text/plain": [
       "<Figure size 432x288 with 1 Axes>"
      ]
     },
     "metadata": {
      "needs_background": "light",
      "tags": []
     },
     "output_type": "display_data"
    }
   ],
   "source": [
    "plot_graphs(history, \"loss\")"
   ]
  },
  {
   "cell_type": "code",
   "execution_count": 73,
   "metadata": {
    "colab": {
     "base_uri": "https://localhost:8080/",
     "height": 279
    },
    "colab_type": "code",
    "id": "lb6ONFpAswR9",
    "outputId": "a6ab54ad-d37b-45ec-8db3-3d11c94afabd"
   },
   "outputs": [
    {
     "data": {
      "image/png": "[encoded data removed]",
      "text/plain": [
       "<Figure size 432x288 with 1 Axes>"
      ]
     },
     "metadata": {
      "needs_background": "light",
      "tags": []
     },
     "output_type": "display_data"
    }
   ],
   "source": [
    "plot_graphs(history, \"accuracy\")"
   ]
  },
  {
   "cell_type": "code",
   "execution_count": 0,
   "metadata": {
    "colab": {},
    "colab_type": "code",
    "id": "mYpGhlSHswSA"
   },
   "outputs": [],
   "source": [
    "# Plot the loss VS LR\n",
    "# plt.semilogx(history.history[\"lr\"], history.history[\"loss\"])"
   ]
  },
  {
   "cell_type": "markdown",
   "metadata": {
    "colab_type": "text",
    "id": "Na9tjmxz1TgN"
   },
   "source": [
    "### Confusion Matrix"
   ]
  },
  {
   "cell_type": "code",
   "execution_count": 74,
   "metadata": {
    "colab": {
     "base_uri": "https://localhost:8080/",
     "height": 52
    },
    "colab_type": "code",
    "id": "ZKMpnj8B1RCx",
    "outputId": "bf024c9b-ce40-4d8f-ab0a-7c2ae80ae1c1"
   },
   "outputs": [
    {
     "data": {
      "text/plain": [
       "array([[386,  49],\n",
       "       [108, 219]])"
      ]
     },
     "execution_count": 74,
     "metadata": {
      "tags": []
     },
     "output_type": "execute_result"
    }
   ],
   "source": [
    "y_pred = model.predict (X_val) # outputs class probabilities\n",
    "y_pred = np.round(y_pred).astype(int).reshape((y_pred.shape[0])) # round probab to either 0 or 1\n",
    "\n",
    "y_true = y_val.reshape((y_val.shape[0])) \n",
    "\n",
    "conf = confusion_matrix (y_true, y_pred) \n",
    "conf"
   ]
  },
  {
   "cell_type": "code",
   "execution_count": 75,
   "metadata": {
    "colab": {
     "base_uri": "https://localhost:8080/",
     "height": 303
    },
    "colab_type": "code",
    "id": "T-2oCu3r5Y2C",
    "outputId": "85ec4a6c-aecb-47f0-fcb2-36092c2a52f6"
   },
   "outputs": [
    {
     "data": {
      "text/plain": [
       "Text(0, 0.5, 'True class')"
      ]
     },
     "execution_count": 75,
     "metadata": {
      "tags": []
     },
     "output_type": "execute_result"
    },
    {
     "data": {
      "image/png": "[encoded data removed]",
      "text/plain": [
       "<Figure size 288x288 with 1 Axes>"
      ]
     },
     "metadata": {
      "needs_background": "light",
      "tags": []
     },
     "output_type": "display_data"
    }
   ],
   "source": [
    "plt.matshow(conf, cmap='Blues') # darker blue = higher value\n",
    "plt.xlabel('Predicted class')\n",
    "plt.ylabel('True class')"
   ]
  },
  {
   "cell_type": "code",
   "execution_count": 76,
   "metadata": {
    "colab": {
     "base_uri": "https://localhost:8080/",
     "height": 87
    },
    "colab_type": "code",
    "id": "Udab9f3v85w_",
    "outputId": "e70ee977-b540-4a5b-bf19-a79f337a15a9"
   },
   "outputs": [
    {
     "name": "stdout",
     "output_type": "stream",
     "text": [
      "The model incorrectly classified 11% of 435 non-disaster tweets and 33% of 327 disaster tweets\n",
      "Precision: 0.82\n",
      "Recall: 0.67\n",
      "F1 score: 0.74\n"
     ]
    }
   ],
   "source": [
    "TP = conf[1,1] # true positives\n",
    "TN = conf[0,0] # true negatives\n",
    "FP = conf[0,1] # false positives\n",
    "FN = conf[1,0] # false negatives\n",
    "\n",
    "print(f\"The model incorrectly classified {FP/(TN+FP)*100:.0f}% of {val['target'].shape[0] - val['target'].sum()} non-disaster tweets and {FN/(FN+TP)*100:.0f}% of {val['target'].sum()} disaster tweets\")\n",
    "print(f\"Precision: {TP/(TP+FP):.2f}\") # precision = TP/TP+FP\n",
    "print(f\"Recall: {TP/(TP+FN):.2f}\") # recall = TP/TP+FN\n",
    "print(f\"F1 score: {2/(1/(TP/(TP+FP)) + 1/(TP/(TP+FN))):.2f}\") #f1 score = 2/(1/precision  +   1/recall)"
   ]
  },
  {
   "cell_type": "markdown",
   "metadata": {
    "colab_type": "text",
    "id": "oZ-BCyfUQqry"
   },
   "source": [
    "### Writing the misclassified tweets to CSV file to perform error analysis"
   ]
  },
  {
   "cell_type": "code",
   "execution_count": 0,
   "metadata": {
    "colab": {},
    "colab_type": "code",
    "id": "Y4fbX1gUpkF7"
   },
   "outputs": [],
   "source": [
    "# These setting below allow me to view the entire tweet\n",
    "pd.options.display.max_rows = None\n",
    "pd.options.display.max_columns = None\n",
    "pd.set_option('display.max_colwidth', 1000000)"
   ]
  },
  {
   "cell_type": "code",
   "execution_count": 0,
   "metadata": {
    "colab": {},
    "colab_type": "code",
    "id": "Y1CwoSuvoEzT"
   },
   "outputs": [],
   "source": [
    "df = val[y_pred != y_true].reset_index(drop=True) # raw version of the tweets which were inaccurately classified\n",
    "\n",
    "x_clean_wrong = tokenizer.sequences_to_texts(X_val[y_pred != y_true]) # get the cleaned tweets which were inaccurately classified\n",
    "df.insert(1,'Clean Text', x_clean_wrong) #insert the column (labelled as 'Clean Text') into df\n",
    "\n",
    "df = df.rename(columns = {'text':'Raw Text', 'target': 'Supposed to be'})\n",
    "\n",
    "df.to_csv('/content/drive/My Drive/Colab Notebooks/error_analysis.csv', index = False)"
   ]
  },
  {
   "cell_type": "markdown",
   "metadata": {
    "colab_type": "text",
    "id": "C_kuZnKo-C5z"
   },
   "source": [
    "# Submission"
   ]
  },
  {
   "cell_type": "code",
   "execution_count": 0,
   "metadata": {
    "colab": {},
    "colab_type": "code",
    "id": "X_RYKYs67Akm"
   },
   "outputs": [],
   "source": [
    "model = load_model('/content/drive/My Drive/Colab Notebooks/twitter.h5') "
   ]
  },
  {
   "cell_type": "code",
   "execution_count": 0,
   "metadata": {
    "colab": {},
    "colab_type": "code",
    "id": "MYx7hdMT_Y0F"
   },
   "outputs": [],
   "source": [
    "submission = pd.read_csv('/content/drive/My Drive/Colab Notebooks/test.csv')\n",
    "\n",
    "submit_id = submission['id']\n",
    "submission.drop(['id','keyword','location'], axis=1, inplace = True) \n",
    "\n",
    "submission_padded = full_transform(submission)"
   ]
  },
  {
   "cell_type": "code",
   "execution_count": 0,
   "metadata": {
    "colab": {},
    "colab_type": "code",
    "id": "FmXOohh_-GJ-"
   },
   "outputs": [],
   "source": [
    "y_pred = model.predict (submission_padded) # class probabilities\n",
    "y_pred = np.round(y_pred).astype(int).reshape((y_pred.shape[0])) # round to 0 to 1"
   ]
  },
  {
   "cell_type": "code",
   "execution_count": 0,
   "metadata": {
    "colab": {},
    "colab_type": "code",
    "id": "cxZ2v4Zc_BEM"
   },
   "outputs": [],
   "source": [
    "df = pd.DataFrame({'id': submit_id, 'target': y_pred})\n",
    "df.to_csv('/content/drive/My Drive/Colab Notebooks/twitter_submission_1.csv', index = False)"
   ]
  }
 ],
 "metadata": {
  "accelerator": "GPU",
  "colab": {
   "collapsed_sections": [
    "BocUngvCkOJ0"
   ],
   "name": "Kaggle - Twitter Disaster NLP - v5.ipynb",
   "provenance": []
  },
  "kernelspec": {
   "display_name": "Python 3",
   "language": "python",
   "name": "python3"
  },
  "language_info": {
   "codemirror_mode": {
    "name": "ipython",
    "version": 3
   },
   "file_extension": ".py",
   "mimetype": "text/x-python",
   "name": "python",
   "nbconvert_exporter": "python",
   "pygments_lexer": "ipython3",
   "version": "3.7.5"
  }
 },
 "nbformat": 4,
 "nbformat_minor": 1
}
